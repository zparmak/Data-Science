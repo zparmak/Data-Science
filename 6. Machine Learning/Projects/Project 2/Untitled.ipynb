{
 "cells": [
  {
   "cell_type": "code",
   "execution_count": null,
   "id": "fbb0adc8",
   "metadata": {},
   "outputs": [],
   "source": [
    "penalty = [\"l1\", \"l2\"]\n",
    "C = [0.01, 0.1, 1, 5, 16, 19, 22, 25]\n",
    "\n",
    "param_grid = {\"logistic__penalty\" : penalty,\n",
    "             \"logistic__C\" : C}"
   ]
  },
  {
   "cell_type": "code",
   "execution_count": null,
   "id": "d7f14b03",
   "metadata": {},
   "outputs": [],
   "source": [
    "grid_model = GridSearchCV(model, param_grid = param_grid, cv=5, return_train_score=True) \n",
    "scoring = make_scorer(f1_score, average = None, labels =[\"Hispanic\"]) \n",
    "\n",
    "# scoring clasification datalarında default olarak acuuracy'dir. Eğer özellikle bir sınıfa ait metriclerin iyileştirilmesini\n",
    "# istiyorsak yukarda scoring parametresi olarak make_scorer fonksiyonunu tanımlamalıyız.\n",
    "\n",
    "# Eğer modelin Hispanic classının f1_scorunu iyileştirecek şekilde en iyi paramatreleri bulmasını istesydik,\n",
    "# scoring = make_scorer(f1_score, average = None, labels =[\"Hispanic\"]) olarak düzenlemeliydik."
   ]
  },
  {
   "cell_type": "code",
   "execution_count": null,
   "id": "ed2473a1",
   "metadata": {},
   "outputs": [],
   "source": [
    "grid_model.fit(X_train,y_train)"
   ]
  },
  {
   "cell_type": "code",
   "execution_count": null,
   "id": "f564518b",
   "metadata": {},
   "outputs": [],
   "source": [
    "grid_model.best_params_"
   ]
  },
  {
   "cell_type": "code",
   "execution_count": null,
   "id": "24e23b28",
   "metadata": {},
   "outputs": [],
   "source": [
    "grid_model.best_estimator_"
   ]
  },
  {
   "cell_type": "code",
   "execution_count": null,
   "id": "21a802c9",
   "metadata": {},
   "outputs": [],
   "source": [
    "pd.DataFrame(grid_model.cv_results_).loc[grid_model.best_index_, [\"mean_test_score\", \"mean_train_score\"]]"
   ]
  }
 ],
 "metadata": {
  "kernelspec": {
   "display_name": "Python 3 (ipykernel)",
   "language": "python",
   "name": "python3"
  },
  "language_info": {
   "codemirror_mode": {
    "name": "ipython",
    "version": 3
   },
   "file_extension": ".py",
   "mimetype": "text/x-python",
   "name": "python",
   "nbconvert_exporter": "python",
   "pygments_lexer": "ipython3",
   "version": "3.9.12"
  }
 },
 "nbformat": 4,
 "nbformat_minor": 5
}
