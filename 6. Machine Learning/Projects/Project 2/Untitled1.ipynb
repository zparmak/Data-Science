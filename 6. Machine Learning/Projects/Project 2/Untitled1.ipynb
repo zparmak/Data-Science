{
 "cells": [
  {
   "cell_type": "code",
   "execution_count": null,
   "id": "369a9dc8",
   "metadata": {},
   "outputs": [],
   "source": [
    "#data procesing"
   ]
  },
  {
   "cell_type": "code",
   "execution_count": null,
   "id": "9582e6e6",
   "metadata": {},
   "outputs": [],
   "source": [
    "X= data.drop(\"DODRace\",axis=1)\n",
    "X = pd.get_dummies(data=X,drop_first=True)\n",
    "y= data.DODRace"
   ]
  },
  {
   "cell_type": "code",
   "execution_count": null,
   "id": "6d24037e",
   "metadata": {},
   "outputs": [],
   "source": [
    "X_train, X_test, y_train, y_test = train_test_split(X, y, test_size=0.2, random_state=6, stratify =y)"
   ]
  },
  {
   "cell_type": "code",
   "execution_count": null,
   "id": "52a91118",
   "metadata": {},
   "outputs": [],
   "source": [
    "scaler =MinMaxScaler()\n",
    "X_train = scaler.fit_transform(X_train)\n",
    "X_test = scaler.transform(X_test)"
   ]
  },
  {
   "cell_type": "code",
   "execution_count": null,
   "id": "f5f6da91",
   "metadata": {},
   "outputs": [],
   "source": []
  },
  {
   "cell_type": "code",
   "execution_count": null,
   "id": "a129575b",
   "metadata": {},
   "outputs": [],
   "source": [
    "operations = [(\"OneHotEncoder\", column_trans),(\"scaler\", MinMaxScaler()), (\"logistic\", LogisticRegression())]\n",
    "\n",
    "model = Pipeline(steps=operations)\n",
    "\n",
    "model.get_params()"
   ]
  },
  {
   "cell_type": "code",
   "execution_count": null,
   "id": "3358374f",
   "metadata": {},
   "outputs": [],
   "source": [
    "penalty = [\"l1\", \"l2\"]\n",
    "C = [0.01, 0.1, 1, 5, 16, 19, 22, 25]\n",
    "\n",
    "param_grid = {\"logistic__penalty\" : penalty,\n",
    "             \"logistic__C\" : C}"
   ]
  },
  {
   "cell_type": "code",
   "execution_count": null,
   "id": "55b1cea4",
   "metadata": {},
   "outputs": [],
   "source": [
    "grid_model_log = GridSearchCV(model, param_grid = param_grid, cv=5, return_train_score=True) \n",
    "#scoring = f1_Hispanic = make_scorer(f1_score, average = None, labels =[\"Hispanic\"]) \n",
    "\n",
    "# scoring clasification datalarında default olarak acuuracy'dir. Eğer özellikle bir sınıfa ait metriclerin iyileştirilmesini\n",
    "# istiyorsak yukarda scoring parametresi olarak make_scorer fonksiyonunu tanımlamalıyız.\n",
    "\n",
    "# Eğer modelin Hispanic classının f1_scorunu iyileştirecek şekilde en iyi paramatreleri bulmasını istesydik,\n",
    "# scoring = make_scorer(f1_score, average = None, labels =[\"versicolor\"]) olarak düzenlemeliydik."
   ]
  },
  {
   "cell_type": "code",
   "execution_count": null,
   "id": "dfd035a4",
   "metadata": {},
   "outputs": [],
   "source": [
    "grid_model_log.fit(X_train,y_train)"
   ]
  },
  {
   "cell_type": "code",
   "execution_count": null,
   "id": "a1edd02d",
   "metadata": {},
   "outputs": [],
   "source": [
    "grid_model_log.best_params_"
   ]
  },
  {
   "cell_type": "code",
   "execution_count": null,
   "id": "078d7612",
   "metadata": {},
   "outputs": [],
   "source": [
    "grid_model_log.best_estimator_"
   ]
  },
  {
   "cell_type": "code",
   "execution_count": null,
   "id": "f13e36cd",
   "metadata": {},
   "outputs": [],
   "source": [
    "pd.DataFrame(grid_model_log.cv_results_).loc[grid_model_log.best_index_, [\"mean_test_score\", \"mean_train_score\"]]"
   ]
  },
  {
   "cell_type": "code",
   "execution_count": null,
   "id": "c145ada1",
   "metadata": {},
   "outputs": [],
   "source": [
    "y_pred = grid_model_log.predict(X_test)\n",
    "y_pred"
   ]
  },
  {
   "cell_type": "code",
   "execution_count": null,
   "id": "ad924b9b",
   "metadata": {},
   "outputs": [],
   "source": [
    "ConfusionMatrixDisplay.from_estimator(grid_model_log, X_test, y_test);"
   ]
  },
  {
   "cell_type": "code",
   "execution_count": null,
   "id": "8c410eda",
   "metadata": {},
   "outputs": [],
   "source": [
    "eval_metric(grid_model, X_train, y_train, X_test, y_test)"
   ]
  },
  {
   "cell_type": "code",
   "execution_count": null,
   "id": "9c1e3dfb",
   "metadata": {},
   "outputs": [],
   "source": [
    "from yellowbrick.classifier import PrecisionRecallCurve\n",
    "\n",
    "operations = [(\"OneHotEncoder\", column_trans), (\"log\", LogisticRegression(class_weight='balanced',max_iter=10000,\n",
    "                                                                          random_state=101))]\n",
    "\n",
    "model = Pipeline(steps=operations)\n",
    "\n",
    "viz = PrecisionRecallCurve(\n",
    "    model,\n",
    "    per_class=True, classes= [\"Black\", \"Hispanic\", \"White\"],\n",
    "    cmap=\"Set1\"\n",
    ")\n",
    "viz.fit(X_train, y_train)\n",
    "viz.score(X_test, y_test)\n",
    "viz.show();"
   ]
  },
  {
   "cell_type": "code",
   "execution_count": null,
   "id": "c35da437",
   "metadata": {},
   "outputs": [],
   "source": [
    "viz.score_#[\"Hispanic\"]"
   ]
  },
  {
   "cell_type": "code",
   "execution_count": null,
   "id": "2bc1c41c",
   "metadata": {},
   "outputs": [],
   "source": [
    "y_pred = grid_model.predict(X_test)\n",
    "\n",
    "log_AP = viz.score_[\"Hispanic\"]\n",
    "log_f1 = f1_score(y_test, y_pred, average=None, labels=[\"Hispanic\"])\n",
    "log_recall = recall_score(y_test, y_pred, average=None, labels=[\"Hispanic\"])"
   ]
  },
  {
   "cell_type": "code",
   "execution_count": null,
   "id": "b02c9504",
   "metadata": {},
   "outputs": [],
   "source": [
    "penalty = [\"l1\", \"l2\"]\n",
    "C = [0.01, 0.1, 1, 5, 16, 19, 22, 25]\n",
    "\n",
    "param_grid = {\"logistic__penalty\" : penalty,\n",
    "             \"logistic__C\" : C}"
   ]
  },
  {
   "cell_type": "code",
   "execution_count": null,
   "id": "21a6ebe4",
   "metadata": {},
   "outputs": [],
   "source": [
    "\n",
    "f1_Hispanic = make_scorer(f1_score, average = None, labels =[\"Hispanic\"]) \n",
    "\n",
    "# scoring clasification datalarında default olarak acuuracy'dir. Eğer özellikle bir sınıfa ait metriclerin iyileştirilmesini\n",
    "# istiyorsak yukarda scoring parametresi olarak make_scorer fonksiyonunu tanımlamalıyız.\n",
    "\n",
    "# Eğer modelin Hispanic classının f1_scorunu iyileştirecek şekilde en iyi paramatreleri bulmasını istesydik,\n",
    "# scoring = make_scorer(f1_score, average = None, labels =[\"Hispanic\"]) olarak düzenlemeliydik."
   ]
  },
  {
   "cell_type": "code",
   "execution_count": null,
   "id": "2b05d9b2",
   "metadata": {},
   "outputs": [],
   "source": []
  },
  {
   "cell_type": "code",
   "execution_count": null,
   "id": "ff923ee0",
   "metadata": {},
   "outputs": [],
   "source": []
  },
  {
   "cell_type": "code",
   "execution_count": null,
   "id": "45529ea2",
   "metadata": {},
   "outputs": [],
   "source": []
  }
 ],
 "metadata": {
  "kernelspec": {
   "display_name": "Python 3 (ipykernel)",
   "language": "python",
   "name": "python3"
  },
  "language_info": {
   "codemirror_mode": {
    "name": "ipython",
    "version": 3
   },
   "file_extension": ".py",
   "mimetype": "text/x-python",
   "name": "python",
   "nbconvert_exporter": "python",
   "pygments_lexer": "ipython3",
   "version": "3.9.12"
  }
 },
 "nbformat": 4,
 "nbformat_minor": 5
}
