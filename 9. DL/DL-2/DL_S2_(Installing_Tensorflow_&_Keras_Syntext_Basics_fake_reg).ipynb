{
 "cells": [
  {
   "cell_type": "markdown",
   "metadata": {
    "id": "yQGQcaYcYF_5"
   },
   "source": [
    "___\n",
    "\n",
    "<p style=\"text-align: center;\"><img src=\"https://docs.google.com/uc?id=1lY0Uj5R04yMY3-ZppPWxqCr5pvBLYPnV\" class=\"img-fluid\" alt=\"CLRSWY\"></p>\n",
    "\n",
    "___"
   ]
  },
  {
   "cell_type": "markdown",
   "metadata": {
    "id": "bV_OY9eBYF_7"
   },
   "source": [
    "<h1 style=\"text-align: center;\">Deep Learning<br><br>Session - 2<br><br>Installing Tensorflow & Keras Syntax Basics<br><br>Fake Reg<br><h1>"
   ]
  },
  {
   "cell_type": "markdown",
   "metadata": {
    "id": "AVMFCWTuYF_7"
   },
   "source": [
    "# Installing Tensorflow"
   ]
  },
  {
   "cell_type": "code",
   "execution_count": 1,
   "metadata": {
    "id": "XoN32SvMYF_-"
   },
   "outputs": [
    {
     "name": "stdout",
     "output_type": "stream",
     "text": [
      "Requirement already satisfied: tensorflow in c:\\users\\prmkz\\anaconda3\\lib\\site-packages (2.12.0)\n",
      "Requirement already satisfied: tensorflow-intel==2.12.0 in c:\\users\\prmkz\\anaconda3\\lib\\site-packages (from tensorflow) (2.12.0)\n",
      "Requirement already satisfied: opt-einsum>=2.3.2 in c:\\users\\prmkz\\anaconda3\\lib\\site-packages (from tensorflow-intel==2.12.0->tensorflow) (3.3.0)\n",
      "Requirement already satisfied: tensorflow-io-gcs-filesystem>=0.23.1 in c:\\users\\prmkz\\anaconda3\\lib\\site-packages (from tensorflow-intel==2.12.0->tensorflow) (0.31.0)\n",
      "Requirement already satisfied: wrapt<1.15,>=1.11.0 in c:\\users\\prmkz\\anaconda3\\lib\\site-packages (from tensorflow-intel==2.12.0->tensorflow) (1.14.1)\n",
      "Requirement already satisfied: keras<2.13,>=2.12.0 in c:\\users\\prmkz\\anaconda3\\lib\\site-packages (from tensorflow-intel==2.12.0->tensorflow) (2.12.0)\n",
      "Requirement already satisfied: setuptools in c:\\users\\prmkz\\anaconda3\\lib\\site-packages (from tensorflow-intel==2.12.0->tensorflow) (65.6.3)\n",
      "Requirement already satisfied: h5py>=2.9.0 in c:\\users\\prmkz\\anaconda3\\lib\\site-packages (from tensorflow-intel==2.12.0->tensorflow) (3.7.0)\n",
      "Requirement already satisfied: jax>=0.3.15 in c:\\users\\prmkz\\anaconda3\\lib\\site-packages (from tensorflow-intel==2.12.0->tensorflow) (0.4.9)\n",
      "Requirement already satisfied: absl-py>=1.0.0 in c:\\users\\prmkz\\anaconda3\\lib\\site-packages (from tensorflow-intel==2.12.0->tensorflow) (1.4.0)\n",
      "Requirement already satisfied: numpy<1.24,>=1.22 in c:\\users\\prmkz\\anaconda3\\lib\\site-packages (from tensorflow-intel==2.12.0->tensorflow) (1.23.5)\n",
      "Requirement already satisfied: tensorflow-estimator<2.13,>=2.12.0 in c:\\users\\prmkz\\anaconda3\\lib\\site-packages (from tensorflow-intel==2.12.0->tensorflow) (2.12.0)\n",
      "Requirement already satisfied: tensorboard<2.13,>=2.12 in c:\\users\\prmkz\\anaconda3\\lib\\site-packages (from tensorflow-intel==2.12.0->tensorflow) (2.12.3)\n",
      "Requirement already satisfied: protobuf!=4.21.0,!=4.21.1,!=4.21.2,!=4.21.3,!=4.21.4,!=4.21.5,<5.0.0dev,>=3.20.3 in c:\\users\\prmkz\\anaconda3\\lib\\site-packages (from tensorflow-intel==2.12.0->tensorflow) (4.23.0)\n",
      "Requirement already satisfied: packaging in c:\\users\\prmkz\\anaconda3\\lib\\site-packages (from tensorflow-intel==2.12.0->tensorflow) (22.0)\n",
      "Requirement already satisfied: six>=1.12.0 in c:\\users\\prmkz\\anaconda3\\lib\\site-packages (from tensorflow-intel==2.12.0->tensorflow) (1.16.0)\n",
      "Requirement already satisfied: gast<=0.4.0,>=0.2.1 in c:\\users\\prmkz\\anaconda3\\lib\\site-packages (from tensorflow-intel==2.12.0->tensorflow) (0.4.0)\n",
      "Requirement already satisfied: termcolor>=1.1.0 in c:\\users\\prmkz\\anaconda3\\lib\\site-packages (from tensorflow-intel==2.12.0->tensorflow) (2.3.0)\n",
      "Requirement already satisfied: grpcio<2.0,>=1.24.3 in c:\\users\\prmkz\\anaconda3\\lib\\site-packages (from tensorflow-intel==2.12.0->tensorflow) (1.54.0)\n",
      "Requirement already satisfied: google-pasta>=0.1.1 in c:\\users\\prmkz\\anaconda3\\lib\\site-packages (from tensorflow-intel==2.12.0->tensorflow) (0.2.0)\n",
      "Requirement already satisfied: flatbuffers>=2.0 in c:\\users\\prmkz\\anaconda3\\lib\\site-packages (from tensorflow-intel==2.12.0->tensorflow) (23.5.9)\n",
      "Requirement already satisfied: libclang>=13.0.0 in c:\\users\\prmkz\\anaconda3\\lib\\site-packages (from tensorflow-intel==2.12.0->tensorflow) (16.0.0)\n",
      "Requirement already satisfied: astunparse>=1.6.0 in c:\\users\\prmkz\\anaconda3\\lib\\site-packages (from tensorflow-intel==2.12.0->tensorflow) (1.6.3)\n",
      "Requirement already satisfied: typing-extensions>=3.6.6 in c:\\users\\prmkz\\anaconda3\\lib\\site-packages (from tensorflow-intel==2.12.0->tensorflow) (4.4.0)\n",
      "Requirement already satisfied: wheel<1.0,>=0.23.0 in c:\\users\\prmkz\\anaconda3\\lib\\site-packages (from astunparse>=1.6.0->tensorflow-intel==2.12.0->tensorflow) (0.38.4)\n",
      "Requirement already satisfied: ml-dtypes>=0.1.0 in c:\\users\\prmkz\\anaconda3\\lib\\site-packages (from jax>=0.3.15->tensorflow-intel==2.12.0->tensorflow) (0.1.0)\n",
      "Requirement already satisfied: scipy>=1.7 in c:\\users\\prmkz\\anaconda3\\lib\\site-packages (from jax>=0.3.15->tensorflow-intel==2.12.0->tensorflow) (1.10.0)\n",
      "Requirement already satisfied: markdown>=2.6.8 in c:\\users\\prmkz\\anaconda3\\lib\\site-packages (from tensorboard<2.13,>=2.12->tensorflow-intel==2.12.0->tensorflow) (3.4.1)\n",
      "Requirement already satisfied: tensorboard-data-server<0.8.0,>=0.7.0 in c:\\users\\prmkz\\anaconda3\\lib\\site-packages (from tensorboard<2.13,>=2.12->tensorflow-intel==2.12.0->tensorflow) (0.7.0)\n",
      "Requirement already satisfied: google-auth<3,>=1.6.3 in c:\\users\\prmkz\\anaconda3\\lib\\site-packages (from tensorboard<2.13,>=2.12->tensorflow-intel==2.12.0->tensorflow) (2.18.0)\n",
      "Requirement already satisfied: requests<3,>=2.21.0 in c:\\users\\prmkz\\anaconda3\\lib\\site-packages (from tensorboard<2.13,>=2.12->tensorflow-intel==2.12.0->tensorflow) (2.28.1)\n",
      "Requirement already satisfied: werkzeug>=1.0.1 in c:\\users\\prmkz\\anaconda3\\lib\\site-packages (from tensorboard<2.13,>=2.12->tensorflow-intel==2.12.0->tensorflow) (2.2.2)\n",
      "Requirement already satisfied: google-auth-oauthlib<1.1,>=0.5 in c:\\users\\prmkz\\anaconda3\\lib\\site-packages (from tensorboard<2.13,>=2.12->tensorflow-intel==2.12.0->tensorflow) (1.0.0)\n",
      "Requirement already satisfied: urllib3<2.0 in c:\\users\\prmkz\\anaconda3\\lib\\site-packages (from google-auth<3,>=1.6.3->tensorboard<2.13,>=2.12->tensorflow-intel==2.12.0->tensorflow) (1.26.14)\n",
      "Requirement already satisfied: rsa<5,>=3.1.4 in c:\\users\\prmkz\\anaconda3\\lib\\site-packages (from google-auth<3,>=1.6.3->tensorboard<2.13,>=2.12->tensorflow-intel==2.12.0->tensorflow) (4.9)\n",
      "Requirement already satisfied: pyasn1-modules>=0.2.1 in c:\\users\\prmkz\\anaconda3\\lib\\site-packages (from google-auth<3,>=1.6.3->tensorboard<2.13,>=2.12->tensorflow-intel==2.12.0->tensorflow) (0.2.8)\n",
      "Requirement already satisfied: cachetools<6.0,>=2.0.0 in c:\\users\\prmkz\\anaconda3\\lib\\site-packages (from google-auth<3,>=1.6.3->tensorboard<2.13,>=2.12->tensorflow-intel==2.12.0->tensorflow) (5.3.0)\n",
      "Requirement already satisfied: requests-oauthlib>=0.7.0 in c:\\users\\prmkz\\anaconda3\\lib\\site-packages (from google-auth-oauthlib<1.1,>=0.5->tensorboard<2.13,>=2.12->tensorflow-intel==2.12.0->tensorflow) (1.3.1)\n",
      "Requirement already satisfied: idna<4,>=2.5 in c:\\users\\prmkz\\anaconda3\\lib\\site-packages (from requests<3,>=2.21.0->tensorboard<2.13,>=2.12->tensorflow-intel==2.12.0->tensorflow) (3.4)\n",
      "Requirement already satisfied: certifi>=2017.4.17 in c:\\users\\prmkz\\anaconda3\\lib\\site-packages (from requests<3,>=2.21.0->tensorboard<2.13,>=2.12->tensorflow-intel==2.12.0->tensorflow) (2023.5.7)\n",
      "Requirement already satisfied: charset-normalizer<3,>=2 in c:\\users\\prmkz\\anaconda3\\lib\\site-packages (from requests<3,>=2.21.0->tensorboard<2.13,>=2.12->tensorflow-intel==2.12.0->tensorflow) (2.0.4)\n",
      "Requirement already satisfied: MarkupSafe>=2.1.1 in c:\\users\\prmkz\\anaconda3\\lib\\site-packages (from werkzeug>=1.0.1->tensorboard<2.13,>=2.12->tensorflow-intel==2.12.0->tensorflow) (2.1.1)\n",
      "Requirement already satisfied: pyasn1<0.5.0,>=0.4.6 in c:\\users\\prmkz\\anaconda3\\lib\\site-packages (from pyasn1-modules>=0.2.1->google-auth<3,>=1.6.3->tensorboard<2.13,>=2.12->tensorflow-intel==2.12.0->tensorflow) (0.4.8)\n",
      "Requirement already satisfied: oauthlib>=3.0.0 in c:\\users\\prmkz\\anaconda3\\lib\\site-packages (from requests-oauthlib>=0.7.0->google-auth-oauthlib<1.1,>=0.5->tensorboard<2.13,>=2.12->tensorflow-intel==2.12.0->tensorflow) (3.2.2)\n",
      "Note: you may need to restart the kernel to use updated packages.\n"
     ]
    }
   ],
   "source": [
    "pip install tensorflow"
   ]
  },
  {
   "cell_type": "code",
   "execution_count": 3,
   "metadata": {
    "colab": {
     "base_uri": "https://localhost:8080/",
     "height": 35
    },
    "id": "PJmTZvrkYF_-",
    "outputId": "e8f45c40-96c7-41bf-c71f-a5e22b926927"
   },
   "outputs": [
    {
     "data": {
      "text/plain": [
       "'2.12.0'"
      ]
     },
     "execution_count": 3,
     "metadata": {},
     "output_type": "execute_result"
    }
   ],
   "source": [
    "import tensorflow as tf\n",
    "tf.__version__\n",
    "# Google, TensorFlow'u sürekli olarak güncelleştirir ve yeni versionlar yayınlar."
   ]
  },
  {
   "cell_type": "markdown",
   "metadata": {
    "id": "ID58GLICYF__"
   },
   "source": [
    "# Keras Syntax Basics"
   ]
  },
  {
   "cell_type": "code",
   "execution_count": 4,
   "metadata": {
    "id": "ltaJwcuGYF__"
   },
   "outputs": [],
   "source": [
    "import numpy as np\n",
    "import pandas as pd\n",
    "import matplotlib.pyplot as plt\n",
    "import seaborn as sns\n",
    "\n",
    "import warnings\n",
    "warnings.filterwarnings(\"ignore\")\n",
    "warnings.warn(\"this will not show\")\n",
    "\n",
    "plt.rcParams[\"figure.figsize\"] = (8,6)\n",
    "\n",
    "sns.set_style(\"whitegrid\")\n",
    "pd.set_option('display.float_format', lambda x: '%.3f' % x)\n",
    "\n",
    "# Set it None to display all rows in the dataframe\n",
    "# pd.set_option('display.max_rows', None)\n",
    "\n",
    "# Set it to None to display all columns in the dataframe\n",
    "pd.set_option('display.max_columns', None)"
   ]
  },
  {
   "cell_type": "code",
   "execution_count": 4,
   "metadata": {
    "colab": {
     "base_uri": "https://localhost:8080/"
    },
    "id": "_ZmgVPfxYGAA",
    "outputId": "c4b5c7f9-aa1d-4752-d331-cfed2ef3befb"
   },
   "outputs": [],
   "source": [
    "# from google.colab import drive\n",
    "# drive.mount('/content/drive')"
   ]
  },
  {
   "cell_type": "code",
   "execution_count": 5,
   "metadata": {
    "id": "GpeUB7FNYGAA"
   },
   "outputs": [],
   "source": [
    "# df = pd.read_csv(\"/content/drive/MyDrive/fake_reg.csv\")"
   ]
  },
  {
   "cell_type": "code",
   "execution_count": 5,
   "metadata": {},
   "outputs": [],
   "source": [
    "df = pd.read_csv(\"fake_reg.csv\")"
   ]
  },
  {
   "cell_type": "markdown",
   "metadata": {
    "id": "kLE5OOGyYGAC"
   },
   "source": [
    "## Exploratory Data Analysis and Visualization"
   ]
  },
  {
   "cell_type": "code",
   "execution_count": 6,
   "metadata": {
    "colab": {
     "base_uri": "https://localhost:8080/",
     "height": 206
    },
    "id": "CaLCY4fmYGAC",
    "outputId": "9727de59-b4e5-445c-fac4-a3aa891ca759"
   },
   "outputs": [
    {
     "data": {
      "text/html": [
       "<div>\n",
       "<style scoped>\n",
       "    .dataframe tbody tr th:only-of-type {\n",
       "        vertical-align: middle;\n",
       "    }\n",
       "\n",
       "    .dataframe tbody tr th {\n",
       "        vertical-align: top;\n",
       "    }\n",
       "\n",
       "    .dataframe thead th {\n",
       "        text-align: right;\n",
       "    }\n",
       "</style>\n",
       "<table border=\"1\" class=\"dataframe\">\n",
       "  <thead>\n",
       "    <tr style=\"text-align: right;\">\n",
       "      <th></th>\n",
       "      <th>price</th>\n",
       "      <th>feature1</th>\n",
       "      <th>feature2</th>\n",
       "    </tr>\n",
       "  </thead>\n",
       "  <tbody>\n",
       "    <tr>\n",
       "      <th>0</th>\n",
       "      <td>461.528</td>\n",
       "      <td>999.788</td>\n",
       "      <td>999.766</td>\n",
       "    </tr>\n",
       "    <tr>\n",
       "      <th>1</th>\n",
       "      <td>548.130</td>\n",
       "      <td>998.862</td>\n",
       "      <td>1001.042</td>\n",
       "    </tr>\n",
       "    <tr>\n",
       "      <th>2</th>\n",
       "      <td>410.297</td>\n",
       "      <td>1000.070</td>\n",
       "      <td>998.844</td>\n",
       "    </tr>\n",
       "    <tr>\n",
       "      <th>3</th>\n",
       "      <td>540.382</td>\n",
       "      <td>999.952</td>\n",
       "      <td>1000.441</td>\n",
       "    </tr>\n",
       "    <tr>\n",
       "      <th>4</th>\n",
       "      <td>546.025</td>\n",
       "      <td>1000.446</td>\n",
       "      <td>1000.339</td>\n",
       "    </tr>\n",
       "  </tbody>\n",
       "</table>\n",
       "</div>"
      ],
      "text/plain": [
       "    price  feature1  feature2\n",
       "0 461.528   999.788   999.766\n",
       "1 548.130   998.862  1001.042\n",
       "2 410.297  1000.070   998.844\n",
       "3 540.382   999.952  1000.441\n",
       "4 546.025  1000.446  1000.339"
      ]
     },
     "execution_count": 6,
     "metadata": {},
     "output_type": "execute_result"
    }
   ],
   "source": [
    "df.head()"
   ]
  },
  {
   "cell_type": "code",
   "execution_count": 7,
   "metadata": {
    "colab": {
     "base_uri": "https://localhost:8080/"
    },
    "id": "j5NcInMDYGAD",
    "outputId": "ee207e55-600a-4ce0-cff4-7f1b0c24fc66"
   },
   "outputs": [
    {
     "name": "stdout",
     "output_type": "stream",
     "text": [
      "<class 'pandas.core.frame.DataFrame'>\n",
      "RangeIndex: 1000 entries, 0 to 999\n",
      "Data columns (total 3 columns):\n",
      " #   Column    Non-Null Count  Dtype  \n",
      "---  ------    --------------  -----  \n",
      " 0   price     1000 non-null   float64\n",
      " 1   feature1  1000 non-null   float64\n",
      " 2   feature2  1000 non-null   float64\n",
      "dtypes: float64(3)\n",
      "memory usage: 23.6 KB\n"
     ]
    }
   ],
   "source": [
    "df.info()"
   ]
  },
  {
   "cell_type": "code",
   "execution_count": 8,
   "metadata": {
    "colab": {
     "base_uri": "https://localhost:8080/",
     "height": 143
    },
    "id": "Gy5QaohhYGAD",
    "outputId": "84d67569-9609-4722-8070-d67a013a881e"
   },
   "outputs": [
    {
     "data": {
      "text/html": [
       "<div>\n",
       "<style scoped>\n",
       "    .dataframe tbody tr th:only-of-type {\n",
       "        vertical-align: middle;\n",
       "    }\n",
       "\n",
       "    .dataframe tbody tr th {\n",
       "        vertical-align: top;\n",
       "    }\n",
       "\n",
       "    .dataframe thead th {\n",
       "        text-align: right;\n",
       "    }\n",
       "</style>\n",
       "<table border=\"1\" class=\"dataframe\">\n",
       "  <thead>\n",
       "    <tr style=\"text-align: right;\">\n",
       "      <th></th>\n",
       "      <th>count</th>\n",
       "      <th>mean</th>\n",
       "      <th>std</th>\n",
       "      <th>min</th>\n",
       "      <th>25%</th>\n",
       "      <th>50%</th>\n",
       "      <th>75%</th>\n",
       "      <th>max</th>\n",
       "    </tr>\n",
       "  </thead>\n",
       "  <tbody>\n",
       "    <tr>\n",
       "      <th>price</th>\n",
       "      <td>1000.000</td>\n",
       "      <td>498.673</td>\n",
       "      <td>93.785</td>\n",
       "      <td>223.347</td>\n",
       "      <td>433.026</td>\n",
       "      <td>502.382</td>\n",
       "      <td>564.922</td>\n",
       "      <td>774.408</td>\n",
       "    </tr>\n",
       "    <tr>\n",
       "      <th>feature1</th>\n",
       "      <td>1000.000</td>\n",
       "      <td>1000.014</td>\n",
       "      <td>0.974</td>\n",
       "      <td>997.058</td>\n",
       "      <td>999.332</td>\n",
       "      <td>1000.010</td>\n",
       "      <td>1000.638</td>\n",
       "      <td>1003.208</td>\n",
       "    </tr>\n",
       "    <tr>\n",
       "      <th>feature2</th>\n",
       "      <td>1000.000</td>\n",
       "      <td>999.980</td>\n",
       "      <td>0.948</td>\n",
       "      <td>996.996</td>\n",
       "      <td>999.316</td>\n",
       "      <td>1000.002</td>\n",
       "      <td>1000.645</td>\n",
       "      <td>1002.666</td>\n",
       "    </tr>\n",
       "  </tbody>\n",
       "</table>\n",
       "</div>"
      ],
      "text/plain": [
       "            count     mean    std     min     25%      50%      75%      max\n",
       "price    1000.000  498.673 93.785 223.347 433.026  502.382  564.922  774.408\n",
       "feature1 1000.000 1000.014  0.974 997.058 999.332 1000.010 1000.638 1003.208\n",
       "feature2 1000.000  999.980  0.948 996.996 999.316 1000.002 1000.645 1002.666"
      ]
     },
     "execution_count": 8,
     "metadata": {},
     "output_type": "execute_result"
    }
   ],
   "source": [
    "df.describe().T"
   ]
  },
  {
   "cell_type": "code",
   "execution_count": 9,
   "metadata": {
    "colab": {
     "base_uri": "https://localhost:8080/",
     "height": 550
    },
    "id": "-Ebw6uXDYGAE",
    "outputId": "abeb2252-208f-4691-ca83-d0ba5b51511a"
   },
   "outputs": [
    {
     "data": {
      "image/png": "[encoded data removed]",
      "text/plain": [
       "<Figure size 750x750 with 12 Axes>"
      ]
     },
     "metadata": {},
     "output_type": "display_data"
    }
   ],
   "source": [
    "sns.pairplot(df);"
   ]
  },
  {
   "cell_type": "code",
   "execution_count": 10,
   "metadata": {
    "colab": {
     "base_uri": "https://localhost:8080/",
     "height": 143
    },
    "id": "R-MKjPmNYGAE",
    "outputId": "da15efd0-0de9-4adb-c108-d6c16737de1a"
   },
   "outputs": [
    {
     "data": {
      "text/html": [
       "<div>\n",
       "<style scoped>\n",
       "    .dataframe tbody tr th:only-of-type {\n",
       "        vertical-align: middle;\n",
       "    }\n",
       "\n",
       "    .dataframe tbody tr th {\n",
       "        vertical-align: top;\n",
       "    }\n",
       "\n",
       "    .dataframe thead th {\n",
       "        text-align: right;\n",
       "    }\n",
       "</style>\n",
       "<table border=\"1\" class=\"dataframe\">\n",
       "  <thead>\n",
       "    <tr style=\"text-align: right;\">\n",
       "      <th></th>\n",
       "      <th>price</th>\n",
       "      <th>feature1</th>\n",
       "      <th>feature2</th>\n",
       "    </tr>\n",
       "  </thead>\n",
       "  <tbody>\n",
       "    <tr>\n",
       "      <th>price</th>\n",
       "      <td>1.000</td>\n",
       "      <td>0.444</td>\n",
       "      <td>0.908</td>\n",
       "    </tr>\n",
       "    <tr>\n",
       "      <th>feature1</th>\n",
       "      <td>0.444</td>\n",
       "      <td>1.000</td>\n",
       "      <td>0.031</td>\n",
       "    </tr>\n",
       "    <tr>\n",
       "      <th>feature2</th>\n",
       "      <td>0.908</td>\n",
       "      <td>0.031</td>\n",
       "      <td>1.000</td>\n",
       "    </tr>\n",
       "  </tbody>\n",
       "</table>\n",
       "</div>"
      ],
      "text/plain": [
       "          price  feature1  feature2\n",
       "price     1.000     0.444     0.908\n",
       "feature1  0.444     1.000     0.031\n",
       "feature2  0.908     0.031     1.000"
      ]
     },
     "execution_count": 10,
     "metadata": {},
     "output_type": "execute_result"
    }
   ],
   "source": [
    "df.corr()"
   ]
  },
  {
   "cell_type": "markdown",
   "metadata": {
    "id": "O3Ku2VSEYGAF"
   },
   "source": [
    "## Preprocessing of Data\n",
    "- Train | Test Split, Scalling"
   ]
  },
  {
   "cell_type": "code",
   "execution_count": 11,
   "metadata": {
    "id": "QRWJczjFYGAF"
   },
   "outputs": [],
   "source": [
    "from sklearn.model_selection import train_test_split"
   ]
  },
  {
   "cell_type": "code",
   "execution_count": 13,
   "metadata": {
    "id": "4EQA8aFqYGAG"
   },
   "outputs": [],
   "source": [
    "# X = df[['feature1', 'feature2']].values  # converts to array (if you don't scale dataset create X and y like this)\n",
    "# y = df['price'].values            \n",
    "\n",
    "# DL'de datayı modele sokarken datamızı array'e ya da tensörlere çevirmeliyiz."
   ]
  },
  {
   "cell_type": "code",
   "execution_count": 12,
   "metadata": {
    "id": "isOKQsJUYGAG"
   },
   "outputs": [],
   "source": [
    "X = df[['feature1', 'feature2']]\n",
    "y = df['price']"
   ]
  },
  {
   "cell_type": "code",
   "execution_count": 13,
   "metadata": {
    "colab": {
     "base_uri": "https://localhost:8080/",
     "height": 424
    },
    "id": "yUGOs7EKYGAG",
    "outputId": "9df78ecc-befe-4d9b-8477-819d72af30c4"
   },
   "outputs": [
    {
     "data": {
      "text/html": [
       "<div>\n",
       "<style scoped>\n",
       "    .dataframe tbody tr th:only-of-type {\n",
       "        vertical-align: middle;\n",
       "    }\n",
       "\n",
       "    .dataframe tbody tr th {\n",
       "        vertical-align: top;\n",
       "    }\n",
       "\n",
       "    .dataframe thead th {\n",
       "        text-align: right;\n",
       "    }\n",
       "</style>\n",
       "<table border=\"1\" class=\"dataframe\">\n",
       "  <thead>\n",
       "    <tr style=\"text-align: right;\">\n",
       "      <th></th>\n",
       "      <th>feature1</th>\n",
       "      <th>feature2</th>\n",
       "    </tr>\n",
       "  </thead>\n",
       "  <tbody>\n",
       "    <tr>\n",
       "      <th>0</th>\n",
       "      <td>999.788</td>\n",
       "      <td>999.766</td>\n",
       "    </tr>\n",
       "    <tr>\n",
       "      <th>1</th>\n",
       "      <td>998.862</td>\n",
       "      <td>1001.042</td>\n",
       "    </tr>\n",
       "    <tr>\n",
       "      <th>2</th>\n",
       "      <td>1000.070</td>\n",
       "      <td>998.844</td>\n",
       "    </tr>\n",
       "    <tr>\n",
       "      <th>3</th>\n",
       "      <td>999.952</td>\n",
       "      <td>1000.441</td>\n",
       "    </tr>\n",
       "    <tr>\n",
       "      <th>4</th>\n",
       "      <td>1000.446</td>\n",
       "      <td>1000.339</td>\n",
       "    </tr>\n",
       "    <tr>\n",
       "      <th>...</th>\n",
       "      <td>...</td>\n",
       "      <td>...</td>\n",
       "    </tr>\n",
       "    <tr>\n",
       "      <th>995</th>\n",
       "      <td>1000.019</td>\n",
       "      <td>999.673</td>\n",
       "    </tr>\n",
       "    <tr>\n",
       "      <th>996</th>\n",
       "      <td>998.855</td>\n",
       "      <td>1000.020</td>\n",
       "    </tr>\n",
       "    <tr>\n",
       "      <th>997</th>\n",
       "      <td>1001.452</td>\n",
       "      <td>998.848</td>\n",
       "    </tr>\n",
       "    <tr>\n",
       "      <th>998</th>\n",
       "      <td>1000.771</td>\n",
       "      <td>998.563</td>\n",
       "    </tr>\n",
       "    <tr>\n",
       "      <th>999</th>\n",
       "      <td>999.232</td>\n",
       "      <td>1001.451</td>\n",
       "    </tr>\n",
       "  </tbody>\n",
       "</table>\n",
       "<p>1000 rows × 2 columns</p>\n",
       "</div>"
      ],
      "text/plain": [
       "     feature1  feature2\n",
       "0     999.788   999.766\n",
       "1     998.862  1001.042\n",
       "2    1000.070   998.844\n",
       "3     999.952  1000.441\n",
       "4    1000.446  1000.339\n",
       "..        ...       ...\n",
       "995  1000.019   999.673\n",
       "996   998.855  1000.020\n",
       "997  1001.452   998.848\n",
       "998  1000.771   998.563\n",
       "999   999.232  1001.451\n",
       "\n",
       "[1000 rows x 2 columns]"
      ]
     },
     "execution_count": 13,
     "metadata": {},
     "output_type": "execute_result"
    }
   ],
   "source": [
    "X"
   ]
  },
  {
   "cell_type": "code",
   "execution_count": 14,
   "metadata": {
    "colab": {
     "base_uri": "https://localhost:8080/"
    },
    "id": "cSQQ1ZxAYGAG",
    "outputId": "cc57ce85-a88f-4148-ad70-5bc0f55124ad"
   },
   "outputs": [
    {
     "data": {
      "text/plain": [
       "0     461.528\n",
       "1     548.130\n",
       "2     410.297\n",
       "3     540.382\n",
       "4     546.025\n",
       "        ...  \n",
       "995   476.526\n",
       "996   457.313\n",
       "997   456.721\n",
       "998   403.316\n",
       "999   599.367\n",
       "Name: price, Length: 1000, dtype: float64"
      ]
     },
     "execution_count": 14,
     "metadata": {},
     "output_type": "execute_result"
    }
   ],
   "source": [
    "y"
   ]
  },
  {
   "cell_type": "code",
   "execution_count": 15,
   "metadata": {
    "id": "9wrSrCGbYGAH"
   },
   "outputs": [],
   "source": [
    "X_train, X_test, y_train, y_test = train_test_split(X, y, test_size = 0.3, random_state = 42)"
   ]
  },
  {
   "cell_type": "code",
   "execution_count": 1,
   "metadata": {
    "colab": {
     "base_uri": "https://localhost:8080/"
    },
    "id": "cofsZt3PYGAH",
    "outputId": "8fdb2ff4-53b3-4eb1-d1bc-08383e29c055"
   },
   "outputs": [
    {
     "ename": "NameError",
     "evalue": "name 'X_train' is not defined",
     "output_type": "error",
     "traceback": [
      "\u001b[1;31m---------------------------------------------------------------------------\u001b[0m",
      "\u001b[1;31mNameError\u001b[0m                                 Traceback (most recent call last)",
      "Cell \u001b[1;32mIn[1], line 1\u001b[0m\n\u001b[1;32m----> 1\u001b[0m \u001b[43mX_train\u001b[49m\u001b[38;5;241m.\u001b[39mshape\n",
      "\u001b[1;31mNameError\u001b[0m: name 'X_train' is not defined"
     ]
    }
   ],
   "source": [
    "X_train.shape"
   ]
  },
  {
   "cell_type": "code",
   "execution_count": 17,
   "metadata": {
    "colab": {
     "base_uri": "https://localhost:8080/"
    },
    "id": "GpBVP5DUYGAI",
    "outputId": "05d7206b-e915-45b1-fa09-bcd15efe4d1e"
   },
   "outputs": [
    {
     "data": {
      "text/plain": [
       "(300, 2)"
      ]
     },
     "execution_count": 17,
     "metadata": {},
     "output_type": "execute_result"
    }
   ],
   "source": [
    "X_test.shape"
   ]
  },
  {
   "cell_type": "code",
   "execution_count": 18,
   "metadata": {
    "id": "orqAUW2pYGAI"
   },
   "outputs": [],
   "source": [
    "from sklearn.preprocessing import MinMaxScaler\n",
    "\n",
    "# Arka planda Gradient Descent olduğu için scale'e ihtiyaç duyuyoruz. \n",
    "# DL'de genelde MinMaxScaler daha iyi sonuçlar veriyor."
   ]
  },
  {
   "cell_type": "code",
   "execution_count": 19,
   "metadata": {
    "id": "5TjLQgawYGAJ"
   },
   "outputs": [],
   "source": [
    "scaler = MinMaxScaler()"
   ]
  },
  {
   "cell_type": "code",
   "execution_count": 20,
   "metadata": {
    "id": "7ZxtfDOiYGAJ"
   },
   "outputs": [],
   "source": [
    "X_train= scaler.fit_transform(X_train)\n",
    "X_test = scaler.transform(X_test)"
   ]
  },
  {
   "cell_type": "markdown",
   "metadata": {
    "id": "OsAGjlP8YGAJ"
   },
   "source": [
    "## Modelling"
   ]
  },
  {
   "cell_type": "code",
   "execution_count": 21,
   "metadata": {
    "id": "nfNl-tmAYGAJ"
   },
   "outputs": [],
   "source": [
    "from tensorflow.keras.models import Sequential\n",
    "from tensorflow.keras.layers import Input,Dense"
   ]
  },
  {
   "cell_type": "code",
   "execution_count": 24,
   "metadata": {
    "id": "qBLOUTnFYGAJ"
   },
   "outputs": [],
   "source": [
    "# help(Sequential)\n",
    "\n",
    "# Sequential ; modelimiz ard arda dizilmiş katmanlardan oluşacaksa Sequential modeller kullanacağız."
   ]
  },
  {
   "cell_type": "code",
   "execution_count": 25,
   "metadata": {
    "id": "QN8IhxZQYGAK"
   },
   "outputs": [],
   "source": [
    "#help(Dense)\n",
    "\n",
    "# Dense ;  fully connected bir yapı istiyorsam ben dense layer kullanacağım."
   ]
  },
  {
   "cell_type": "code",
   "execution_count": 22,
   "metadata": {
    "colab": {
     "base_uri": "https://localhost:8080/"
    },
    "id": "7OEp6qC5YGAK",
    "outputId": "7a868ad3-9019-4916-9a59-c11883dd6457"
   },
   "outputs": [
    {
     "data": {
      "text/plain": [
       "(700, 2)"
      ]
     },
     "execution_count": 22,
     "metadata": {},
     "output_type": "execute_result"
    }
   ],
   "source": [
    "X_train.shape"
   ]
  },
  {
   "cell_type": "code",
   "execution_count": 23,
   "metadata": {
    "id": "qckVKgVCYGAK"
   },
   "outputs": [],
   "source": [
    "# First way to create model\n",
    "\n",
    "model = Sequential(\n",
    "    [\n",
    "                    Input(shape = X_train.shape[1]),\n",
    "                    Dense(units = 4, activation = \"relu\"),            \n",
    "                    Dense(units = 4, activation = \"relu\"),\n",
    "                    Dense(units = 4, activation = \"relu\"),\n",
    "                    Dense(units = 1)\n",
    "    ]\n",
    ")"
   ]
  },
  {
   "cell_type": "code",
   "execution_count": 24,
   "metadata": {
    "id": "nuCWh5vdYGAL"
   },
   "outputs": [],
   "source": [
    "# Second way to create model (recommended)\n",
    "\n",
    "\n",
    "model = Sequential()    \n",
    "\n",
    "\n",
    "#model.add(Input(shape = X_train.shape[1])) #alternative way\n",
    "\n",
    "model.add(Dense(units = 4, activation = \"relu\", input_dim = X_train.shape[1]))\n",
    "model.add(Dense(units = 4, activation = \"relu\"))\n",
    "model.add(Dense(units = 4, activation = \"relu\"))\n",
    "model.add(Dense(units = 1))\n",
    "\n",
    "\n",
    "# Dense layer diyerek  eklenen layer'ın  fully connected bir layer olacağını  belirtiyoruz.\n",
    "# son katmanda elimizde bir regresyon problemi olduğundan 1 nöron olmalı ve Aktivasyon fonksiyonunun defaultu ,\n",
    "# None olduğu için tekrardan yazmadık.\n",
    "# hidden layer sayısı nöron sayısı tamamen bize kalmış.\n",
    "# Okunurluğu daha güzel olduğu için bunu kullanacağız."
   ]
  },
  {
   "cell_type": "code",
   "execution_count": 49,
   "metadata": {
    "colab": {
     "base_uri": "https://localhost:8080/"
    },
    "id": "Bj4tisKlYGAL",
    "outputId": "656ad869-5fb2-4767-f684-b26d8e47c6c3"
   },
   "outputs": [
    {
     "name": "stdout",
     "output_type": "stream",
     "text": [
      "Model: \"sequential_1\"\n",
      "_________________________________________________________________\n",
      " Layer (type)                Output Shape              Param #   \n",
      "=================================================================\n",
      " dense_4 (Dense)             (None, 4)                 12        \n",
      "                                                                 \n",
      " dense_5 (Dense)             (None, 4)                 20        \n",
      "                                                                 \n",
      " dense_6 (Dense)             (None, 4)                 20        \n",
      "                                                                 \n",
      " dense_7 (Dense)             (None, 1)                 5         \n",
      "                                                                 \n",
      "=================================================================\n",
      "Total params: 57\n",
      "Trainable params: 57\n",
      "Non-trainable params: 0\n",
      "_________________________________________________________________\n"
     ]
    }
   ],
   "source": [
    "model.summary()"
   ]
  },
  {
   "cell_type": "code",
   "execution_count": 50,
   "metadata": {
    "colab": {
     "base_uri": "https://localhost:8080/"
    },
    "id": "CwMFcvfgYGAM",
    "outputId": "d522f37d-fa0a-4dfe-b745-88ff86feefc3"
   },
   "outputs": [
    {
     "data": {
      "text/plain": [
       "[<tf.Variable 'dense_4/kernel:0' shape=(2, 4) dtype=float32, numpy=\n",
       " array([[ 2.6385055 ,  0.16783619, -0.44834924,  0.15390116],\n",
       "        [ 5.35944   , -0.57945746, -0.39117265,  0.1660752 ]],\n",
       "       dtype=float32)>,\n",
       " <tf.Variable 'dense_4/bias:0' shape=(4,) dtype=float32, numpy=array([ 0.966099  , -0.09475084,  0.        , -0.28042126], dtype=float32)>,\n",
       " <tf.Variable 'dense_5/kernel:0' shape=(4, 4) dtype=float32, numpy=\n",
       " array([[ 3.8762767 , -0.05411008, -0.7206909 , -0.64439595],\n",
       "        [-0.47378677,  0.66824085, -0.79541   , -0.14199781],\n",
       "        [ 0.5872397 , -0.5859478 ,  0.43772942,  0.23009235],\n",
       "        [-0.43251702, -0.24704875,  0.67623615, -0.2323016 ]],\n",
       "       dtype=float32)>,\n",
       " <tf.Variable 'dense_5/bias:0' shape=(4,) dtype=float32, numpy=array([ 0.9507472 , -0.1094389 , -0.11146402,  0.        ], dtype=float32)>,\n",
       " <tf.Variable 'dense_6/kernel:0' shape=(4, 4) dtype=float32, numpy=\n",
       " array([[-0.49228242,  3.5603325 , -0.0653587 ,  2.7799373 ],\n",
       "        [ 0.3188917 , -0.4052766 , -0.5745022 ,  0.34094304],\n",
       "        [ 0.39710623, -0.18388358, -0.8081015 , -0.7022443 ],\n",
       "        [ 0.55768365, -0.35320288, -0.56003785, -0.00613463]],\n",
       "       dtype=float32)>,\n",
       " <tf.Variable 'dense_6/bias:0' shape=(4,) dtype=float32, numpy=array([-0.0625783 ,  0.93747306,  0.        ,  0.9331036 ], dtype=float32)>,\n",
       " <tf.Variable 'dense_7/kernel:0' shape=(4, 1) dtype=float32, numpy=\n",
       " array([[-0.9786194],\n",
       "        [ 3.925716 ],\n",
       "        [-1.0214716],\n",
       "        [ 3.5351248]], dtype=float32)>,\n",
       " <tf.Variable 'dense_7/bias:0' shape=(1,) dtype=float32, numpy=array([0.9177107], dtype=float32)>]"
      ]
     },
     "execution_count": 50,
     "metadata": {},
     "output_type": "execute_result"
    }
   ],
   "source": [
    "model.weights\n",
    "\n",
    "# ilk atanan weight'leri bize veriyor ( random olarak atanıyor )"
   ]
  },
  {
   "cell_type": "markdown",
   "metadata": {
    "id": "kz14aXjQYGAM"
   },
   "source": [
    "### Choosing an optimizer and loss\n",
    "\n",
    "Keep in mind what kind of problem you are trying to solve:\n",
    "\n",
    "            # For a multi-class classification problem\n",
    "            model.compile(optimizer='rmsprop',\n",
    "                          loss='categorical_crossentropy',\n",
    "                          metrics=['accuracy'])\n",
    "\n",
    "            # For a binary classification problem\n",
    "            model.compile(optimizer='rmsprop',\n",
    "                          loss='binary_crossentropy',\n",
    "                          metrics=['accuracy'])\n",
    "\n",
    "            # For a mean squared error regression problem\n",
    "            model.compile(optimizer='rmsprop',\n",
    "                          loss='mse')"
   ]
  },
  {
   "cell_type": "code",
   "execution_count": 51,
   "metadata": {
    "id": "llcb_-x4YGAN"
   },
   "outputs": [],
   "source": [
    "model.compile(optimizer = \"rmsprop\", loss = \"mse\")\n",
    "\n",
    "# regresyon  problemi olduğu için loss fonksiyonumuza mse yazdık.optimizasyon algoritması olarak rmsprop seçtik ; \n",
    "# diğer optimizasyon algoritmaları da kullanabilirdi."
   ]
  },
  {
   "cell_type": "code",
   "execution_count": 52,
   "metadata": {
    "colab": {
     "base_uri": "https://localhost:8080/"
    },
    "id": "x5x1CSf0YGAN",
    "outputId": "70268bac-2d1b-4ea4-ffe3-579e253c6560",
    "scrolled": false
   },
   "outputs": [
    {
     "name": "stdout",
     "output_type": "stream",
     "text": [
      "Epoch 1/250\n",
      "22/22 [==============================] - 1s 3ms/step - loss: 24.0259\n",
      "Epoch 2/250\n",
      "22/22 [==============================] - 0s 2ms/step - loss: 24.1115\n",
      "Epoch 3/250\n",
      "22/22 [==============================] - 0s 2ms/step - loss: 24.2486\n",
      "Epoch 4/250\n",
      "22/22 [==============================] - 0s 3ms/step - loss: 24.1815\n",
      "Epoch 5/250\n",
      "22/22 [==============================] - 0s 3ms/step - loss: 23.8887\n",
      "Epoch 6/250\n",
      "22/22 [==============================] - 0s 3ms/step - loss: 24.1166\n",
      "Epoch 7/250\n",
      "22/22 [==============================] - 0s 3ms/step - loss: 23.9200\n",
      "Epoch 8/250\n",
      "22/22 [==============================] - 0s 3ms/step - loss: 24.4008\n",
      "Epoch 9/250\n",
      "22/22 [==============================] - 0s 3ms/step - loss: 24.0816\n",
      "Epoch 10/250\n",
      "22/22 [==============================] - 0s 3ms/step - loss: 23.9489\n",
      "Epoch 11/250\n",
      "22/22 [==============================] - 0s 3ms/step - loss: 24.0382\n",
      "Epoch 12/250\n",
      "22/22 [==============================] - 0s 3ms/step - loss: 24.2726\n",
      "Epoch 13/250\n",
      "22/22 [==============================] - 0s 2ms/step - loss: 24.0764\n",
      "Epoch 14/250\n",
      "22/22 [==============================] - 0s 3ms/step - loss: 23.9533\n",
      "Epoch 15/250\n",
      "22/22 [==============================] - 0s 3ms/step - loss: 24.0666\n",
      "Epoch 16/250\n",
      "22/22 [==============================] - 0s 3ms/step - loss: 24.0661\n",
      "Epoch 17/250\n",
      "22/22 [==============================] - 0s 3ms/step - loss: 23.9416\n",
      "Epoch 18/250\n",
      "22/22 [==============================] - 0s 2ms/step - loss: 24.1658\n",
      "Epoch 19/250\n",
      "22/22 [==============================] - 0s 3ms/step - loss: 24.1585\n",
      "Epoch 20/250\n",
      "22/22 [==============================] - 0s 3ms/step - loss: 24.0896\n",
      "Epoch 21/250\n",
      "22/22 [==============================] - 0s 2ms/step - loss: 24.0163\n",
      "Epoch 22/250\n",
      "22/22 [==============================] - 0s 2ms/step - loss: 24.0614\n",
      "Epoch 23/250\n",
      "22/22 [==============================] - 0s 2ms/step - loss: 23.9340\n",
      "Epoch 24/250\n",
      "22/22 [==============================] - 0s 2ms/step - loss: 24.2123\n",
      "Epoch 25/250\n",
      "22/22 [==============================] - 0s 2ms/step - loss: 24.1632\n",
      "Epoch 26/250\n",
      "22/22 [==============================] - 0s 3ms/step - loss: 24.0073\n",
      "Epoch 27/250\n",
      "22/22 [==============================] - 0s 3ms/step - loss: 24.0869\n",
      "Epoch 28/250\n",
      "22/22 [==============================] - 0s 3ms/step - loss: 23.9122\n",
      "Epoch 29/250\n",
      "22/22 [==============================] - 0s 2ms/step - loss: 24.0117\n",
      "Epoch 30/250\n",
      "22/22 [==============================] - 0s 3ms/step - loss: 23.9614\n",
      "Epoch 31/250\n",
      "22/22 [==============================] - 0s 2ms/step - loss: 24.2146\n",
      "Epoch 32/250\n",
      "22/22 [==============================] - 0s 2ms/step - loss: 24.0994\n",
      "Epoch 33/250\n",
      "22/22 [==============================] - 0s 2ms/step - loss: 24.1625\n",
      "Epoch 34/250\n",
      "22/22 [==============================] - 0s 3ms/step - loss: 24.2394\n",
      "Epoch 35/250\n",
      "22/22 [==============================] - 0s 3ms/step - loss: 24.1138\n",
      "Epoch 36/250\n",
      "22/22 [==============================] - 0s 3ms/step - loss: 24.1353\n",
      "Epoch 37/250\n",
      "22/22 [==============================] - 0s 2ms/step - loss: 23.8719\n",
      "Epoch 38/250\n",
      "22/22 [==============================] - 0s 3ms/step - loss: 24.0937\n",
      "Epoch 39/250\n",
      "22/22 [==============================] - 0s 3ms/step - loss: 23.9353\n",
      "Epoch 40/250\n",
      "22/22 [==============================] - 0s 2ms/step - loss: 24.1725\n",
      "Epoch 41/250\n",
      "22/22 [==============================] - 0s 3ms/step - loss: 23.9860\n",
      "Epoch 42/250\n",
      "22/22 [==============================] - 0s 3ms/step - loss: 23.9014\n",
      "Epoch 43/250\n",
      "22/22 [==============================] - 0s 2ms/step - loss: 24.0706\n",
      "Epoch 44/250\n",
      "22/22 [==============================] - 0s 3ms/step - loss: 24.2642\n",
      "Epoch 45/250\n",
      "22/22 [==============================] - 0s 2ms/step - loss: 23.9526\n",
      "Epoch 46/250\n",
      "22/22 [==============================] - 0s 3ms/step - loss: 24.0656\n",
      "Epoch 47/250\n",
      "22/22 [==============================] - 0s 3ms/step - loss: 24.2514\n",
      "Epoch 48/250\n",
      "22/22 [==============================] - 0s 2ms/step - loss: 23.9127\n",
      "Epoch 49/250\n",
      "22/22 [==============================] - 0s 3ms/step - loss: 24.2721\n",
      "Epoch 50/250\n",
      "22/22 [==============================] - 0s 2ms/step - loss: 24.1318\n",
      "Epoch 51/250\n",
      "22/22 [==============================] - 0s 3ms/step - loss: 24.1543\n",
      "Epoch 52/250\n",
      "22/22 [==============================] - 0s 2ms/step - loss: 24.0003\n",
      "Epoch 53/250\n",
      "22/22 [==============================] - 0s 2ms/step - loss: 24.1044\n",
      "Epoch 54/250\n",
      "22/22 [==============================] - 0s 2ms/step - loss: 23.8625\n",
      "Epoch 55/250\n",
      "22/22 [==============================] - 0s 2ms/step - loss: 24.1828\n",
      "Epoch 56/250\n",
      "22/22 [==============================] - 0s 2ms/step - loss: 24.0243\n",
      "Epoch 57/250\n",
      "22/22 [==============================] - 0s 2ms/step - loss: 24.3776\n",
      "Epoch 58/250\n",
      "22/22 [==============================] - 0s 2ms/step - loss: 23.9041\n",
      "Epoch 59/250\n",
      "22/22 [==============================] - 0s 2ms/step - loss: 24.1057\n",
      "Epoch 60/250\n",
      "22/22 [==============================] - 0s 2ms/step - loss: 24.2841\n",
      "Epoch 61/250\n",
      "22/22 [==============================] - 0s 2ms/step - loss: 24.0647\n",
      "Epoch 62/250\n",
      "22/22 [==============================] - 0s 2ms/step - loss: 23.9293\n",
      "Epoch 63/250\n",
      "22/22 [==============================] - 0s 3ms/step - loss: 24.1187\n",
      "Epoch 64/250\n",
      "22/22 [==============================] - 0s 3ms/step - loss: 23.9907\n",
      "Epoch 65/250\n",
      "22/22 [==============================] - 0s 2ms/step - loss: 23.9409\n",
      "Epoch 66/250\n",
      "22/22 [==============================] - 0s 3ms/step - loss: 23.9985\n",
      "Epoch 67/250\n",
      "22/22 [==============================] - 0s 2ms/step - loss: 24.1038\n",
      "Epoch 68/250\n",
      "22/22 [==============================] - 0s 3ms/step - loss: 24.0058\n",
      "Epoch 69/250\n",
      "22/22 [==============================] - 0s 2ms/step - loss: 24.1135\n",
      "Epoch 70/250\n",
      "22/22 [==============================] - 0s 3ms/step - loss: 24.0299\n",
      "Epoch 71/250\n",
      "22/22 [==============================] - 0s 2ms/step - loss: 24.3063\n",
      "Epoch 72/250\n",
      "22/22 [==============================] - 0s 2ms/step - loss: 23.9881\n",
      "Epoch 73/250\n",
      "22/22 [==============================] - 0s 3ms/step - loss: 24.2765\n",
      "Epoch 74/250\n",
      "22/22 [==============================] - 0s 3ms/step - loss: 24.1541\n",
      "Epoch 75/250\n",
      "22/22 [==============================] - 0s 2ms/step - loss: 24.0081\n",
      "Epoch 76/250\n",
      "22/22 [==============================] - 0s 3ms/step - loss: 24.0228\n",
      "Epoch 77/250\n",
      "22/22 [==============================] - 0s 2ms/step - loss: 23.9829\n",
      "Epoch 78/250\n",
      "22/22 [==============================] - 0s 2ms/step - loss: 24.2152\n",
      "Epoch 79/250\n",
      "22/22 [==============================] - 0s 2ms/step - loss: 24.1550\n",
      "Epoch 80/250\n",
      "22/22 [==============================] - 0s 2ms/step - loss: 24.0183\n",
      "Epoch 81/250\n",
      "22/22 [==============================] - 0s 2ms/step - loss: 24.0930\n",
      "Epoch 82/250\n",
      "22/22 [==============================] - 0s 3ms/step - loss: 24.2195\n",
      "Epoch 83/250\n",
      "22/22 [==============================] - 0s 3ms/step - loss: 24.0279\n",
      "Epoch 84/250\n",
      "22/22 [==============================] - 0s 3ms/step - loss: 24.3709\n",
      "Epoch 85/250\n",
      "22/22 [==============================] - 0s 3ms/step - loss: 23.8669\n",
      "Epoch 86/250\n",
      "22/22 [==============================] - 0s 3ms/step - loss: 24.1822\n",
      "Epoch 87/250\n",
      "22/22 [==============================] - 0s 3ms/step - loss: 24.0739\n",
      "Epoch 88/250\n",
      "22/22 [==============================] - 0s 3ms/step - loss: 24.0530\n",
      "Epoch 89/250\n",
      "22/22 [==============================] - 0s 3ms/step - loss: 24.0234\n",
      "Epoch 90/250\n",
      "22/22 [==============================] - 0s 3ms/step - loss: 24.0460\n",
      "Epoch 91/250\n",
      "22/22 [==============================] - 0s 3ms/step - loss: 24.0988\n",
      "Epoch 92/250\n",
      "22/22 [==============================] - 0s 3ms/step - loss: 24.0385\n",
      "Epoch 93/250\n",
      "22/22 [==============================] - 0s 3ms/step - loss: 24.1275\n",
      "Epoch 94/250\n",
      "22/22 [==============================] - 0s 3ms/step - loss: 23.9094\n",
      "Epoch 95/250\n",
      "22/22 [==============================] - 0s 3ms/step - loss: 23.8455\n",
      "Epoch 96/250\n",
      "22/22 [==============================] - 0s 3ms/step - loss: 24.0955\n",
      "Epoch 97/250\n",
      "22/22 [==============================] - 0s 2ms/step - loss: 23.9869\n",
      "Epoch 98/250\n",
      "22/22 [==============================] - 0s 3ms/step - loss: 24.2397\n",
      "Epoch 99/250\n",
      "22/22 [==============================] - 0s 3ms/step - loss: 24.1465\n",
      "Epoch 100/250\n",
      "22/22 [==============================] - 0s 3ms/step - loss: 24.0540\n",
      "Epoch 101/250\n"
     ]
    },
    {
     "name": "stdout",
     "output_type": "stream",
     "text": [
      "22/22 [==============================] - 0s 3ms/step - loss: 24.1320\n",
      "Epoch 102/250\n",
      "22/22 [==============================] - 0s 3ms/step - loss: 23.9840\n",
      "Epoch 103/250\n",
      "22/22 [==============================] - 0s 3ms/step - loss: 24.1922\n",
      "Epoch 104/250\n",
      "22/22 [==============================] - 0s 3ms/step - loss: 23.9410\n",
      "Epoch 105/250\n",
      "22/22 [==============================] - 0s 3ms/step - loss: 23.9489\n",
      "Epoch 106/250\n",
      "22/22 [==============================] - 0s 3ms/step - loss: 24.2687\n",
      "Epoch 107/250\n",
      "22/22 [==============================] - 0s 2ms/step - loss: 24.0174\n",
      "Epoch 108/250\n",
      "22/22 [==============================] - 0s 3ms/step - loss: 24.3244\n",
      "Epoch 109/250\n",
      "22/22 [==============================] - 0s 3ms/step - loss: 24.0244\n",
      "Epoch 110/250\n",
      "22/22 [==============================] - 0s 3ms/step - loss: 23.9391\n",
      "Epoch 111/250\n",
      "22/22 [==============================] - 0s 2ms/step - loss: 24.0112\n",
      "Epoch 112/250\n",
      "22/22 [==============================] - 0s 2ms/step - loss: 24.1978\n",
      "Epoch 113/250\n",
      "22/22 [==============================] - 0s 3ms/step - loss: 23.8991\n",
      "Epoch 114/250\n",
      "22/22 [==============================] - 0s 2ms/step - loss: 24.1156\n",
      "Epoch 115/250\n",
      "22/22 [==============================] - 0s 2ms/step - loss: 24.0364\n",
      "Epoch 116/250\n",
      "22/22 [==============================] - 0s 3ms/step - loss: 24.1622\n",
      "Epoch 117/250\n",
      "22/22 [==============================] - 0s 3ms/step - loss: 24.1960\n",
      "Epoch 118/250\n",
      "22/22 [==============================] - 0s 2ms/step - loss: 24.0297\n",
      "Epoch 119/250\n",
      "22/22 [==============================] - 0s 3ms/step - loss: 24.0599\n",
      "Epoch 120/250\n",
      "22/22 [==============================] - 0s 2ms/step - loss: 23.9689\n",
      "Epoch 121/250\n",
      "22/22 [==============================] - 0s 3ms/step - loss: 24.0168\n",
      "Epoch 122/250\n",
      "22/22 [==============================] - 0s 3ms/step - loss: 24.1433\n",
      "Epoch 123/250\n",
      "22/22 [==============================] - 0s 2ms/step - loss: 23.9872\n",
      "Epoch 124/250\n",
      "22/22 [==============================] - 0s 2ms/step - loss: 24.2370\n",
      "Epoch 125/250\n",
      "22/22 [==============================] - 0s 2ms/step - loss: 24.1461\n",
      "Epoch 126/250\n",
      "22/22 [==============================] - 0s 2ms/step - loss: 23.9100\n",
      "Epoch 127/250\n",
      "22/22 [==============================] - 0s 3ms/step - loss: 24.1329\n",
      "Epoch 128/250\n",
      "22/22 [==============================] - 0s 2ms/step - loss: 24.2205\n",
      "Epoch 129/250\n",
      "22/22 [==============================] - 0s 3ms/step - loss: 24.2133\n",
      "Epoch 130/250\n",
      "22/22 [==============================] - 0s 3ms/step - loss: 23.9203\n",
      "Epoch 131/250\n",
      "22/22 [==============================] - 0s 3ms/step - loss: 24.2165\n",
      "Epoch 132/250\n",
      "22/22 [==============================] - 0s 3ms/step - loss: 23.9830\n",
      "Epoch 133/250\n",
      "22/22 [==============================] - 0s 3ms/step - loss: 24.2658\n",
      "Epoch 134/250\n",
      "22/22 [==============================] - 0s 3ms/step - loss: 24.2472\n",
      "Epoch 135/250\n",
      "22/22 [==============================] - 0s 3ms/step - loss: 24.1315\n",
      "Epoch 136/250\n",
      "22/22 [==============================] - 0s 3ms/step - loss: 23.9787\n",
      "Epoch 137/250\n",
      "22/22 [==============================] - 0s 2ms/step - loss: 24.3526\n",
      "Epoch 138/250\n",
      "22/22 [==============================] - 0s 3ms/step - loss: 24.1770\n",
      "Epoch 139/250\n",
      "22/22 [==============================] - 0s 3ms/step - loss: 24.2371\n",
      "Epoch 140/250\n",
      "22/22 [==============================] - 0s 2ms/step - loss: 23.9565\n",
      "Epoch 141/250\n",
      "22/22 [==============================] - 0s 2ms/step - loss: 23.7909\n",
      "Epoch 142/250\n",
      "22/22 [==============================] - 0s 3ms/step - loss: 23.9169\n",
      "Epoch 143/250\n",
      "22/22 [==============================] - 0s 3ms/step - loss: 24.0396\n",
      "Epoch 144/250\n",
      "22/22 [==============================] - 0s 3ms/step - loss: 24.2880\n",
      "Epoch 145/250\n",
      "22/22 [==============================] - 0s 2ms/step - loss: 24.0173\n",
      "Epoch 146/250\n",
      "22/22 [==============================] - 0s 2ms/step - loss: 24.2708\n",
      "Epoch 147/250\n",
      "22/22 [==============================] - 0s 2ms/step - loss: 23.9949\n",
      "Epoch 148/250\n",
      "22/22 [==============================] - 0s 3ms/step - loss: 23.9766\n",
      "Epoch 149/250\n",
      "22/22 [==============================] - 0s 2ms/step - loss: 24.1256\n",
      "Epoch 150/250\n",
      "22/22 [==============================] - 0s 3ms/step - loss: 24.0206\n",
      "Epoch 151/250\n",
      "22/22 [==============================] - 0s 3ms/step - loss: 24.1100\n",
      "Epoch 152/250\n",
      "22/22 [==============================] - 0s 2ms/step - loss: 24.1574\n",
      "Epoch 153/250\n",
      "22/22 [==============================] - 0s 3ms/step - loss: 23.8992\n",
      "Epoch 154/250\n",
      "22/22 [==============================] - 0s 3ms/step - loss: 23.9142\n",
      "Epoch 155/250\n",
      "22/22 [==============================] - 0s 3ms/step - loss: 24.0710\n",
      "Epoch 156/250\n",
      "22/22 [==============================] - 0s 3ms/step - loss: 24.1767\n",
      "Epoch 157/250\n",
      "22/22 [==============================] - 0s 3ms/step - loss: 23.9985\n",
      "Epoch 158/250\n",
      "22/22 [==============================] - 0s 2ms/step - loss: 24.0054\n",
      "Epoch 159/250\n",
      "22/22 [==============================] - 0s 2ms/step - loss: 24.4522\n",
      "Epoch 160/250\n",
      "22/22 [==============================] - 0s 3ms/step - loss: 24.1520\n",
      "Epoch 161/250\n",
      "22/22 [==============================] - 0s 2ms/step - loss: 24.0370\n",
      "Epoch 162/250\n",
      "22/22 [==============================] - 0s 2ms/step - loss: 24.1314\n",
      "Epoch 163/250\n",
      "22/22 [==============================] - 0s 2ms/step - loss: 24.0951\n",
      "Epoch 164/250\n",
      "22/22 [==============================] - 0s 2ms/step - loss: 24.1558\n",
      "Epoch 165/250\n",
      "22/22 [==============================] - 0s 2ms/step - loss: 23.8799\n",
      "Epoch 166/250\n",
      "22/22 [==============================] - 0s 2ms/step - loss: 24.0207\n",
      "Epoch 167/250\n",
      "22/22 [==============================] - 0s 3ms/step - loss: 24.0569\n",
      "Epoch 168/250\n",
      "22/22 [==============================] - 0s 2ms/step - loss: 24.1380\n",
      "Epoch 169/250\n",
      "22/22 [==============================] - 0s 3ms/step - loss: 24.2210\n",
      "Epoch 170/250\n",
      "22/22 [==============================] - 0s 3ms/step - loss: 24.1035\n",
      "Epoch 171/250\n",
      "22/22 [==============================] - 0s 3ms/step - loss: 24.0434\n",
      "Epoch 172/250\n",
      "22/22 [==============================] - 0s 2ms/step - loss: 24.0563\n",
      "Epoch 173/250\n",
      "22/22 [==============================] - 0s 3ms/step - loss: 23.8885\n",
      "Epoch 174/250\n",
      "22/22 [==============================] - 0s 2ms/step - loss: 23.7922\n",
      "Epoch 175/250\n",
      "22/22 [==============================] - 0s 2ms/step - loss: 24.1437\n",
      "Epoch 176/250\n",
      "22/22 [==============================] - 0s 3ms/step - loss: 24.2994\n",
      "Epoch 177/250\n",
      "22/22 [==============================] - 0s 3ms/step - loss: 23.9926\n",
      "Epoch 178/250\n",
      "22/22 [==============================] - 0s 2ms/step - loss: 24.2669\n",
      "Epoch 179/250\n",
      "22/22 [==============================] - 0s 3ms/step - loss: 24.0457\n",
      "Epoch 180/250\n",
      "22/22 [==============================] - 0s 2ms/step - loss: 24.1468\n",
      "Epoch 181/250\n",
      "22/22 [==============================] - 0s 3ms/step - loss: 23.9516\n",
      "Epoch 182/250\n",
      "22/22 [==============================] - 0s 3ms/step - loss: 24.3185\n",
      "Epoch 183/250\n",
      "22/22 [==============================] - 0s 3ms/step - loss: 23.9480\n",
      "Epoch 184/250\n",
      "22/22 [==============================] - 0s 2ms/step - loss: 24.1158\n",
      "Epoch 185/250\n",
      "22/22 [==============================] - 0s 3ms/step - loss: 24.0880\n",
      "Epoch 186/250\n",
      "22/22 [==============================] - 0s 3ms/step - loss: 24.1119\n",
      "Epoch 187/250\n",
      "22/22 [==============================] - 0s 3ms/step - loss: 24.0457\n",
      "Epoch 188/250\n",
      "22/22 [==============================] - 0s 3ms/step - loss: 24.0704\n",
      "Epoch 189/250\n",
      "22/22 [==============================] - 0s 3ms/step - loss: 23.9991\n",
      "Epoch 190/250\n",
      "22/22 [==============================] - 0s 3ms/step - loss: 24.0807\n",
      "Epoch 191/250\n",
      "22/22 [==============================] - 0s 3ms/step - loss: 24.0726\n",
      "Epoch 192/250\n",
      "22/22 [==============================] - 0s 2ms/step - loss: 24.1260\n",
      "Epoch 193/250\n",
      "22/22 [==============================] - 0s 3ms/step - loss: 24.0847\n",
      "Epoch 194/250\n",
      "22/22 [==============================] - 0s 2ms/step - loss: 23.9907\n",
      "Epoch 195/250\n",
      "22/22 [==============================] - 0s 3ms/step - loss: 24.0376\n",
      "Epoch 196/250\n",
      "22/22 [==============================] - 0s 3ms/step - loss: 24.3287\n",
      "Epoch 197/250\n",
      "22/22 [==============================] - 0s 3ms/step - loss: 24.0987\n",
      "Epoch 198/250\n",
      "22/22 [==============================] - 0s 2ms/step - loss: 23.9711\n",
      "Epoch 199/250\n",
      "22/22 [==============================] - 0s 2ms/step - loss: 24.0665\n",
      "Epoch 200/250\n",
      "22/22 [==============================] - 0s 2ms/step - loss: 24.0776\n",
      "Epoch 201/250\n",
      "22/22 [==============================] - 0s 3ms/step - loss: 24.1427\n",
      "Epoch 202/250\n",
      "22/22 [==============================] - 0s 3ms/step - loss: 24.1270\n",
      "Epoch 203/250\n",
      "22/22 [==============================] - 0s 3ms/step - loss: 24.1106\n",
      "Epoch 204/250\n",
      "22/22 [==============================] - 0s 2ms/step - loss: 24.0393\n",
      "Epoch 205/250\n",
      "22/22 [==============================] - 0s 2ms/step - loss: 24.1248\n",
      "Epoch 206/250\n",
      "22/22 [==============================] - 0s 3ms/step - loss: 24.0469\n",
      "Epoch 207/250\n",
      "22/22 [==============================] - 0s 2ms/step - loss: 24.0240\n",
      "Epoch 208/250\n",
      "22/22 [==============================] - 0s 3ms/step - loss: 24.2378\n",
      "Epoch 209/250\n",
      "22/22 [==============================] - 0s 3ms/step - loss: 23.8048\n",
      "Epoch 210/250\n",
      "22/22 [==============================] - 0s 3ms/step - loss: 24.1152\n",
      "Epoch 211/250\n",
      "22/22 [==============================] - 0s 2ms/step - loss: 24.0660\n",
      "Epoch 212/250\n",
      "22/22 [==============================] - 0s 3ms/step - loss: 24.0613\n",
      "Epoch 213/250\n",
      "22/22 [==============================] - 0s 3ms/step - loss: 24.3266\n",
      "Epoch 214/250\n",
      "22/22 [==============================] - 0s 2ms/step - loss: 24.1451\n",
      "Epoch 215/250\n",
      "22/22 [==============================] - 0s 2ms/step - loss: 24.1552\n",
      "Epoch 216/250\n",
      "22/22 [==============================] - 0s 2ms/step - loss: 24.0946\n",
      "Epoch 217/250\n",
      "22/22 [==============================] - 0s 2ms/step - loss: 24.2662\n",
      "Epoch 218/250\n",
      "22/22 [==============================] - 0s 3ms/step - loss: 24.0333\n",
      "Epoch 219/250\n",
      "22/22 [==============================] - 0s 2ms/step - loss: 24.0288\n",
      "Epoch 220/250\n",
      "22/22 [==============================] - 0s 2ms/step - loss: 24.3425\n",
      "Epoch 221/250\n",
      "22/22 [==============================] - 0s 3ms/step - loss: 24.0765\n",
      "Epoch 222/250\n",
      "22/22 [==============================] - 0s 3ms/step - loss: 24.2414\n",
      "Epoch 223/250\n",
      "22/22 [==============================] - 0s 3ms/step - loss: 24.2088\n",
      "Epoch 224/250\n",
      "22/22 [==============================] - 0s 2ms/step - loss: 24.0255\n",
      "Epoch 225/250\n",
      "22/22 [==============================] - 0s 3ms/step - loss: 24.0142\n",
      "Epoch 226/250\n",
      "22/22 [==============================] - 0s 3ms/step - loss: 24.1134\n",
      "Epoch 227/250\n",
      "22/22 [==============================] - 0s 3ms/step - loss: 23.8926\n",
      "Epoch 228/250\n",
      "22/22 [==============================] - 0s 2ms/step - loss: 24.2535\n",
      "Epoch 229/250\n",
      "22/22 [==============================] - 0s 3ms/step - loss: 24.1479\n",
      "Epoch 230/250\n",
      "22/22 [==============================] - 0s 3ms/step - loss: 24.0705\n",
      "Epoch 231/250\n",
      "22/22 [==============================] - 0s 2ms/step - loss: 24.0471\n",
      "Epoch 232/250\n",
      "22/22 [==============================] - 0s 3ms/step - loss: 24.0360\n",
      "Epoch 233/250\n",
      "22/22 [==============================] - 0s 3ms/step - loss: 24.0106\n",
      "Epoch 234/250\n",
      "22/22 [==============================] - 0s 3ms/step - loss: 24.1512\n",
      "Epoch 235/250\n",
      "22/22 [==============================] - 0s 3ms/step - loss: 24.2144\n",
      "Epoch 236/250\n",
      "22/22 [==============================] - 0s 2ms/step - loss: 24.1047\n",
      "Epoch 237/250\n",
      "22/22 [==============================] - 0s 2ms/step - loss: 24.1707\n",
      "Epoch 238/250\n",
      "22/22 [==============================] - 0s 3ms/step - loss: 23.9066\n",
      "Epoch 239/250\n",
      "22/22 [==============================] - 0s 2ms/step - loss: 23.8744\n",
      "Epoch 240/250\n",
      "22/22 [==============================] - 0s 2ms/step - loss: 23.9433\n",
      "Epoch 241/250\n",
      "22/22 [==============================] - 0s 2ms/step - loss: 23.8750\n",
      "Epoch 242/250\n",
      "22/22 [==============================] - 0s 3ms/step - loss: 24.1878\n",
      "Epoch 243/250\n",
      "22/22 [==============================] - 0s 3ms/step - loss: 24.1844\n",
      "Epoch 244/250\n",
      "22/22 [==============================] - 0s 2ms/step - loss: 24.1107\n",
      "Epoch 245/250\n",
      "22/22 [==============================] - 0s 3ms/step - loss: 24.1505\n",
      "Epoch 246/250\n",
      "22/22 [==============================] - 0s 3ms/step - loss: 24.0569\n",
      "Epoch 247/250\n",
      "22/22 [==============================] - 0s 2ms/step - loss: 23.9400\n",
      "Epoch 248/250\n",
      "22/22 [==============================] - 0s 2ms/step - loss: 24.1719\n",
      "Epoch 249/250\n",
      "22/22 [==============================] - 0s 2ms/step - loss: 24.1873\n",
      "Epoch 250/250\n",
      "22/22 [==============================] - 0s 2ms/step - loss: 23.9104\n"
     ]
    },
    {
     "data": {
      "text/plain": [
       "<keras.callbacks.History at 0x2be427923e0>"
      ]
     },
     "execution_count": 52,
     "metadata": {},
     "output_type": "execute_result"
    }
   ],
   "source": [
    "model.fit(x = X_train, y = y_train, batch_size = 32, epochs = 250)"
   ]
  },
  {
   "cell_type": "code",
   "execution_count": 53,
   "metadata": {
    "colab": {
     "base_uri": "https://localhost:8080/"
    },
    "id": "t0f8HUqqYGAO",
    "outputId": "2170f572-b36d-4bfb-cec1-29c634dab886",
    "scrolled": false
   },
   "outputs": [
    {
     "data": {
      "text/plain": [
       "[<tf.Variable 'dense_4/kernel:0' shape=(2, 4) dtype=float32, numpy=\n",
       " array([[ 2.6367433 ,  0.16783619, -0.44834924,  0.15390116],\n",
       "        [ 5.3575106 , -0.57945746, -0.39117265,  0.1660752 ]],\n",
       "       dtype=float32)>,\n",
       " <tf.Variable 'dense_4/bias:0' shape=(4,) dtype=float32, numpy=array([ 0.96506214, -0.09475084,  0.        , -0.28042126], dtype=float32)>,\n",
       " <tf.Variable 'dense_5/kernel:0' shape=(4, 4) dtype=float32, numpy=\n",
       " array([[ 3.874384  , -0.05411008, -0.7206909 , -0.64439595],\n",
       "        [-0.47378677,  0.66824085, -0.79541   , -0.14199781],\n",
       "        [ 0.5872397 , -0.5859478 ,  0.43772942,  0.23009235],\n",
       "        [-0.43251702, -0.24704875,  0.67623615, -0.2323016 ]],\n",
       "       dtype=float32)>,\n",
       " <tf.Variable 'dense_5/bias:0' shape=(4,) dtype=float32, numpy=array([ 0.9502174 , -0.1094389 , -0.11146402,  0.        ], dtype=float32)>,\n",
       " <tf.Variable 'dense_6/kernel:0' shape=(4, 4) dtype=float32, numpy=\n",
       " array([[-0.49228242,  3.5585747 , -0.0653587 ,  2.7781239 ],\n",
       "        [ 0.3188917 , -0.4052766 , -0.5745022 ,  0.34094304],\n",
       "        [ 0.39710623, -0.18388358, -0.8081015 , -0.7022443 ],\n",
       "        [ 0.55768365, -0.35320288, -0.56003785, -0.00613463]],\n",
       "       dtype=float32)>,\n",
       " <tf.Variable 'dense_6/bias:0' shape=(4,) dtype=float32, numpy=array([-0.0625783 ,  0.9375812 ,  0.        ,  0.93315923], dtype=float32)>,\n",
       " <tf.Variable 'dense_7/kernel:0' shape=(4, 1) dtype=float32, numpy=\n",
       " array([[-0.9786194],\n",
       "        [ 3.9239068],\n",
       "        [-1.0214716],\n",
       "        [ 3.533158 ]], dtype=float32)>,\n",
       " <tf.Variable 'dense_7/bias:0' shape=(1,) dtype=float32, numpy=array([0.91832155], dtype=float32)>]"
      ]
     },
     "execution_count": 53,
     "metadata": {},
     "output_type": "execute_result"
    }
   ],
   "source": [
    "model.weights\n",
    "# random olarak atanan weight'lerin değiştiğini görebiliriz."
   ]
  },
  {
   "cell_type": "code",
   "execution_count": 54,
   "metadata": {
    "colab": {
     "base_uri": "https://localhost:8080/"
    },
    "id": "kh61BRDfYGAO",
    "outputId": "d71f634f-1e76-4bd2-eb6b-593bbb2d1f0a"
   },
   "outputs": [
    {
     "data": {
      "text/plain": [
       "{'loss': [24.025943756103516,\n",
       "  24.111509323120117,\n",
       "  24.248559951782227,\n",
       "  24.18153953552246,\n",
       "  23.888715744018555,\n",
       "  24.116628646850586,\n",
       "  23.9200496673584,\n",
       "  24.40082550048828,\n",
       "  24.08155632019043,\n",
       "  23.948928833007812,\n",
       "  24.038188934326172,\n",
       "  24.27257537841797,\n",
       "  24.076377868652344,\n",
       "  23.953262329101562,\n",
       "  24.066617965698242,\n",
       "  24.066062927246094,\n",
       "  23.941631317138672,\n",
       "  24.16575050354004,\n",
       "  24.15852928161621,\n",
       "  24.089609146118164,\n",
       "  24.016338348388672,\n",
       "  24.061443328857422,\n",
       "  23.933956146240234,\n",
       "  24.212329864501953,\n",
       "  24.16315269470215,\n",
       "  24.007349014282227,\n",
       "  24.08685302734375,\n",
       "  23.91222381591797,\n",
       "  24.011688232421875,\n",
       "  23.96139144897461,\n",
       "  24.21457862854004,\n",
       "  24.099355697631836,\n",
       "  24.16252326965332,\n",
       "  24.239355087280273,\n",
       "  24.11377716064453,\n",
       "  24.135345458984375,\n",
       "  23.871919631958008,\n",
       "  24.093658447265625,\n",
       "  23.935258865356445,\n",
       "  24.172454833984375,\n",
       "  23.986026763916016,\n",
       "  23.901390075683594,\n",
       "  24.070613861083984,\n",
       "  24.264188766479492,\n",
       "  23.95264434814453,\n",
       "  24.065593719482422,\n",
       "  24.251352310180664,\n",
       "  23.912670135498047,\n",
       "  24.272104263305664,\n",
       "  24.13178253173828,\n",
       "  24.154308319091797,\n",
       "  24.000324249267578,\n",
       "  24.104406356811523,\n",
       "  23.862503051757812,\n",
       "  24.18279266357422,\n",
       "  24.024276733398438,\n",
       "  24.377609252929688,\n",
       "  23.904123306274414,\n",
       "  24.105697631835938,\n",
       "  24.284082412719727,\n",
       "  24.06468963623047,\n",
       "  23.92925453186035,\n",
       "  24.118690490722656,\n",
       "  23.99070930480957,\n",
       "  23.940895080566406,\n",
       "  23.998485565185547,\n",
       "  24.103836059570312,\n",
       "  24.005815505981445,\n",
       "  24.11353302001953,\n",
       "  24.029855728149414,\n",
       "  24.306316375732422,\n",
       "  23.98807144165039,\n",
       "  24.276470184326172,\n",
       "  24.154081344604492,\n",
       "  24.00814437866211,\n",
       "  24.02283477783203,\n",
       "  23.98285675048828,\n",
       "  24.215234756469727,\n",
       "  24.154970169067383,\n",
       "  24.01828956604004,\n",
       "  24.09303092956543,\n",
       "  24.21952247619629,\n",
       "  24.02792739868164,\n",
       "  24.370912551879883,\n",
       "  23.866863250732422,\n",
       "  24.182214736938477,\n",
       "  24.07391929626465,\n",
       "  24.053016662597656,\n",
       "  24.023426055908203,\n",
       "  24.046018600463867,\n",
       "  24.098848342895508,\n",
       "  24.038484573364258,\n",
       "  24.12750816345215,\n",
       "  23.909425735473633,\n",
       "  23.845455169677734,\n",
       "  24.09549331665039,\n",
       "  23.986888885498047,\n",
       "  24.23974609375,\n",
       "  24.14645004272461,\n",
       "  24.053993225097656,\n",
       "  24.131994247436523,\n",
       "  23.9840030670166,\n",
       "  24.19223976135254,\n",
       "  23.94103240966797,\n",
       "  23.948867797851562,\n",
       "  24.268688201904297,\n",
       "  24.017427444458008,\n",
       "  24.324417114257812,\n",
       "  24.024412155151367,\n",
       "  23.939077377319336,\n",
       "  24.011232376098633,\n",
       "  24.197776794433594,\n",
       "  23.89911460876465,\n",
       "  24.115585327148438,\n",
       "  24.036426544189453,\n",
       "  24.162174224853516,\n",
       "  24.195964813232422,\n",
       "  24.0296688079834,\n",
       "  24.05990219116211,\n",
       "  23.968944549560547,\n",
       "  24.016830444335938,\n",
       "  24.143306732177734,\n",
       "  23.987224578857422,\n",
       "  24.23695945739746,\n",
       "  24.146148681640625,\n",
       "  23.910017013549805,\n",
       "  24.132925033569336,\n",
       "  24.220544815063477,\n",
       "  24.213329315185547,\n",
       "  23.920331954956055,\n",
       "  24.216489791870117,\n",
       "  23.983049392700195,\n",
       "  24.265798568725586,\n",
       "  24.247156143188477,\n",
       "  24.131473541259766,\n",
       "  23.978654861450195,\n",
       "  24.35260009765625,\n",
       "  24.17702865600586,\n",
       "  24.237070083618164,\n",
       "  23.95652961730957,\n",
       "  23.79090690612793,\n",
       "  23.916919708251953,\n",
       "  24.03956413269043,\n",
       "  24.28802490234375,\n",
       "  24.017271041870117,\n",
       "  24.270797729492188,\n",
       "  23.994949340820312,\n",
       "  23.976642608642578,\n",
       "  24.125646591186523,\n",
       "  24.020587921142578,\n",
       "  24.10997772216797,\n",
       "  24.15743637084961,\n",
       "  23.89919662475586,\n",
       "  23.91421127319336,\n",
       "  24.070951461791992,\n",
       "  24.176654815673828,\n",
       "  23.998455047607422,\n",
       "  24.005409240722656,\n",
       "  24.452245712280273,\n",
       "  24.151992797851562,\n",
       "  24.03703498840332,\n",
       "  24.131385803222656,\n",
       "  24.095069885253906,\n",
       "  24.155811309814453,\n",
       "  23.879924774169922,\n",
       "  24.020671844482422,\n",
       "  24.056913375854492,\n",
       "  24.13801383972168,\n",
       "  24.221023559570312,\n",
       "  24.10346031188965,\n",
       "  24.043392181396484,\n",
       "  24.05630111694336,\n",
       "  23.888484954833984,\n",
       "  23.79216194152832,\n",
       "  24.143705368041992,\n",
       "  24.2994384765625,\n",
       "  23.992586135864258,\n",
       "  24.266874313354492,\n",
       "  24.04567527770996,\n",
       "  24.146774291992188,\n",
       "  23.951574325561523,\n",
       "  24.318498611450195,\n",
       "  23.94795799255371,\n",
       "  24.115764617919922,\n",
       "  24.088041305541992,\n",
       "  24.111865997314453,\n",
       "  24.045740127563477,\n",
       "  24.07038688659668,\n",
       "  23.999053955078125,\n",
       "  24.080724716186523,\n",
       "  24.072622299194336,\n",
       "  24.12602424621582,\n",
       "  24.084672927856445,\n",
       "  23.990697860717773,\n",
       "  24.037633895874023,\n",
       "  24.32868003845215,\n",
       "  24.09868812561035,\n",
       "  23.971132278442383,\n",
       "  24.066518783569336,\n",
       "  24.077608108520508,\n",
       "  24.142658233642578,\n",
       "  24.12701988220215,\n",
       "  24.110624313354492,\n",
       "  24.039302825927734,\n",
       "  24.124759674072266,\n",
       "  24.04686737060547,\n",
       "  24.024028778076172,\n",
       "  24.237775802612305,\n",
       "  23.80478286743164,\n",
       "  24.115156173706055,\n",
       "  24.066049575805664,\n",
       "  24.061317443847656,\n",
       "  24.326581954956055,\n",
       "  24.1451358795166,\n",
       "  24.155214309692383,\n",
       "  24.09458351135254,\n",
       "  24.266216278076172,\n",
       "  24.033329010009766,\n",
       "  24.028766632080078,\n",
       "  24.34251594543457,\n",
       "  24.07649803161621,\n",
       "  24.24144744873047,\n",
       "  24.208772659301758,\n",
       "  24.02546501159668,\n",
       "  24.014230728149414,\n",
       "  24.1133975982666,\n",
       "  23.892566680908203,\n",
       "  24.25345230102539,\n",
       "  24.147918701171875,\n",
       "  24.070541381835938,\n",
       "  24.047056198120117,\n",
       "  24.03598976135254,\n",
       "  24.0106143951416,\n",
       "  24.151241302490234,\n",
       "  24.214374542236328,\n",
       "  24.104707717895508,\n",
       "  24.170673370361328,\n",
       "  23.90656852722168,\n",
       "  23.874359130859375,\n",
       "  23.943275451660156,\n",
       "  23.875038146972656,\n",
       "  24.18776512145996,\n",
       "  24.184438705444336,\n",
       "  24.11067771911621,\n",
       "  24.150503158569336,\n",
       "  24.056852340698242,\n",
       "  23.939966201782227,\n",
       "  24.1718807220459,\n",
       "  24.18726348876953,\n",
       "  23.910432815551758]}"
      ]
     },
     "execution_count": 54,
     "metadata": {},
     "output_type": "execute_result"
    }
   ],
   "source": [
    "model.history.history"
   ]
  },
  {
   "cell_type": "code",
   "execution_count": 55,
   "metadata": {
    "colab": {
     "base_uri": "https://localhost:8080/",
     "height": 424
    },
    "id": "RdRMKk-5YGAO",
    "outputId": "fb0775f2-e974-4bc6-d1ce-eed94d142948"
   },
   "outputs": [
    {
     "data": {
      "text/html": [
       "<div>\n",
       "<style scoped>\n",
       "    .dataframe tbody tr th:only-of-type {\n",
       "        vertical-align: middle;\n",
       "    }\n",
       "\n",
       "    .dataframe tbody tr th {\n",
       "        vertical-align: top;\n",
       "    }\n",
       "\n",
       "    .dataframe thead th {\n",
       "        text-align: right;\n",
       "    }\n",
       "</style>\n",
       "<table border=\"1\" class=\"dataframe\">\n",
       "  <thead>\n",
       "    <tr style=\"text-align: right;\">\n",
       "      <th></th>\n",
       "      <th>loss</th>\n",
       "    </tr>\n",
       "  </thead>\n",
       "  <tbody>\n",
       "    <tr>\n",
       "      <th>0</th>\n",
       "      <td>24.026</td>\n",
       "    </tr>\n",
       "    <tr>\n",
       "      <th>1</th>\n",
       "      <td>24.112</td>\n",
       "    </tr>\n",
       "    <tr>\n",
       "      <th>2</th>\n",
       "      <td>24.249</td>\n",
       "    </tr>\n",
       "    <tr>\n",
       "      <th>3</th>\n",
       "      <td>24.182</td>\n",
       "    </tr>\n",
       "    <tr>\n",
       "      <th>4</th>\n",
       "      <td>23.889</td>\n",
       "    </tr>\n",
       "    <tr>\n",
       "      <th>...</th>\n",
       "      <td>...</td>\n",
       "    </tr>\n",
       "    <tr>\n",
       "      <th>245</th>\n",
       "      <td>24.057</td>\n",
       "    </tr>\n",
       "    <tr>\n",
       "      <th>246</th>\n",
       "      <td>23.940</td>\n",
       "    </tr>\n",
       "    <tr>\n",
       "      <th>247</th>\n",
       "      <td>24.172</td>\n",
       "    </tr>\n",
       "    <tr>\n",
       "      <th>248</th>\n",
       "      <td>24.187</td>\n",
       "    </tr>\n",
       "    <tr>\n",
       "      <th>249</th>\n",
       "      <td>23.910</td>\n",
       "    </tr>\n",
       "  </tbody>\n",
       "</table>\n",
       "<p>250 rows × 1 columns</p>\n",
       "</div>"
      ],
      "text/plain": [
       "      loss\n",
       "0   24.026\n",
       "1   24.112\n",
       "2   24.249\n",
       "3   24.182\n",
       "4   23.889\n",
       "..     ...\n",
       "245 24.057\n",
       "246 23.940\n",
       "247 24.172\n",
       "248 24.187\n",
       "249 23.910\n",
       "\n",
       "[250 rows x 1 columns]"
      ]
     },
     "execution_count": 55,
     "metadata": {},
     "output_type": "execute_result"
    }
   ],
   "source": [
    "pd.DataFrame(model.history.history)"
   ]
  },
  {
   "cell_type": "code",
   "execution_count": 56,
   "metadata": {
    "colab": {
     "base_uri": "https://localhost:8080/",
     "height": 374
    },
    "id": "nQo81WikYGAO",
    "outputId": "0d82b10f-dc38-4a24-8649-bbf2c641fd14"
   },
   "outputs": [
    {
     "data": {
      "image/png": "[encoded data removed]",
      "text/plain": [
       "<Figure size 800x600 with 1 Axes>"
      ]
     },
     "metadata": {},
     "output_type": "display_data"
    }
   ],
   "source": [
    "loss_df = pd.DataFrame(model.history.history)\n",
    "loss_df.plot();"
   ]
  },
  {
   "cell_type": "code",
   "execution_count": 57,
   "metadata": {
    "colab": {
     "base_uri": "https://localhost:8080/",
     "height": 404
    },
    "id": "I1m7YLuLYGAP",
    "outputId": "b0e24daa-3480-4339-c5d5-378c0f953b01"
   },
   "outputs": [
    {
     "data": {
      "image/png": "[encoded data removed]",
      "text/plain": [
       "<Figure size 800x600 with 1 Axes>"
      ]
     },
     "metadata": {},
     "output_type": "display_data"
    }
   ],
   "source": [
    "fig, ax= plt.subplots()\n",
    "ax.plot(loss_df)\n",
    "ax.set_xlabel(\"epoch\")\n",
    "ax.set_ylabel(\"loss\")\n",
    "ax.set_title(\"loss - epoch graph\")\n",
    "ax.set_xlim([0, 250]) # focusing on the given x values\n",
    "ax.set_ylim([0, 3000]); # focusing on the given y values "
   ]
  },
  {
   "cell_type": "markdown",
   "metadata": {
    "id": "XjsrwTyCYGAP"
   },
   "source": [
    "## Model Performance"
   ]
  },
  {
   "cell_type": "code",
   "execution_count": 58,
   "metadata": {
    "id": "7ZtTz4geYGAQ"
   },
   "outputs": [],
   "source": [
    "from sklearn.metrics import mean_squared_error, mean_absolute_error, r2_score"
   ]
  },
  {
   "cell_type": "code",
   "execution_count": 59,
   "metadata": {
    "colab": {
     "base_uri": "https://localhost:8080/"
    },
    "id": "vmFmyNveYGAQ",
    "outputId": "e6d44d64-a2c5-40fb-de59-b88df2544066"
   },
   "outputs": [
    {
     "data": {
      "text/plain": [
       "23.760814666748047"
      ]
     },
     "execution_count": 59,
     "metadata": {},
     "output_type": "execute_result"
    }
   ],
   "source": [
    "model.evaluate(X_train, y_train, verbose=0)\n",
    "\n",
    "# compile satırında loss parameteresinin karşısınıa ne yazarsak onun skoru/skorları döner.\n",
    "# model.evaluate arka planda burada predict yapıyor."
   ]
  },
  {
   "cell_type": "code",
   "execution_count": 60,
   "metadata": {
    "colab": {
     "base_uri": "https://localhost:8080/"
    },
    "id": "JrSDNHtXYGAQ",
    "outputId": "c13e25ea-911a-4681-b9ff-3bbd4facc424"
   },
   "outputs": [
    {
     "data": {
      "text/plain": [
       "25.335941314697266"
      ]
     },
     "execution_count": 60,
     "metadata": {},
     "output_type": "execute_result"
    }
   ],
   "source": [
    "model.evaluate(X_test, y_test, verbose=0)"
   ]
  },
  {
   "cell_type": "code",
   "execution_count": 61,
   "metadata": {},
   "outputs": [],
   "source": [
    "# şu şekilde de yapabiliriz : "
   ]
  },
  {
   "cell_type": "code",
   "execution_count": 62,
   "metadata": {
    "colab": {
     "base_uri": "https://localhost:8080/"
    },
    "id": "31BhQL3tYGAQ",
    "outputId": "431c6228-7a98-4811-97bf-a19539b04ac0"
   },
   "outputs": [
    {
     "name": "stdout",
     "output_type": "stream",
     "text": [
      "10/10 [==============================] - 0s 2ms/step\n"
     ]
    }
   ],
   "source": [
    "y_pred = model.predict(X_test)"
   ]
  },
  {
   "cell_type": "code",
   "execution_count": 63,
   "metadata": {},
   "outputs": [
    {
     "data": {
      "text/plain": [
       "(300, 1)"
      ]
     },
     "execution_count": 63,
     "metadata": {},
     "output_type": "execute_result"
    }
   ],
   "source": [
    "y_pred.shape"
   ]
  },
  {
   "cell_type": "code",
   "execution_count": 64,
   "metadata": {},
   "outputs": [
    {
     "data": {
      "text/plain": [
       "(300,)"
      ]
     },
     "execution_count": 64,
     "metadata": {},
     "output_type": "execute_result"
    }
   ],
   "source": [
    "y_test.shape"
   ]
  },
  {
   "cell_type": "code",
   "execution_count": 65,
   "metadata": {
    "colab": {
     "base_uri": "https://localhost:8080/",
     "height": 363
    },
    "id": "851iPS9eYGAR",
    "outputId": "5425a3a5-9d13-4076-fb6f-67240d7e772d"
   },
   "outputs": [
    {
     "data": {
      "text/html": [
       "<div>\n",
       "<style scoped>\n",
       "    .dataframe tbody tr th:only-of-type {\n",
       "        vertical-align: middle;\n",
       "    }\n",
       "\n",
       "    .dataframe tbody tr th {\n",
       "        vertical-align: top;\n",
       "    }\n",
       "\n",
       "    .dataframe thead th {\n",
       "        text-align: right;\n",
       "    }\n",
       "</style>\n",
       "<table border=\"1\" class=\"dataframe\">\n",
       "  <thead>\n",
       "    <tr style=\"text-align: right;\">\n",
       "      <th></th>\n",
       "      <th>Actual</th>\n",
       "      <th>Pred</th>\n",
       "    </tr>\n",
       "  </thead>\n",
       "  <tbody>\n",
       "    <tr>\n",
       "      <th>924</th>\n",
       "      <td>664.509</td>\n",
       "      <td>669.722</td>\n",
       "    </tr>\n",
       "    <tr>\n",
       "      <th>65</th>\n",
       "      <td>547.276</td>\n",
       "      <td>551.560</td>\n",
       "    </tr>\n",
       "    <tr>\n",
       "      <th>519</th>\n",
       "      <td>553.905</td>\n",
       "      <td>552.184</td>\n",
       "    </tr>\n",
       "    <tr>\n",
       "      <th>436</th>\n",
       "      <td>610.297</td>\n",
       "      <td>609.089</td>\n",
       "    </tr>\n",
       "    <tr>\n",
       "      <th>211</th>\n",
       "      <td>504.694</td>\n",
       "      <td>499.793</td>\n",
       "    </tr>\n",
       "    <tr>\n",
       "      <th>261</th>\n",
       "      <td>531.662</td>\n",
       "      <td>542.465</td>\n",
       "    </tr>\n",
       "    <tr>\n",
       "      <th>344</th>\n",
       "      <td>325.795</td>\n",
       "      <td>327.427</td>\n",
       "    </tr>\n",
       "    <tr>\n",
       "      <th>599</th>\n",
       "      <td>475.947</td>\n",
       "      <td>480.937</td>\n",
       "    </tr>\n",
       "    <tr>\n",
       "      <th>868</th>\n",
       "      <td>320.228</td>\n",
       "      <td>314.270</td>\n",
       "    </tr>\n",
       "    <tr>\n",
       "      <th>82</th>\n",
       "      <td>462.005</td>\n",
       "      <td>466.372</td>\n",
       "    </tr>\n",
       "  </tbody>\n",
       "</table>\n",
       "</div>"
      ],
      "text/plain": [
       "     Actual    Pred\n",
       "924 664.509 669.722\n",
       "65  547.276 551.560\n",
       "519 553.905 552.184\n",
       "436 610.297 609.089\n",
       "211 504.694 499.793\n",
       "261 531.662 542.465\n",
       "344 325.795 327.427\n",
       "599 475.947 480.937\n",
       "868 320.228 314.270\n",
       "82  462.005 466.372"
      ]
     },
     "execution_count": 65,
     "metadata": {},
     "output_type": "execute_result"
    }
   ],
   "source": [
    "my_dict = {\"Actual\" : y_test, \"Pred\" : y_pred.reshape(-1,)}   # y_pred'in sonucu 2 boyutlu bir aray\n",
    "compare = pd.DataFrame(my_dict)\n",
    "compare.sample(10)"
   ]
  },
  {
   "cell_type": "code",
   "execution_count": 66,
   "metadata": {
    "id": "qhvwQBwkYGAR"
   },
   "outputs": [],
   "source": [
    "def eval_metric(actual, pred):\n",
    "    mae = mean_absolute_error(actual, pred)\n",
    "    mse = mean_squared_error(actual, pred)\n",
    "    rmse = mean_squared_error(actual, pred,squared=False)\n",
    "    score = r2_score(actual, pred)\n",
    "    return print(\"r2_score:\", score, \"\\nmae:\", mae, \"\\nmse:\", mse, \"\\nrmse:\", rmse)"
   ]
  },
  {
   "cell_type": "code",
   "execution_count": 67,
   "metadata": {
    "colab": {
     "base_uri": "https://localhost:8080/"
    },
    "id": "ebkLLagIYGAR",
    "outputId": "f0254f5d-cf6e-4faa-a0de-ab8432c7f99c"
   },
   "outputs": [
    {
     "name": "stdout",
     "output_type": "stream",
     "text": [
      "r2_score: 0.9971183062791557 \n",
      "mae: 4.047862724639344 \n",
      "mse: 25.335942443684218 \n",
      "rmse: 5.033482139005185\n"
     ]
    }
   ],
   "source": [
    "eval_metric(y_test, y_pred)"
   ]
  },
  {
   "cell_type": "markdown",
   "metadata": {
    "id": "oKEYU7AdYGAR"
   },
   "source": [
    "## Final Model and Model Deployment"
   ]
  },
  {
   "cell_type": "markdown",
   "metadata": {
    "id": "APF0TKXZYGAS"
   },
   "source": [
    "### Final Model Training"
   ]
  },
  {
   "cell_type": "code",
   "execution_count": 68,
   "metadata": {
    "id": "kIYJpUs8YGAS"
   },
   "outputs": [],
   "source": [
    "scaler = MinMaxScaler().fit(X)"
   ]
  },
  {
   "cell_type": "code",
   "execution_count": 69,
   "metadata": {
    "id": "4H_I5VSCYGAS"
   },
   "outputs": [],
   "source": [
    "import pickle\n",
    "pickle.dump(scaler, open(\"scaler_fake_reg\", 'wb'))"
   ]
  },
  {
   "cell_type": "code",
   "execution_count": 70,
   "metadata": {
    "id": "4SFqBUE6YGAS"
   },
   "outputs": [
    {
     "data": {
      "text/plain": [
       "array([[0.44380388, 0.4885581 ],\n",
       "       [0.29323398, 0.71363026],\n",
       "       [0.48977598, 0.32595231],\n",
       "       ...,\n",
       "       [0.7144056 , 0.32658556],\n",
       "       [0.60372768, 0.27637009],\n",
       "       [0.35350286, 0.78575664]])"
      ]
     },
     "execution_count": 70,
     "metadata": {},
     "output_type": "execute_result"
    }
   ],
   "source": [
    "X_scaled = scaler.transform(X)\n",
    "X_scaled"
   ]
  },
  {
   "cell_type": "code",
   "execution_count": 72,
   "metadata": {
    "colab": {
     "base_uri": "https://localhost:8080/"
    },
    "id": "D2PHOzS1YGAS",
    "outputId": "a27e4fc2-be60-490f-9685-ec1e966d605d",
    "scrolled": true
   },
   "outputs": [],
   "source": [
    "final_model = Sequential()\n",
    "\n",
    "final_model.add(Dense(units = 4, activation = \"relu\"))     # input_dim = 2 or input_dim = X_train.shape[1]\n",
    "final_model.add(Dense(units = 4, activation = \"relu\"))\n",
    "final_model.add(Dense(units = 4, activation = \"relu\"))\n",
    "final_model.add(Dense(1))\n",
    "\n",
    "final_model.compile(optimizer = \"rmsprop\", loss = \"mse\")"
   ]
  },
  {
   "cell_type": "code",
   "execution_count": 73,
   "metadata": {},
   "outputs": [],
   "source": [
    "#model.summary()"
   ]
  },
  {
   "cell_type": "code",
   "execution_count": 74,
   "metadata": {},
   "outputs": [],
   "source": [
    "#final_model.weights"
   ]
  },
  {
   "cell_type": "code",
   "execution_count": 75,
   "metadata": {},
   "outputs": [
    {
     "name": "stdout",
     "output_type": "stream",
     "text": [
      "Epoch 1/250\n",
      "32/32 [==============================] - 1s 2ms/step - loss: 257400.0938\n",
      "Epoch 2/250\n",
      "32/32 [==============================] - 0s 2ms/step - loss: 257281.2969\n",
      "Epoch 3/250\n",
      "32/32 [==============================] - 0s 3ms/step - loss: 257126.8281\n",
      "Epoch 4/250\n",
      "32/32 [==============================] - 0s 2ms/step - loss: 256929.3750\n",
      "Epoch 5/250\n",
      "32/32 [==============================] - 0s 3ms/step - loss: 256683.7656\n",
      "Epoch 6/250\n",
      "32/32 [==============================] - 0s 3ms/step - loss: 256384.3125\n",
      "Epoch 7/250\n",
      "32/32 [==============================] - 0s 3ms/step - loss: 256026.2188\n",
      "Epoch 8/250\n",
      "32/32 [==============================] - 0s 3ms/step - loss: 255602.3438\n",
      "Epoch 9/250\n",
      "32/32 [==============================] - 0s 3ms/step - loss: 255105.7812\n",
      "Epoch 10/250\n",
      "32/32 [==============================] - 0s 3ms/step - loss: 254524.8906\n",
      "Epoch 11/250\n",
      "32/32 [==============================] - 0s 3ms/step - loss: 253845.9844\n",
      "Epoch 12/250\n",
      "32/32 [==============================] - 0s 3ms/step - loss: 253057.5156\n",
      "Epoch 13/250\n",
      "32/32 [==============================] - 0s 3ms/step - loss: 252140.1562\n",
      "Epoch 14/250\n",
      "32/32 [==============================] - 0s 3ms/step - loss: 251090.2969\n",
      "Epoch 15/250\n",
      "32/32 [==============================] - 0s 3ms/step - loss: 249893.0625\n",
      "Epoch 16/250\n",
      "32/32 [==============================] - 0s 3ms/step - loss: 248544.5000\n",
      "Epoch 17/250\n",
      "32/32 [==============================] - 0s 3ms/step - loss: 247012.2812\n",
      "Epoch 18/250\n",
      "32/32 [==============================] - 0s 3ms/step - loss: 245299.7031\n",
      "Epoch 19/250\n",
      "32/32 [==============================] - 0s 3ms/step - loss: 243373.0625\n",
      "Epoch 20/250\n",
      "32/32 [==============================] - 0s 3ms/step - loss: 241239.7656\n",
      "Epoch 21/250\n",
      "32/32 [==============================] - 0s 3ms/step - loss: 238880.1562\n",
      "Epoch 22/250\n",
      "32/32 [==============================] - 0s 3ms/step - loss: 236285.7812\n",
      "Epoch 23/250\n",
      "32/32 [==============================] - 0s 3ms/step - loss: 233412.5469\n",
      "Epoch 24/250\n",
      "32/32 [==============================] - 0s 3ms/step - loss: 230279.7188\n",
      "Epoch 25/250\n",
      "32/32 [==============================] - 0s 3ms/step - loss: 226879.2500\n",
      "Epoch 26/250\n",
      "32/32 [==============================] - 0s 3ms/step - loss: 223186.6250\n",
      "Epoch 27/250\n",
      "32/32 [==============================] - 0s 2ms/step - loss: 219174.4219\n",
      "Epoch 28/250\n",
      "32/32 [==============================] - 0s 3ms/step - loss: 214824.4375\n",
      "Epoch 29/250\n",
      "32/32 [==============================] - 0s 3ms/step - loss: 210206.0781\n",
      "Epoch 30/250\n",
      "32/32 [==============================] - 0s 3ms/step - loss: 205228.8438\n",
      "Epoch 31/250\n",
      "32/32 [==============================] - 0s 2ms/step - loss: 199916.7188\n",
      "Epoch 32/250\n",
      "32/32 [==============================] - 0s 3ms/step - loss: 194253.5312\n",
      "Epoch 33/250\n",
      "32/32 [==============================] - 0s 3ms/step - loss: 188256.5156\n",
      "Epoch 34/250\n",
      "32/32 [==============================] - 0s 3ms/step - loss: 181901.3906\n",
      "Epoch 35/250\n",
      "32/32 [==============================] - 0s 3ms/step - loss: 175218.6250\n",
      "Epoch 36/250\n",
      "32/32 [==============================] - 0s 3ms/step - loss: 168195.6406\n",
      "Epoch 37/250\n",
      "32/32 [==============================] - 0s 3ms/step - loss: 160793.8594\n",
      "Epoch 38/250\n",
      "32/32 [==============================] - 0s 3ms/step - loss: 153121.0781\n",
      "Epoch 39/250\n",
      "32/32 [==============================] - 0s 3ms/step - loss: 145150.8906\n",
      "Epoch 40/250\n",
      "32/32 [==============================] - 0s 3ms/step - loss: 136903.4219\n",
      "Epoch 41/250\n",
      "32/32 [==============================] - 0s 3ms/step - loss: 128354.9453\n",
      "Epoch 42/250\n",
      "32/32 [==============================] - 0s 2ms/step - loss: 119645.6328\n",
      "Epoch 43/250\n",
      "32/32 [==============================] - 0s 2ms/step - loss: 110714.3281\n",
      "Epoch 44/250\n",
      "32/32 [==============================] - 0s 3ms/step - loss: 101702.0469\n",
      "Epoch 45/250\n",
      "32/32 [==============================] - 0s 3ms/step - loss: 92523.2500\n",
      "Epoch 46/250\n",
      "32/32 [==============================] - 0s 2ms/step - loss: 83370.9844\n",
      "Epoch 47/250\n",
      "32/32 [==============================] - 0s 3ms/step - loss: 74169.4922\n",
      "Epoch 48/250\n",
      "32/32 [==============================] - 0s 3ms/step - loss: 65054.0273\n",
      "Epoch 49/250\n",
      "32/32 [==============================] - 0s 2ms/step - loss: 56200.3633\n",
      "Epoch 50/250\n",
      "32/32 [==============================] - 0s 3ms/step - loss: 47607.6133\n",
      "Epoch 51/250\n",
      "32/32 [==============================] - 0s 2ms/step - loss: 39390.8477\n",
      "Epoch 52/250\n",
      "32/32 [==============================] - 0s 3ms/step - loss: 31647.6562\n",
      "Epoch 53/250\n",
      "32/32 [==============================] - 0s 2ms/step - loss: 24524.5156\n",
      "Epoch 54/250\n",
      "32/32 [==============================] - 0s 2ms/step - loss: 18125.7656\n",
      "Epoch 55/250\n",
      "32/32 [==============================] - 0s 3ms/step - loss: 12564.6641\n",
      "Epoch 56/250\n",
      "32/32 [==============================] - 0s 3ms/step - loss: 8034.8403\n",
      "Epoch 57/250\n",
      "32/32 [==============================] - 0s 2ms/step - loss: 4644.9404\n",
      "Epoch 58/250\n",
      "32/32 [==============================] - 0s 3ms/step - loss: 2490.2002\n",
      "Epoch 59/250\n",
      "32/32 [==============================] - 0s 3ms/step - loss: 1524.4479\n",
      "Epoch 60/250\n",
      "32/32 [==============================] - 0s 2ms/step - loss: 1344.4691\n",
      "Epoch 61/250\n",
      "32/32 [==============================] - 0s 2ms/step - loss: 1303.4443\n",
      "Epoch 62/250\n",
      "32/32 [==============================] - 0s 3ms/step - loss: 1271.1686\n",
      "Epoch 63/250\n",
      "32/32 [==============================] - 0s 3ms/step - loss: 1233.7385\n",
      "Epoch 64/250\n",
      "32/32 [==============================] - 0s 3ms/step - loss: 1198.4396\n",
      "Epoch 65/250\n",
      "32/32 [==============================] - 0s 3ms/step - loss: 1163.6525\n",
      "Epoch 66/250\n",
      "32/32 [==============================] - 0s 2ms/step - loss: 1126.8978\n",
      "Epoch 67/250\n",
      "32/32 [==============================] - 0s 3ms/step - loss: 1090.4159\n",
      "Epoch 68/250\n",
      "32/32 [==============================] - 0s 2ms/step - loss: 1056.1407\n",
      "Epoch 69/250\n",
      "32/32 [==============================] - 0s 2ms/step - loss: 1022.0114\n",
      "Epoch 70/250\n",
      "32/32 [==============================] - 0s 3ms/step - loss: 988.8409\n",
      "Epoch 71/250\n",
      "32/32 [==============================] - 0s 3ms/step - loss: 952.6258\n",
      "Epoch 72/250\n",
      "32/32 [==============================] - 0s 3ms/step - loss: 920.5587\n",
      "Epoch 73/250\n",
      "32/32 [==============================] - 0s 3ms/step - loss: 890.3218\n",
      "Epoch 74/250\n",
      "32/32 [==============================] - 0s 2ms/step - loss: 853.3546\n",
      "Epoch 75/250\n",
      "32/32 [==============================] - 0s 2ms/step - loss: 818.3735\n",
      "Epoch 76/250\n",
      "32/32 [==============================] - 0s 2ms/step - loss: 790.6909\n",
      "Epoch 77/250\n",
      "32/32 [==============================] - 0s 3ms/step - loss: 760.8238\n",
      "Epoch 78/250\n",
      "32/32 [==============================] - 0s 3ms/step - loss: 731.5853\n",
      "Epoch 79/250\n",
      "32/32 [==============================] - 0s 2ms/step - loss: 701.2455\n",
      "Epoch 80/250\n",
      "32/32 [==============================] - 0s 3ms/step - loss: 670.6364\n",
      "Epoch 81/250\n",
      "32/32 [==============================] - 0s 3ms/step - loss: 643.8526\n",
      "Epoch 82/250\n",
      "32/32 [==============================] - 0s 3ms/step - loss: 616.9089\n",
      "Epoch 83/250\n",
      "32/32 [==============================] - 0s 3ms/step - loss: 590.7410\n",
      "Epoch 84/250\n",
      "32/32 [==============================] - 0s 3ms/step - loss: 561.8627\n",
      "Epoch 85/250\n",
      "32/32 [==============================] - 0s 3ms/step - loss: 532.1095\n",
      "Epoch 86/250\n",
      "32/32 [==============================] - 0s 3ms/step - loss: 503.3395\n",
      "Epoch 87/250\n",
      "32/32 [==============================] - 0s 3ms/step - loss: 479.2307\n",
      "Epoch 88/250\n",
      "32/32 [==============================] - 0s 3ms/step - loss: 456.6028\n",
      "Epoch 89/250\n",
      "32/32 [==============================] - 0s 3ms/step - loss: 432.0615\n",
      "Epoch 90/250\n",
      "32/32 [==============================] - 0s 3ms/step - loss: 410.9355\n",
      "Epoch 91/250\n",
      "32/32 [==============================] - 0s 3ms/step - loss: 384.7251\n",
      "Epoch 92/250\n",
      "32/32 [==============================] - 0s 3ms/step - loss: 364.1368\n",
      "Epoch 93/250\n",
      "32/32 [==============================] - 0s 3ms/step - loss: 342.5068\n",
      "Epoch 94/250\n",
      "32/32 [==============================] - 0s 3ms/step - loss: 319.7744\n",
      "Epoch 95/250\n",
      "32/32 [==============================] - 0s 2ms/step - loss: 298.3771\n",
      "Epoch 96/250\n",
      "32/32 [==============================] - 0s 3ms/step - loss: 280.2303\n",
      "Epoch 97/250\n",
      "32/32 [==============================] - 0s 3ms/step - loss: 262.5863\n",
      "Epoch 98/250\n",
      "32/32 [==============================] - 0s 3ms/step - loss: 243.6362\n",
      "Epoch 99/250\n",
      "32/32 [==============================] - 0s 3ms/step - loss: 226.4087\n",
      "Epoch 100/250\n",
      "32/32 [==============================] - 0s 2ms/step - loss: 209.9073\n",
      "Epoch 101/250\n",
      "32/32 [==============================] - 0s 2ms/step - loss: 195.8706\n",
      "Epoch 102/250\n",
      "32/32 [==============================] - 0s 2ms/step - loss: 180.6648\n",
      "Epoch 103/250\n",
      "32/32 [==============================] - 0s 3ms/step - loss: 167.7789\n",
      "Epoch 104/250\n",
      "32/32 [==============================] - 0s 3ms/step - loss: 153.6573\n",
      "Epoch 105/250\n",
      "32/32 [==============================] - 0s 2ms/step - loss: 141.0491\n",
      "Epoch 106/250\n",
      "32/32 [==============================] - 0s 2ms/step - loss: 128.7788\n",
      "Epoch 107/250\n",
      "32/32 [==============================] - 0s 2ms/step - loss: 117.0307\n",
      "Epoch 108/250\n",
      "32/32 [==============================] - 0s 2ms/step - loss: 106.7492\n",
      "Epoch 109/250\n",
      "32/32 [==============================] - 0s 3ms/step - loss: 96.8867\n",
      "Epoch 110/250\n",
      "32/32 [==============================] - 0s 2ms/step - loss: 87.3407\n",
      "Epoch 111/250\n",
      "32/32 [==============================] - 0s 2ms/step - loss: 79.4236\n",
      "Epoch 112/250\n",
      "32/32 [==============================] - 0s 2ms/step - loss: 70.7187\n",
      "Epoch 113/250\n",
      "32/32 [==============================] - 0s 2ms/step - loss: 63.4477\n",
      "Epoch 114/250\n",
      "32/32 [==============================] - 0s 2ms/step - loss: 57.3768\n",
      "Epoch 115/250\n",
      "32/32 [==============================] - 0s 2ms/step - loss: 52.4682\n",
      "Epoch 116/250\n",
      "32/32 [==============================] - 0s 2ms/step - loss: 48.1439\n",
      "Epoch 117/250\n",
      "32/32 [==============================] - 0s 2ms/step - loss: 43.7392\n",
      "Epoch 118/250\n",
      "32/32 [==============================] - 0s 3ms/step - loss: 40.7347\n",
      "Epoch 119/250\n",
      "32/32 [==============================] - 0s 2ms/step - loss: 37.5570\n",
      "Epoch 120/250\n",
      "32/32 [==============================] - 0s 2ms/step - loss: 34.9795\n",
      "Epoch 121/250\n",
      "32/32 [==============================] - 0s 2ms/step - loss: 32.8063\n",
      "Epoch 122/250\n",
      "32/32 [==============================] - 0s 3ms/step - loss: 31.3258\n",
      "Epoch 123/250\n",
      "32/32 [==============================] - 0s 3ms/step - loss: 30.1668\n",
      "Epoch 124/250\n",
      "32/32 [==============================] - 0s 3ms/step - loss: 28.7788\n",
      "Epoch 125/250\n",
      "32/32 [==============================] - 0s 3ms/step - loss: 27.9036\n",
      "Epoch 126/250\n",
      "32/32 [==============================] - 0s 3ms/step - loss: 26.9311\n",
      "Epoch 127/250\n",
      "32/32 [==============================] - 0s 3ms/step - loss: 26.7000\n",
      "Epoch 128/250\n",
      "32/32 [==============================] - 0s 2ms/step - loss: 26.2212\n",
      "Epoch 129/250\n",
      "32/32 [==============================] - 0s 3ms/step - loss: 25.8213\n",
      "Epoch 130/250\n",
      "32/32 [==============================] - 0s 3ms/step - loss: 25.4752\n",
      "Epoch 131/250\n",
      "32/32 [==============================] - 0s 3ms/step - loss: 25.3757\n",
      "Epoch 132/250\n",
      "32/32 [==============================] - 0s 3ms/step - loss: 25.0614\n",
      "Epoch 133/250\n",
      "32/32 [==============================] - 0s 2ms/step - loss: 25.0821\n",
      "Epoch 134/250\n",
      "32/32 [==============================] - 0s 3ms/step - loss: 25.1076\n",
      "Epoch 135/250\n",
      "32/32 [==============================] - 0s 2ms/step - loss: 24.7882\n",
      "Epoch 136/250\n",
      "32/32 [==============================] - 0s 3ms/step - loss: 25.0155\n",
      "Epoch 137/250\n",
      "32/32 [==============================] - 0s 3ms/step - loss: 24.9704\n",
      "Epoch 138/250\n",
      "32/32 [==============================] - 0s 3ms/step - loss: 24.8033\n",
      "Epoch 139/250\n",
      "32/32 [==============================] - 0s 3ms/step - loss: 24.9369\n",
      "Epoch 140/250\n",
      "32/32 [==============================] - 0s 2ms/step - loss: 24.5596\n",
      "Epoch 141/250\n",
      "32/32 [==============================] - 0s 3ms/step - loss: 24.7522\n",
      "Epoch 142/250\n",
      "32/32 [==============================] - 0s 3ms/step - loss: 24.4694\n",
      "Epoch 143/250\n",
      "32/32 [==============================] - 0s 2ms/step - loss: 24.8513\n",
      "Epoch 144/250\n",
      "32/32 [==============================] - 0s 2ms/step - loss: 24.7764\n",
      "Epoch 145/250\n",
      "32/32 [==============================] - 0s 3ms/step - loss: 24.6761\n",
      "Epoch 146/250\n",
      "32/32 [==============================] - 0s 3ms/step - loss: 24.5657\n",
      "Epoch 147/250\n",
      "32/32 [==============================] - 0s 3ms/step - loss: 24.5956\n",
      "Epoch 148/250\n",
      "32/32 [==============================] - 0s 3ms/step - loss: 24.5354\n",
      "Epoch 149/250\n",
      "32/32 [==============================] - 0s 3ms/step - loss: 24.9592\n",
      "Epoch 150/250\n",
      "32/32 [==============================] - 0s 3ms/step - loss: 24.7247\n",
      "Epoch 151/250\n",
      "32/32 [==============================] - 0s 2ms/step - loss: 24.5549\n",
      "Epoch 152/250\n",
      "32/32 [==============================] - 0s 3ms/step - loss: 24.6392\n",
      "Epoch 153/250\n",
      "32/32 [==============================] - 0s 2ms/step - loss: 24.4767\n",
      "Epoch 154/250\n",
      "32/32 [==============================] - 0s 3ms/step - loss: 24.3706\n",
      "Epoch 155/250\n",
      "32/32 [==============================] - 0s 3ms/step - loss: 24.7337\n",
      "Epoch 156/250\n",
      "32/32 [==============================] - 0s 3ms/step - loss: 24.7522\n",
      "Epoch 157/250\n",
      "32/32 [==============================] - 0s 3ms/step - loss: 24.6849\n",
      "Epoch 158/250\n",
      "32/32 [==============================] - 0s 2ms/step - loss: 25.1414\n",
      "Epoch 159/250\n",
      "32/32 [==============================] - 0s 3ms/step - loss: 24.5289\n",
      "Epoch 160/250\n",
      "32/32 [==============================] - 0s 3ms/step - loss: 24.9476\n",
      "Epoch 161/250\n",
      "32/32 [==============================] - 0s 3ms/step - loss: 24.6240\n",
      "Epoch 162/250\n",
      "32/32 [==============================] - 0s 3ms/step - loss: 25.0188\n",
      "Epoch 163/250\n",
      "32/32 [==============================] - 0s 2ms/step - loss: 24.4109\n",
      "Epoch 164/250\n",
      "32/32 [==============================] - 0s 2ms/step - loss: 24.5887\n",
      "Epoch 165/250\n",
      "32/32 [==============================] - 0s 3ms/step - loss: 24.6705\n",
      "Epoch 166/250\n",
      "32/32 [==============================] - 0s 2ms/step - loss: 24.7789\n",
      "Epoch 167/250\n",
      "32/32 [==============================] - 0s 3ms/step - loss: 24.6415\n",
      "Epoch 168/250\n",
      "32/32 [==============================] - 0s 2ms/step - loss: 25.0172\n",
      "Epoch 169/250\n",
      "32/32 [==============================] - 0s 2ms/step - loss: 24.8557\n",
      "Epoch 170/250\n",
      "32/32 [==============================] - 0s 2ms/step - loss: 24.7426\n",
      "Epoch 171/250\n",
      "32/32 [==============================] - 0s 3ms/step - loss: 24.8490\n",
      "Epoch 172/250\n",
      "32/32 [==============================] - 0s 3ms/step - loss: 24.5207\n",
      "Epoch 173/250\n",
      "32/32 [==============================] - 0s 2ms/step - loss: 24.8416\n",
      "Epoch 174/250\n",
      "32/32 [==============================] - 0s 2ms/step - loss: 24.4896\n",
      "Epoch 175/250\n",
      "32/32 [==============================] - 0s 2ms/step - loss: 24.5452\n",
      "Epoch 176/250\n",
      "32/32 [==============================] - 0s 3ms/step - loss: 25.0304\n",
      "Epoch 177/250\n",
      "32/32 [==============================] - 0s 2ms/step - loss: 24.8103\n",
      "Epoch 178/250\n",
      "32/32 [==============================] - 0s 3ms/step - loss: 24.7246\n",
      "Epoch 179/250\n",
      "32/32 [==============================] - 0s 2ms/step - loss: 24.2160\n",
      "Epoch 180/250\n",
      "32/32 [==============================] - 0s 3ms/step - loss: 24.5828\n",
      "Epoch 181/250\n",
      "32/32 [==============================] - 0s 3ms/step - loss: 24.6265\n",
      "Epoch 182/250\n",
      "32/32 [==============================] - 0s 2ms/step - loss: 24.5648\n",
      "Epoch 183/250\n",
      "32/32 [==============================] - 0s 3ms/step - loss: 24.4575\n",
      "Epoch 184/250\n",
      "32/32 [==============================] - 0s 3ms/step - loss: 24.5898\n",
      "Epoch 185/250\n",
      "32/32 [==============================] - 0s 3ms/step - loss: 24.7444\n",
      "Epoch 186/250\n",
      "32/32 [==============================] - 0s 3ms/step - loss: 24.5133\n",
      "Epoch 187/250\n",
      "32/32 [==============================] - 0s 2ms/step - loss: 24.6581\n",
      "Epoch 188/250\n",
      "32/32 [==============================] - 0s 2ms/step - loss: 24.4247\n",
      "Epoch 189/250\n",
      "32/32 [==============================] - 0s 3ms/step - loss: 25.1652\n",
      "Epoch 190/250\n",
      "32/32 [==============================] - 0s 2ms/step - loss: 24.4912\n",
      "Epoch 191/250\n",
      "32/32 [==============================] - 0s 2ms/step - loss: 24.8260\n",
      "Epoch 192/250\n",
      "32/32 [==============================] - 0s 2ms/step - loss: 24.6996\n",
      "Epoch 193/250\n",
      "32/32 [==============================] - 0s 2ms/step - loss: 24.5413\n",
      "Epoch 194/250\n",
      "32/32 [==============================] - 0s 2ms/step - loss: 24.4961\n",
      "Epoch 195/250\n"
     ]
    },
    {
     "name": "stdout",
     "output_type": "stream",
     "text": [
      "32/32 [==============================] - 0s 2ms/step - loss: 24.7178\n",
      "Epoch 196/250\n",
      "32/32 [==============================] - 0s 2ms/step - loss: 24.6507\n",
      "Epoch 197/250\n",
      "32/32 [==============================] - 0s 3ms/step - loss: 24.6193\n",
      "Epoch 198/250\n",
      "32/32 [==============================] - 0s 2ms/step - loss: 24.7886\n",
      "Epoch 199/250\n",
      "32/32 [==============================] - 0s 3ms/step - loss: 24.8229\n",
      "Epoch 200/250\n",
      "32/32 [==============================] - 0s 2ms/step - loss: 24.8155\n",
      "Epoch 201/250\n",
      "32/32 [==============================] - 0s 3ms/step - loss: 24.7233\n",
      "Epoch 202/250\n",
      "32/32 [==============================] - 0s 3ms/step - loss: 24.7559\n",
      "Epoch 203/250\n",
      "32/32 [==============================] - 0s 3ms/step - loss: 24.5621\n",
      "Epoch 204/250\n",
      "32/32 [==============================] - 0s 3ms/step - loss: 24.7585\n",
      "Epoch 205/250\n",
      "32/32 [==============================] - 0s 3ms/step - loss: 24.4627\n",
      "Epoch 206/250\n",
      "32/32 [==============================] - 0s 3ms/step - loss: 24.5396\n",
      "Epoch 207/250\n",
      "32/32 [==============================] - 0s 3ms/step - loss: 25.0007\n",
      "Epoch 208/250\n",
      "32/32 [==============================] - 0s 2ms/step - loss: 24.6219\n",
      "Epoch 209/250\n",
      "32/32 [==============================] - 0s 3ms/step - loss: 24.8312\n",
      "Epoch 210/250\n",
      "32/32 [==============================] - 0s 3ms/step - loss: 24.6619\n",
      "Epoch 211/250\n",
      "32/32 [==============================] - 0s 3ms/step - loss: 24.5218\n",
      "Epoch 212/250\n",
      "32/32 [==============================] - 0s 3ms/step - loss: 24.7818\n",
      "Epoch 213/250\n",
      "32/32 [==============================] - 0s 3ms/step - loss: 24.8375\n",
      "Epoch 214/250\n",
      "32/32 [==============================] - 0s 3ms/step - loss: 24.7892\n",
      "Epoch 215/250\n",
      "32/32 [==============================] - 0s 3ms/step - loss: 24.8683\n",
      "Epoch 216/250\n",
      "32/32 [==============================] - 0s 3ms/step - loss: 24.4454\n",
      "Epoch 217/250\n",
      "32/32 [==============================] - 0s 3ms/step - loss: 24.5693\n",
      "Epoch 218/250\n",
      "32/32 [==============================] - 0s 3ms/step - loss: 24.5321\n",
      "Epoch 219/250\n",
      "32/32 [==============================] - 0s 3ms/step - loss: 24.6558\n",
      "Epoch 220/250\n",
      "32/32 [==============================] - 0s 3ms/step - loss: 25.0082\n",
      "Epoch 221/250\n",
      "32/32 [==============================] - 0s 3ms/step - loss: 24.2549\n",
      "Epoch 222/250\n",
      "32/32 [==============================] - 0s 3ms/step - loss: 24.8945\n",
      "Epoch 223/250\n",
      "32/32 [==============================] - 0s 3ms/step - loss: 24.6469\n",
      "Epoch 224/250\n",
      "32/32 [==============================] - 0s 3ms/step - loss: 24.7809\n",
      "Epoch 225/250\n",
      "32/32 [==============================] - 0s 3ms/step - loss: 24.5943\n",
      "Epoch 226/250\n",
      "32/32 [==============================] - 0s 3ms/step - loss: 24.7187\n",
      "Epoch 227/250\n",
      "32/32 [==============================] - 0s 3ms/step - loss: 24.1160\n",
      "Epoch 228/250\n",
      "32/32 [==============================] - 0s 3ms/step - loss: 24.9597\n",
      "Epoch 229/250\n",
      "32/32 [==============================] - 0s 3ms/step - loss: 24.8463\n",
      "Epoch 230/250\n",
      "32/32 [==============================] - 0s 3ms/step - loss: 24.6055\n",
      "Epoch 231/250\n",
      "32/32 [==============================] - 0s 3ms/step - loss: 24.7107\n",
      "Epoch 232/250\n",
      "32/32 [==============================] - 0s 3ms/step - loss: 24.7632\n",
      "Epoch 233/250\n",
      "32/32 [==============================] - 0s 3ms/step - loss: 24.4953\n",
      "Epoch 234/250\n",
      "32/32 [==============================] - 0s 3ms/step - loss: 24.8414\n",
      "Epoch 235/250\n",
      "32/32 [==============================] - 0s 3ms/step - loss: 24.4644\n",
      "Epoch 236/250\n",
      "32/32 [==============================] - 0s 3ms/step - loss: 24.3905\n",
      "Epoch 237/250\n",
      "32/32 [==============================] - 0s 3ms/step - loss: 24.9591\n",
      "Epoch 238/250\n",
      "32/32 [==============================] - 0s 3ms/step - loss: 24.6288\n",
      "Epoch 239/250\n",
      "32/32 [==============================] - 0s 3ms/step - loss: 24.3893\n",
      "Epoch 240/250\n",
      "32/32 [==============================] - 0s 3ms/step - loss: 24.7058\n",
      "Epoch 241/250\n",
      "32/32 [==============================] - 0s 3ms/step - loss: 24.6783\n",
      "Epoch 242/250\n",
      "32/32 [==============================] - 0s 3ms/step - loss: 24.4363\n",
      "Epoch 243/250\n",
      "32/32 [==============================] - 0s 3ms/step - loss: 24.5240\n",
      "Epoch 244/250\n",
      "32/32 [==============================] - 0s 3ms/step - loss: 24.9955\n",
      "Epoch 245/250\n",
      "32/32 [==============================] - 0s 3ms/step - loss: 24.4348\n",
      "Epoch 246/250\n",
      "32/32 [==============================] - 0s 3ms/step - loss: 24.7737\n",
      "Epoch 247/250\n",
      "32/32 [==============================] - 0s 2ms/step - loss: 24.3526\n",
      "Epoch 248/250\n",
      "32/32 [==============================] - 0s 2ms/step - loss: 24.6400\n",
      "Epoch 249/250\n",
      "32/32 [==============================] - 0s 2ms/step - loss: 24.8091\n",
      "Epoch 250/250\n",
      "32/32 [==============================] - 0s 3ms/step - loss: 24.3983\n"
     ]
    },
    {
     "data": {
      "text/plain": [
       "<keras.callbacks.History at 0x2be42791840>"
      ]
     },
     "execution_count": 75,
     "metadata": {},
     "output_type": "execute_result"
    }
   ],
   "source": [
    "final_model.fit(x = X_scaled, y = y, batch_size = 32, epochs = 250)\n",
    "\n",
    "#input_dim = 2 or input_dim = X_train.shape[1] yazmamamıza rağmen model.fit kısmında 2 feature olduğunu algoritma anlıyor.\n",
    "# yazmazsak ama fit etmeden model.summary()'i çalıştırdığımızda hata alırız ."
   ]
  },
  {
   "cell_type": "markdown",
   "metadata": {
    "id": "5Ncus4tsYGAT"
   },
   "source": [
    "### Saving a Model"
   ]
  },
  {
   "cell_type": "markdown",
   "metadata": {
    "id": "OkZlNOz_YGAT"
   },
   "source": [
    "You can save a TensorFlow/Keras model using [`model.save()`](https://www.tensorflow.org/tutorials/keras/save_and_load#save_the_entire_model).\n",
    "\n",
    "Keras saves models by inspecting their architectures. This technique saves everything:\n",
    "\n",
    "- The weight values\n",
    "- The model's architecture\n",
    "- The model's training configuration (what you pass to the .compile() method)\n",
    "- The optimizer and its state, if any (this enables you to restart training where you left off)\n",
    "\n",
    "\n",
    "There are two ways to save a model in TensorFlow:\n",
    "1. The [SavedModel format](https://www.tensorflow.org/tutorials/keras/save_and_load#savedmodel_format) (default).\n",
    "2. The [HDF5 format](https://www.tensorflow.org/tutorials/keras/save_and_load#hdf5_format).\n",
    "\n",
    "The main difference between the two is the SavedModel is automatically able to save custom objects (such as special layers) without additional modifications when loading the model back in.\n",
    "\n",
    "The key difference between HDF5 and SavedModel is that HDF5 uses object configs to save the model architecture, while SavedModel saves the execution graph. Thus, SavedModels are able to save custom objects like subclassed models and custom layers without requiring the original code."
   ]
  },
  {
   "cell_type": "code",
   "execution_count": 76,
   "metadata": {
    "id": "aemsr3lnYGAT"
   },
   "outputs": [],
   "source": [
    "final_model.save('model_fake_reg.h5')  # creates a HDF5 file 'my_model.h5'"
   ]
  },
  {
   "cell_type": "code",
   "execution_count": 56,
   "metadata": {
    "id": "foxJ6r9DYGAU"
   },
   "outputs": [],
   "source": [
    "#final_model.save(\"model_fake_reg\") "
   ]
  },
  {
   "cell_type": "markdown",
   "metadata": {
    "id": "_kkX_nYHYGAU"
   },
   "source": [
    "### Loading Model"
   ]
  },
  {
   "cell_type": "code",
   "execution_count": 80,
   "metadata": {
    "id": "79HGbk3lYGAU"
   },
   "outputs": [],
   "source": [
    "from tensorflow.keras.models import load_model"
   ]
  },
  {
   "cell_type": "code",
   "execution_count": 81,
   "metadata": {
    "id": "67XRxNYEYGAU"
   },
   "outputs": [],
   "source": [
    "model_fake_reg = load_model('model_fake_reg.h5')"
   ]
  },
  {
   "cell_type": "code",
   "execution_count": 82,
   "metadata": {
    "id": "QxqZLPXYYGAU"
   },
   "outputs": [],
   "source": [
    "scaler_fake_reg = pickle.load(open(\"scaler_fake_reg\", \"rb\"))"
   ]
  },
  {
   "cell_type": "markdown",
   "metadata": {
    "id": "y-YjBDtXYGAV"
   },
   "source": [
    "## Prediction-1"
   ]
  },
  {
   "cell_type": "code",
   "execution_count": 83,
   "metadata": {
    "id": "BTyJWjnCYGAV"
   },
   "outputs": [],
   "source": [
    "sample = [[998, 1000]]"
   ]
  },
  {
   "cell_type": "code",
   "execution_count": 84,
   "metadata": {
    "id": "VHYkTc51YGAV"
   },
   "outputs": [
    {
     "data": {
      "text/plain": [
       "array([[0.15312457, 0.52980619]])"
      ]
     },
     "execution_count": 84,
     "metadata": {},
     "output_type": "execute_result"
    }
   ],
   "source": [
    "sample_scaled = scaler_fake_reg.transform(sample)\n",
    "sample_scaled"
   ]
  },
  {
   "cell_type": "code",
   "execution_count": 85,
   "metadata": {
    "colab": {
     "base_uri": "https://localhost:8080/"
    },
    "id": "NT9Tyvw2YGAW",
    "outputId": "ea204443-be2f-4089-d3a1-3da281e3a514"
   },
   "outputs": [
    {
     "name": "stdout",
     "output_type": "stream",
     "text": [
      "1/1 [==============================] - 0s 140ms/step\n"
     ]
    },
    {
     "data": {
      "text/plain": [
       "array([[421.2754]], dtype=float32)"
      ]
     },
     "execution_count": 85,
     "metadata": {},
     "output_type": "execute_result"
    }
   ],
   "source": [
    "model_fake_reg.predict(sample_scaled)"
   ]
  },
  {
   "cell_type": "markdown",
   "metadata": {
    "id": "OsxmtZE0YGAW"
   },
   "source": [
    "## Prediction-2"
   ]
  },
  {
   "cell_type": "code",
   "execution_count": 86,
   "metadata": {
    "id": "gMZwzU3_YGAX"
   },
   "outputs": [],
   "source": [
    "my_dict = {\"feature1\": [997, 998, 999, 1000, 1001],\n",
    "           \"feature2\": [1000, 999, 998, 997, 996]}"
   ]
  },
  {
   "cell_type": "code",
   "execution_count": 87,
   "metadata": {
    "colab": {
     "base_uri": "https://localhost:8080/",
     "height": 206
    },
    "id": "_XbY1NOWYGAX",
    "outputId": "3de1df2a-8f7b-4be5-b481-a2f756d0de25"
   },
   "outputs": [
    {
     "data": {
      "text/html": [
       "<div>\n",
       "<style scoped>\n",
       "    .dataframe tbody tr th:only-of-type {\n",
       "        vertical-align: middle;\n",
       "    }\n",
       "\n",
       "    .dataframe tbody tr th {\n",
       "        vertical-align: top;\n",
       "    }\n",
       "\n",
       "    .dataframe thead th {\n",
       "        text-align: right;\n",
       "    }\n",
       "</style>\n",
       "<table border=\"1\" class=\"dataframe\">\n",
       "  <thead>\n",
       "    <tr style=\"text-align: right;\">\n",
       "      <th></th>\n",
       "      <th>feature1</th>\n",
       "      <th>feature2</th>\n",
       "    </tr>\n",
       "  </thead>\n",
       "  <tbody>\n",
       "    <tr>\n",
       "      <th>0</th>\n",
       "      <td>997</td>\n",
       "      <td>1000</td>\n",
       "    </tr>\n",
       "    <tr>\n",
       "      <th>1</th>\n",
       "      <td>998</td>\n",
       "      <td>999</td>\n",
       "    </tr>\n",
       "    <tr>\n",
       "      <th>2</th>\n",
       "      <td>999</td>\n",
       "      <td>998</td>\n",
       "    </tr>\n",
       "    <tr>\n",
       "      <th>3</th>\n",
       "      <td>1000</td>\n",
       "      <td>997</td>\n",
       "    </tr>\n",
       "    <tr>\n",
       "      <th>4</th>\n",
       "      <td>1001</td>\n",
       "      <td>996</td>\n",
       "    </tr>\n",
       "  </tbody>\n",
       "</table>\n",
       "</div>"
      ],
      "text/plain": [
       "   feature1  feature2\n",
       "0       997      1000\n",
       "1       998       999\n",
       "2       999       998\n",
       "3      1000       997\n",
       "4      1001       996"
      ]
     },
     "execution_count": 87,
     "metadata": {},
     "output_type": "execute_result"
    }
   ],
   "source": [
    "sample = pd.DataFrame(my_dict)\n",
    "sample"
   ]
  },
  {
   "cell_type": "code",
   "execution_count": 88,
   "metadata": {
    "colab": {
     "base_uri": "https://localhost:8080/"
    },
    "id": "ag-dSyYwYGAX",
    "outputId": "2986eb02-dff8-490a-ec34-6237e09c5366"
   },
   "outputs": [
    {
     "data": {
      "text/plain": [
       "array([[-0.00948799,  0.52980619],\n",
       "       [ 0.15312457,  0.35345977],\n",
       "       [ 0.31573713,  0.17711336],\n",
       "       [ 0.47834969,  0.00076694],\n",
       "       [ 0.64096225, -0.17557948]])"
      ]
     },
     "execution_count": 88,
     "metadata": {},
     "output_type": "execute_result"
    }
   ],
   "source": [
    "sample_scaled = scaler_fake_reg.transform(sample)\n",
    "sample_scaled"
   ]
  },
  {
   "cell_type": "code",
   "execution_count": 89,
   "metadata": {
    "colab": {
     "base_uri": "https://localhost:8080/"
    },
    "id": "fkgEHtfuYGAX",
    "outputId": "2a78be1b-4b8d-49aa-c6df-b627a5c85e11"
   },
   "outputs": [
    {
     "name": "stdout",
     "output_type": "stream",
     "text": [
      "1/1 [==============================] - 0s 19ms/step\n"
     ]
    },
    {
     "data": {
      "text/plain": [
       "array([[380.97272],\n",
       "       [332.48865],\n",
       "       [284.00455],\n",
       "       [235.52045],\n",
       "       [187.03635]], dtype=float32)"
      ]
     },
     "execution_count": 89,
     "metadata": {},
     "output_type": "execute_result"
    }
   ],
   "source": [
    "model_fake_reg.predict(sample_scaled)"
   ]
  },
  {
   "cell_type": "markdown",
   "metadata": {
    "id": "A_JalkGuYGAY"
   },
   "source": [
    "___\n",
    "\n",
    "<p style=\"text-align: center;\"><img src=\"https://docs.google.com/uc?id=1lY0Uj5R04yMY3-ZppPWxqCr5pvBLYPnV\" class=\"img-fluid\" alt=\"CLRSWY\"></p>\n",
    "\n",
    "___"
   ]
  }
 ],
 "metadata": {
  "colab": {
   "provenance": []
  },
  "kernelspec": {
   "display_name": "Python 3 (ipykernel)",
   "language": "python",
   "name": "python3"
  },
  "language_info": {
   "codemirror_mode": {
    "name": "ipython",
    "version": 3
   },
   "file_extension": ".py",
   "mimetype": "text/x-python",
   "name": "python",
   "nbconvert_exporter": "python",
   "pygments_lexer": "ipython3",
   "version": "3.10.9"
  },
  "toc": {
   "base_numbering": 1,
   "nav_menu": {},
   "number_sections": false,
   "sideBar": true,
   "skip_h1_title": false,
   "title_cell": "Table of Contents",
   "title_sidebar": "Contents",
   "toc_cell": false,
   "toc_position": {
    "height": "calc(100% - 180px)",
    "left": "10px",
    "top": "150px",
    "width": "300.099px"
   },
   "toc_section_display": true,
   "toc_window_display": true
  }
 },
 "nbformat": 4,
 "nbformat_minor": 1
}
