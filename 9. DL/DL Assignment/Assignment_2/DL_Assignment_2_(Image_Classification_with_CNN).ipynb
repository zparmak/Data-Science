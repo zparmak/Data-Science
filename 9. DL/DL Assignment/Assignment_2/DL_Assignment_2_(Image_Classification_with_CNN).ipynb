{
 "cells": [
  {
   "cell_type": "markdown",
   "metadata": {
    "id": "qgGexU4SPeEg"
   },
   "source": [
    "<h1 style=\"text-align: center;\">Deep Learning<br><br>Assignment-2 (CNN)<br><br>Image Classification with CNN<br><h1>"
   ]
  },
  {
   "cell_type": "markdown",
   "metadata": {
    "id": "w5XkO9f2PeEh"
   },
   "source": [
    "# Task and Dataset Info\n",
    "\n",
    "Welcome to second assignment of Deep learning lesson. Follow the instructions and complete the assignment.\n",
    "\n",
    "**Build an image classifier with Convolutional Neural Networks for the Fashion MNIST dataset. This data set includes 10 labels of different clothing types with 28 by 28 *grayscale* images. There is a training set of 60,000 images and 10,000 test images.**\n",
    "\n",
    "    Label\tDescription\n",
    "    0\t    T-shirt/top\n",
    "    1\t    Trouser\n",
    "    2\t    Pullover\n",
    "    3\t    Dress\n",
    "    4\t    Coat\n",
    "    5\t    Sandal\n",
    "    6\t    Shirt\n",
    "    7\t    Sneaker\n",
    "    8\t    Bag\n",
    "    9\t    Ankle boot"
   ]
  },
  {
   "cell_type": "markdown",
   "metadata": {
    "id": "XwooiOcHPeEh"
   },
   "source": [
    "# Import Libraries"
   ]
  },
  {
   "cell_type": "code",
   "execution_count": 1,
   "metadata": {
    "id": "Dok4TRRsPeEh"
   },
   "outputs": [],
   "source": [
    "import numpy as np\n",
    "import pandas as pd\n",
    "import matplotlib.pyplot as plt\n",
    "import seaborn as sns\n",
    "\n",
    "import warnings\n",
    "warnings.filterwarnings(\"ignore\")\n",
    "warnings.warn(\"this will not show\")\n",
    "\n",
    "plt.rcParams[\"figure.figsize\"] = (10,6)\n",
    "\n",
    "sns.set_style(\"whitegrid\")\n",
    "pd.set_option('display.float_format', lambda x: '%.3f' % x)\n",
    "\n",
    "# Set it None to display all rows in the dataframe\n",
    "# pd.set_option('display.max_rows', None)\n",
    "\n",
    "# Set it to None to display all columns in the dataframe\n",
    "pd.set_option('display.max_columns', None)\n",
    "\n",
    "np.set_printoptions(suppress=True)"
   ]
  },
  {
   "cell_type": "code",
   "execution_count": 2,
   "metadata": {
    "colab": {
     "base_uri": "https://localhost:8080/"
    },
    "id": "wIOuEXDZPeEi",
    "outputId": "8b1cb361-0217-4635-9367-265661c8b0a3"
   },
   "outputs": [
    {
     "data": {
      "text/plain": [
       "[]"
      ]
     },
     "execution_count": 2,
     "metadata": {},
     "output_type": "execute_result"
    }
   ],
   "source": [
    "import tensorflow as tf\n",
    "\n",
    "tf.config.list_physical_devices(\"GPU\")"
   ]
  },
  {
   "cell_type": "markdown",
   "metadata": {
    "id": "m5z47gkxPeEi"
   },
   "source": [
    "# Recognizing and Understanding Data\n",
    "\n",
    "**TASK 1: Run the code below to download the dataset using Keras.**"
   ]
  },
  {
   "cell_type": "code",
   "execution_count": 3,
   "metadata": {
    "id": "IAKPwCrVPeEi"
   },
   "outputs": [],
   "source": [
    "from tensorflow.keras.datasets import fashion_mnist\n",
    "\n",
    "(X_train, y_train), (X_test, y_test) = fashion_mnist.load_data()"
   ]
  },
  {
   "cell_type": "code",
   "execution_count": 4,
   "metadata": {
    "colab": {
     "base_uri": "https://localhost:8080/"
    },
    "id": "h3XMVntVPeEi",
    "outputId": "6acad51d-dbc7-4d7a-e3b3-c5a881b5349c"
   },
   "outputs": [
    {
     "name": "stdout",
     "output_type": "stream",
     "text": [
      "There are  60000 images in the training dataset\n",
      "There are  10000 images in the test dataset\n"
     ]
    }
   ],
   "source": [
    "print(\"There are \", len(X_train), \"images in the training dataset\")     \n",
    "print(\"There are \", len(X_test), \"images in the test dataset\")"
   ]
  },
  {
   "cell_type": "code",
   "execution_count": 5,
   "metadata": {
    "colab": {
     "base_uri": "https://localhost:8080/"
    },
    "id": "f7pngEosPeEj",
    "outputId": "e8f4b234-ed2d-4f77-d110-357fa2841037"
   },
   "outputs": [
    {
     "data": {
      "text/plain": [
       "(28, 28)"
      ]
     },
     "execution_count": 5,
     "metadata": {},
     "output_type": "execute_result"
    }
   ],
   "source": [
    "# Checking the shape of one image\n",
    "X_train[7].shape\n",
    "\n",
    "# numpy array olduğundan shape methodunu çalıştırabiliyorum.28*28'lik renkli resimler var elimizde."
   ]
  },
  {
   "cell_type": "code",
   "execution_count": 6,
   "metadata": {
    "colab": {
     "base_uri": "https://localhost:8080/"
    },
    "id": "H5q6p7XgPeEj",
    "outputId": "9733ec88-e2cd-48e2-fdee-d3297b25c910"
   },
   "outputs": [
    {
     "data": {
      "text/plain": [
       "array([[  0,   0,   0,   0,   0,   1,   1,   0,   0,   0,   0,  63,  28,\n",
       "          0,   0,   0,  33,  85,   0,   0,   0,   0,   0,   0,   0,   0,\n",
       "          0,   0],\n",
       "       [  0,   0,   0,   0,   0,   2,   0,   0,  28, 126, 241, 255, 255,\n",
       "        255, 255, 255, 255, 252, 248, 111,   0,   0,   0,   2,   0,   0,\n",
       "          0,   0],\n",
       "       [  0,   0,   0,   0,   2,   0,   0, 206, 244, 251, 241, 230, 238,\n",
       "        221, 205, 230, 240, 230, 239, 251, 233, 165,   0,   0,   2,   0,\n",
       "          0,   0],\n",
       "       [  0,   0,   0,   1,   0,   0, 199, 251, 228, 234, 233, 236, 235,\n",
       "        245, 247, 237, 234, 239, 230, 230, 235, 255, 176,   0,   0,   1,\n",
       "          0,   0],\n",
       "       [  0,   0,   0,   0,   0,  81, 254, 226, 228, 239, 237, 236, 234,\n",
       "        232, 233, 235, 235, 236, 239, 237, 233, 225, 246,  73,   0,   0,\n",
       "          0,   0],\n",
       "       [  0,   0,   3,   0,   0, 255, 235, 239, 223, 234, 238, 236, 237,\n",
       "        236, 235, 235, 235, 235, 236, 235, 234, 230, 231, 255,  24,   0,\n",
       "          4,   0],\n",
       "       [  0,   0,   0,   0, 177, 239, 223, 254, 223, 232, 234, 234, 236,\n",
       "        236, 235, 235, 235, 235, 235, 234, 231, 233, 222, 246,  88,   0,\n",
       "          1,   0],\n",
       "       [  0,   0,   0,   0, 234, 239, 229, 255, 220, 232, 233, 232, 234,\n",
       "        235, 235, 235, 235, 235, 234, 233, 232, 230, 228, 254, 140,   0,\n",
       "          0,   0],\n",
       "       [  0,   0,   0,   0, 225, 240, 226, 255, 221, 227, 232, 228, 231,\n",
       "        230, 228, 229, 231, 230, 228, 228, 232, 223, 229, 244, 231,   0,\n",
       "          0,   0],\n",
       "       [  0,   0,   0,  47, 245, 231, 234, 249, 229, 221, 229, 225, 229,\n",
       "        227, 226, 227, 228, 227, 228, 229, 228, 224, 246, 240, 227,   0,\n",
       "          0,   0],\n",
       "       [  0,   0,   0,  51, 248, 230, 245, 246, 230, 226, 230, 227, 230,\n",
       "        229, 228, 229, 230, 228, 228, 231, 225, 227, 242, 237, 255,   0,\n",
       "          0,   0],\n",
       "       [  0,   0,   0, 101, 253, 229, 247, 241, 221, 233, 228, 227, 229,\n",
       "        228, 227, 228, 230, 227, 230, 234, 225, 229, 251, 229, 243,  55,\n",
       "          0,   0],\n",
       "       [  0,   0,   0, 102, 255, 227, 242, 241, 221, 234, 223, 230, 228,\n",
       "        231, 229, 231, 231, 227, 229, 241, 219, 236, 254, 225, 250, 167,\n",
       "          0,   0],\n",
       "       [  0,   0,   0,  90, 255, 229, 236, 231, 222, 236, 223, 231, 229,\n",
       "        231, 229, 231, 231, 228, 224, 245, 218, 243, 239, 227, 244, 175,\n",
       "          0,   0],\n",
       "       [  0,   0,   0, 212, 250, 225, 236, 249, 229, 237, 223, 231, 229,\n",
       "        231, 229, 231, 231, 230, 221, 243, 225, 248, 230, 236, 234, 255,\n",
       "          1,   0],\n",
       "       [  0,   0,   0, 245, 243, 232, 243, 218, 228, 238, 222, 231, 229,\n",
       "        231, 229, 231, 231, 230, 222, 237, 237, 252, 229, 239, 240, 223,\n",
       "          0,   0],\n",
       "       [  0,   0,  27, 255, 235, 242, 237, 216, 230, 236, 224, 229, 227,\n",
       "        233, 233, 233, 230, 228, 224, 230, 245, 247, 221, 243, 239, 252,\n",
       "          0,   0],\n",
       "       [  0,   0,  88, 255, 232, 248, 236, 208, 234, 231, 223, 227, 226,\n",
       "        233, 232, 232, 230, 228, 224, 224, 235, 233, 234, 247, 235, 255,\n",
       "          0,   0],\n",
       "       [  0,   0,  83, 255, 225, 250, 237, 224, 236, 229, 225, 225, 227,\n",
       "        235, 229, 231, 230, 230, 227, 221, 227, 221, 239, 250, 231, 255,\n",
       "          0,   0],\n",
       "       [  0,   0,  20, 255, 224, 248, 234, 226, 232, 222, 225, 224, 231,\n",
       "        238, 226, 230, 228, 230, 230, 221, 229, 225, 244, 246, 230, 255,\n",
       "          0,   0],\n",
       "       [  0,   0,  95, 255, 218, 242, 255, 232, 226, 224, 229, 228, 228,\n",
       "        232, 228, 229, 231, 233, 232, 226, 221, 224, 247, 244, 228, 255,\n",
       "          0,   0],\n",
       "       [  0,   0, 167, 255, 213, 235, 255,  81, 245, 251, 238, 236, 230,\n",
       "        229, 230, 229, 230, 231, 238, 240, 255, 192, 255, 239, 228, 255,\n",
       "         23,   0],\n",
       "       [  0,   0, 173, 242, 224, 233, 255,   0, 136, 226, 239, 255, 229,\n",
       "        236, 236, 234, 233, 228, 251, 248, 200,  81, 255, 237, 225, 255,\n",
       "        101,   0],\n",
       "       [  0,   0, 172, 255, 226, 233, 255,   0,   0,   0,   0,   0,   8,\n",
       "         21,  22,  21,  20,  14,   0,   0,   0,   0, 255, 238, 229, 246,\n",
       "        178,   0],\n",
       "       [  0,   0,  16, 255, 236, 238, 252,   0,   0,   0,   0,   0,   0,\n",
       "          0,   0,   0,   0,   0,   0,   0,   0,   0, 222, 244, 222, 254,\n",
       "        119,   0],\n",
       "       [  0,   0,   0,  30, 228, 242, 163,   0,   0,   0,   0,   2,   4,\n",
       "          6,   5,   5,   4,   4,   2,   0,   1,   0, 151, 251, 235, 180,\n",
       "          0,   0],\n",
       "       [  0,   0,   0,   0, 234, 255, 191,   0,  11,   0,   0,   0,   0,\n",
       "          0,   0,   0,   0,   0,   0,   0,   4,   0, 103, 246, 247,  72,\n",
       "          0,   0],\n",
       "       [  0,   0,   0,   1,  95,  77,  52,   0,   4,   0,   0,   0,   0,\n",
       "          0,   0,   0,   0,   0,   0,   0,   3,   0,  82, 237, 231,  70,\n",
       "          0,   0]], dtype=uint8)"
      ]
     },
     "execution_count": 6,
     "metadata": {},
     "output_type": "execute_result"
    }
   ],
   "source": [
    "X_train[7]"
   ]
  },
  {
   "cell_type": "code",
   "execution_count": 7,
   "metadata": {
    "colab": {
     "base_uri": "https://localhost:8080/"
    },
    "id": "HatJsKbIPeEj",
    "outputId": "83fca746-184d-4746-cd68-3027a281dc1c"
   },
   "outputs": [
    {
     "data": {
      "text/plain": [
       "2"
      ]
     },
     "execution_count": 7,
     "metadata": {},
     "output_type": "execute_result"
    }
   ],
   "source": [
    "y_train[7]"
   ]
  },
  {
   "cell_type": "code",
   "execution_count": 8,
   "metadata": {
    "colab": {
     "base_uri": "https://localhost:8080/"
    },
    "id": "v1O_rXFwPeEj",
    "outputId": "8f57d814-051b-4031-a8f2-4a408f31aa23"
   },
   "outputs": [
    {
     "data": {
      "text/plain": [
       "(60000,)"
      ]
     },
     "execution_count": 8,
     "metadata": {},
     "output_type": "execute_result"
    }
   ],
   "source": [
    "y_train.shape"
   ]
  },
  {
   "cell_type": "code",
   "execution_count": 9,
   "metadata": {
    "colab": {
     "base_uri": "https://localhost:8080/"
    },
    "id": "PrYwzhw1PeEk",
    "outputId": "fb695daa-ef9d-437e-d9a2-f273cc144d2e"
   },
   "outputs": [
    {
     "data": {
      "text/plain": [
       "array([9, 0, 0, ..., 3, 0, 5], dtype=uint8)"
      ]
     },
     "execution_count": 9,
     "metadata": {},
     "output_type": "execute_result"
    }
   ],
   "source": [
    "y_train"
   ]
  },
  {
   "cell_type": "code",
   "execution_count": 10,
   "metadata": {
    "colab": {
     "base_uri": "https://localhost:8080/"
    },
    "id": "JmUOhk_tPeEk",
    "outputId": "9aff9be4-3770-410e-c2ab-c66ce191f731"
   },
   "outputs": [
    {
     "data": {
      "text/plain": [
       "(array([0, 1, 2, 3, 4, 5, 6, 7, 8, 9], dtype=uint8),\n",
       " array([6000, 6000, 6000, 6000, 6000, 6000, 6000, 6000, 6000, 6000],\n",
       "       dtype=int64))"
      ]
     },
     "execution_count": 10,
     "metadata": {},
     "output_type": "execute_result"
    }
   ],
   "source": [
    "np.unique(y_train, return_counts=True)\n",
    "\n",
    "# train setinde de test setinde de bütün class'lar eşit dağılmış datamız dengeli."
   ]
  },
  {
   "cell_type": "markdown",
   "metadata": {
    "id": "sRF_HCmSPeEk"
   },
   "source": [
    "**TASK 2: Use matplotlib to view an image from the data set. It can be any image from the data set.**"
   ]
  },
  {
   "cell_type": "code",
   "execution_count": 11,
   "metadata": {
    "id": "clZlPW0fPeEk"
   },
   "outputs": [],
   "source": [
    "classes=[\"T-shirt/top\", \"Trouser\",\"Pullover\",\"Dress\",\"Coat\",\"Sandal\",\"Shirt\",\"Sneaker\",\"Bag\",\"Ankle boot\"]"
   ]
  },
  {
   "cell_type": "code",
   "execution_count": 12,
   "metadata": {
    "colab": {
     "base_uri": "https://localhost:8080/"
    },
    "id": "aqBgf4F0PeEk",
    "outputId": "b9932a48-38e3-4549-f44a-99124982eaad"
   },
   "outputs": [
    {
     "data": {
      "text/plain": [
       "9"
      ]
     },
     "execution_count": 12,
     "metadata": {},
     "output_type": "execute_result"
    }
   ],
   "source": [
    "y_train[0]"
   ]
  },
  {
   "cell_type": "code",
   "execution_count": 13,
   "metadata": {
    "colab": {
     "base_uri": "https://localhost:8080/",
     "height": 36
    },
    "id": "nNibO-UWPeEk",
    "outputId": "5077c6e1-fbf7-41ab-d8a6-bdc745b0b188"
   },
   "outputs": [
    {
     "data": {
      "text/plain": [
       "'Ankle boot'"
      ]
     },
     "execution_count": 13,
     "metadata": {},
     "output_type": "execute_result"
    }
   ],
   "source": [
    "classes[y_train[0]]"
   ]
  },
  {
   "cell_type": "code",
   "execution_count": 14,
   "metadata": {
    "colab": {
     "base_uri": "https://localhost:8080/",
     "height": 36
    },
    "id": "8Up3HVVnPeEk",
    "outputId": "25d7f496-c90d-4e66-f647-8b3a03ef8bf3"
   },
   "outputs": [
    {
     "data": {
      "text/plain": [
       "'Ankle boot'"
      ]
     },
     "execution_count": 14,
     "metadata": {},
     "output_type": "execute_result"
    }
   ],
   "source": [
    "classes[int(y_train[0])]  # classes[9]"
   ]
  },
  {
   "cell_type": "code",
   "execution_count": 15,
   "metadata": {
    "colab": {
     "base_uri": "https://localhost:8080/",
     "height": 863
    },
    "id": "fVQHCqtOPeEl",
    "outputId": "c7c86bf7-f47b-4466-c7d3-1d1ae1489d60"
   },
   "outputs": [
    {
     "data": {
      "image/png": "[encoded data removed]",
      "text/plain": [
       "<Figure size 1500x1500 with 64 Axes>"
      ]
     },
     "metadata": {},
     "output_type": "display_data"
    }
   ],
   "source": [
    "plt.figure(figsize=(15, 15))\n",
    "for i in range(64):\n",
    "    rand_index = int(np.random.randint(low=0, high=60000, size=1))\n",
    "    plt.subplot(8, 8, i+1)\n",
    "    plt.axis('off')\n",
    "    plt.title(classes[int(y_train[rand_index])])\n",
    "    plt.imshow(X_train[rand_index])"
   ]
  },
  {
   "cell_type": "markdown",
   "metadata": {
    "id": "n9A7cQqAPeEl"
   },
   "source": [
    "# Data Preprocessing\n",
    "\n",
    "**TASK 3: Normalize the X train and X test data by dividing by the max value of the image arrays.**"
   ]
  },
  {
   "cell_type": "code",
   "execution_count": 16,
   "metadata": {
    "colab": {
     "base_uri": "https://localhost:8080/"
    },
    "id": "6qrhMKIZPeEl",
    "outputId": "da9f6e8f-4539-4cd3-ccf0-43dff292e3e8"
   },
   "outputs": [
    {
     "data": {
      "text/plain": [
       "0"
      ]
     },
     "execution_count": 16,
     "metadata": {},
     "output_type": "execute_result"
    }
   ],
   "source": [
    "X_train[8].min()"
   ]
  },
  {
   "cell_type": "code",
   "execution_count": 17,
   "metadata": {
    "colab": {
     "base_uri": "https://localhost:8080/"
    },
    "id": "DskBTWnyPeEl",
    "outputId": "3289e834-c7ab-4ad1-b209-193f8e03e762"
   },
   "outputs": [
    {
     "data": {
      "text/plain": [
       "255"
      ]
     },
     "execution_count": 17,
     "metadata": {},
     "output_type": "execute_result"
    }
   ],
   "source": [
    "X_train[8].max()"
   ]
  },
  {
   "cell_type": "code",
   "execution_count": 18,
   "metadata": {
    "id": "n9oqEPb7PeEl"
   },
   "outputs": [],
   "source": [
    "# Normalize image pixels\n",
    "\n",
    "X_train = X_train.astype('float32')\n",
    "X_test = X_test.astype('float32')\n",
    "X_train /= 255\n",
    "X_test /= 255"
   ]
  },
  {
   "cell_type": "code",
   "execution_count": 19,
   "metadata": {
    "colab": {
     "base_uri": "https://localhost:8080/"
    },
    "id": "JOkUoUH0PeEl",
    "outputId": "6394feee-c6b4-4c8b-9f9e-faa3e0fa97c1"
   },
   "outputs": [
    {
     "data": {
      "text/plain": [
       "0.0"
      ]
     },
     "execution_count": 19,
     "metadata": {},
     "output_type": "execute_result"
    }
   ],
   "source": [
    "X_train[8].min()"
   ]
  },
  {
   "cell_type": "code",
   "execution_count": 20,
   "metadata": {
    "colab": {
     "base_uri": "https://localhost:8080/"
    },
    "id": "sS-KReSEPeEl",
    "outputId": "4f0a785f-e06d-4df7-b5a0-3f97910cc9b0"
   },
   "outputs": [
    {
     "data": {
      "text/plain": [
       "1.0"
      ]
     },
     "execution_count": 20,
     "metadata": {},
     "output_type": "execute_result"
    }
   ],
   "source": [
    "X_train[8].max()"
   ]
  },
  {
   "cell_type": "code",
   "execution_count": 21,
   "metadata": {
    "colab": {
     "base_uri": "https://localhost:8080/",
     "height": 539
    },
    "id": "NJQpT4VkPeEl",
    "outputId": "819a9c0c-077f-4577-ec49-9f7876bcee20"
   },
   "outputs": [
    {
     "data": {
      "text/plain": [
       "<matplotlib.image.AxesImage at 0x150cdeb31f0>"
      ]
     },
     "execution_count": 21,
     "metadata": {},
     "output_type": "execute_result"
    },
    {
     "data": {
      "image/png": "[encoded data removed]",
      "text/plain": [
       "<Figure size 1000x600 with 1 Axes>"
      ]
     },
     "metadata": {},
     "output_type": "display_data"
    }
   ],
   "source": [
    "plt.imshow(X_train[8])"
   ]
  },
  {
   "cell_type": "markdown",
   "metadata": {
    "id": "XGysvT46PeEl"
   },
   "source": [
    "**Task 4: Reshape the X arrays to include a 4 dimension of the single channel. Similar to what we did for the numbers MNIST data set.**"
   ]
  },
  {
   "cell_type": "code",
   "execution_count": 22,
   "metadata": {
    "colab": {
     "base_uri": "https://localhost:8080/"
    },
    "id": "E8fcUcdrPeEl",
    "outputId": "222f0ff0-799c-4d54-cfaa-1e97203b77a3"
   },
   "outputs": [
    {
     "data": {
      "text/plain": [
       "((60000, 28, 28), (10000, 28, 28))"
      ]
     },
     "execution_count": 22,
     "metadata": {},
     "output_type": "execute_result"
    }
   ],
   "source": [
    "X_train.shape, X_test.shape"
   ]
  },
  {
   "cell_type": "code",
   "execution_count": 23,
   "metadata": {
    "colab": {
     "base_uri": "https://localhost:8080/"
    },
    "id": "YCU71iEhPeEm",
    "outputId": "2ab2436b-357e-4504-becc-167af42b1a60"
   },
   "outputs": [
    {
     "data": {
      "text/plain": [
       "array([9, 0, 0, ..., 3, 0, 5], dtype=uint8)"
      ]
     },
     "execution_count": 23,
     "metadata": {},
     "output_type": "execute_result"
    }
   ],
   "source": [
    "y_train"
   ]
  },
  {
   "cell_type": "code",
   "execution_count": 24,
   "metadata": {
    "colab": {
     "base_uri": "https://localhost:8080/"
    },
    "id": "rtfPk_O4VUWc",
    "outputId": "0a09cb08-ef0a-4818-cc34-1bf5ec5df3b0"
   },
   "outputs": [
    {
     "data": {
      "text/plain": [
       "(60000,)"
      ]
     },
     "execution_count": 24,
     "metadata": {},
     "output_type": "execute_result"
    }
   ],
   "source": [
    "y_train.shape"
   ]
  },
  {
   "cell_type": "markdown",
   "metadata": {
    "id": "xnb0KLZKPeEm"
   },
   "source": [
    "**TASK 5: Convert the y_train and y_test values to be one-hot encoded for categorical analysis by Keras.**"
   ]
  },
  {
   "cell_type": "code",
   "execution_count": 25,
   "metadata": {
    "id": "hczU_OA7PeEm"
   },
   "outputs": [],
   "source": [
    "from tensorflow.keras.utils import to_categorical"
   ]
  },
  {
   "cell_type": "code",
   "execution_count": 26,
   "metadata": {
    "colab": {
     "base_uri": "https://localhost:8080/"
    },
    "id": "5jA67xDJPeEm",
    "outputId": "0757d755-7e3c-4f0f-d1d7-80eaff0aa773"
   },
   "outputs": [
    {
     "data": {
      "text/plain": [
       "(10000, 10)"
      ]
     },
     "execution_count": 26,
     "metadata": {},
     "output_type": "execute_result"
    }
   ],
   "source": [
    "Y_train = to_categorical(y_train,10) \n",
    "Y_test = to_categorical(y_test,10)\n",
    "Y_test.shape"
   ]
  },
  {
   "cell_type": "code",
   "execution_count": 27,
   "metadata": {
    "colab": {
     "base_uri": "https://localhost:8080/"
    },
    "id": "Tv5jmYZbPeEm",
    "outputId": "6aab08a9-4ecb-4f47-c93a-bfd91e868d11"
   },
   "outputs": [
    {
     "data": {
      "text/plain": [
       "9"
      ]
     },
     "execution_count": 27,
     "metadata": {},
     "output_type": "execute_result"
    }
   ],
   "source": [
    "y_train[0]"
   ]
  },
  {
   "cell_type": "code",
   "execution_count": 28,
   "metadata": {
    "colab": {
     "base_uri": "https://localhost:8080/"
    },
    "id": "gEqgDIJKPeEm",
    "outputId": "0290e725-557d-45ef-9be0-9d6572cc4e4c"
   },
   "outputs": [
    {
     "data": {
      "text/plain": [
       "array([0., 0., 0., 0., 0., 0., 0., 0., 0., 1.], dtype=float32)"
      ]
     },
     "execution_count": 28,
     "metadata": {},
     "output_type": "execute_result"
    }
   ],
   "source": [
    "Y_train[0]"
   ]
  },
  {
   "cell_type": "markdown",
   "metadata": {
    "id": "6hjPvu4GPeEm"
   },
   "source": [
    "# Modeling"
   ]
  },
  {
   "cell_type": "markdown",
   "metadata": {
    "id": "sGjkHNkGPeEm"
   },
   "source": [
    "## Create the model\n",
    "\n",
    "**TASK 5: Use Keras to create a model consisting of at least the following layers (but feel free to experiment):**\n",
    "\n",
    "* 2D Convolutional Layer, filters=28 and kernel_size=(3,3)\n",
    "* Pooling Layer where pool_size = (2,2) strides=(1,1)\n",
    "\n",
    "* Flatten Layer\n",
    "* Dense Layer (128 Neurons, but feel free to play around with this value), RELU activation\n",
    "\n",
    "* Final Dense Layer of 10 Neurons with a softmax activation\n",
    "\n",
    "**Then compile the model with these parameters: loss='categorical_crossentropy', optimizer='rmsprop', metrics=['accuracy']**"
   ]
  },
  {
   "cell_type": "code",
   "execution_count": 29,
   "metadata": {
    "id": "5UwWJD7fPeEm"
   },
   "outputs": [],
   "source": [
    "from tensorflow.keras.models import Sequential\n",
    "from tensorflow.keras.layers import Dense, Conv2D, MaxPool2D, Flatten, Dropout, BatchNormalization\n",
    "\n",
    "# BatchNormalization bir regularization tekniğidir ANN yapılarında da kullanılabilir.Ama özellikle CNN mimarilerinde\n",
    "# daha iyi performans gösterdiği gözlemlenmiş."
   ]
  },
  {
   "cell_type": "code",
   "execution_count": 30,
   "metadata": {},
   "outputs": [],
   "source": [
    "model = Sequential()\n",
    "model.add(Conv2D(28, (3,3), padding='same', activation='relu', input_shape=(28,28,1)))\n",
    "model.add(BatchNormalization())\n",
    "model.add(Conv2D(28, (3,3), padding='same', activation='relu'))\n",
    "model.add(BatchNormalization())\n",
    "model.add(MaxPool2D(pool_size=(2,2)))\n",
    "model.add(Dropout(0.5))\n",
    "model.add(Conv2D(64, (3,3), padding='same', activation='relu'))\n",
    "model.add(BatchNormalization())\n",
    "model.add(Conv2D(64, (3,3), padding='same', activation='relu'))\n",
    "model.add(BatchNormalization())\n",
    "model.add(MaxPool2D(pool_size=(2,2)))\n",
    "model.add(Dropout(0.5))\n",
    "model.add(Conv2D(128, (3,3), padding='same', activation='relu'))\n",
    "model.add(BatchNormalization())\n",
    "model.add(Conv2D(128, (3,3), padding='same', activation='relu'))\n",
    "model.add(BatchNormalization())\n",
    "model.add(MaxPool2D(pool_size=(2,2)))\n",
    "model.add(Dropout(0.5))\n",
    "model.add(Conv2D(256, (3,3), padding='same', activation='relu'))\n",
    "model.add(BatchNormalization())\n",
    "model.add(Conv2D(256, (3,3), padding='same', activation='relu'))\n",
    "model.add(BatchNormalization())\n",
    "model.add(MaxPool2D(pool_size=(2,2)))\n",
    "model.add(Dropout(0.5))\n",
    "model.add(Flatten())\n",
    "model.add(Dense(128, activation='relu'))\n",
    "model.add(BatchNormalization())\n",
    "model.add(Dropout(0.5))\n",
    "model.add(Dense(64, activation='relu'))\n",
    "model.add(BatchNormalization())\n",
    "model.add(Dropout(0.5))\n",
    "model.add(Dense(10, activation='softmax'))\n",
    "model.compile(loss='categorical_crossentropy',\n",
    "              optimizer='adam',\n",
    "              metrics=['accuracy'])"
   ]
  },
  {
   "cell_type": "raw",
   "metadata": {},
   "source": [
    "model = Sequential()\n",
    "\n",
    "model.add(Conv2D(filters=32, kernel_size=(3,3), input_shape=(28, 28, 1), activation='relu', padding='same'))\n",
    "\n",
    "model.add(Conv2D(filters=64, kernel_size=(3,3), activation='relu', padding='same'))\n",
    "\n",
    "model.add(MaxPool2D(pool_size=(2,2)))\n",
    "\n",
    "model.add(Dropout(0.4))\n",
    "\n",
    "model.add(Conv2D(filters=128, kernel_size=(3,3), activation='relu'))\n",
    "\n",
    "model.add(MaxPool2D(pool_size=(2,2)))\n",
    "\n",
    "model.add(Dropout(0.4))\n",
    "\n",
    "model.add(Flatten())\n",
    "\n",
    "model.add(Dense(128, activation='relu'))\n",
    "model.add(Dense(64, activation='relu'))\n",
    "model.add(Dense(10, activation='softmax'))\n",
    "\n",
    "model.compile(loss='categorical_crossentropy',\n",
    "              optimizer='rmsprop',\n",
    "              metrics=['accuracy'])"
   ]
  },
  {
   "cell_type": "raw",
   "metadata": {
    "id": "1CTom9maPeEr"
   },
   "source": [
    "model = Sequential()\n",
    "\n",
    "model.add(Conv2D(filters=28, kernel_size=(3,3), input_shape=(28, 28, 1), activation='relu', padding='same'))\n",
    "\n",
    "model.add(MaxPool2D(pool_size=(2, 2), strides=(1,1)))\n",
    "\n",
    "\n",
    "model.add(Conv2D(filters=32, kernel_size=(3,3), activation='relu', padding='same'))\n",
    "\n",
    "model.add(MaxPool2D(pool_size=(2, 2)))\n",
    "\n",
    "model.add(Flatten())\n",
    "\n",
    "model.add(Dense(128, activation='relu'))\n",
    "model.add(Dense(64, activation='relu'))\n",
    "\n",
    "model.add(Dense(10, activation='softmax'))\n",
    "\n",
    "model.compile(loss='categorical_crossentropy',\n",
    "              optimizer='rmsprop',\n",
    "              metrics=['accuracy'])"
   ]
  },
  {
   "cell_type": "code",
   "execution_count": 31,
   "metadata": {
    "colab": {
     "base_uri": "https://localhost:8080/"
    },
    "id": "_S8D7mI3PeEr",
    "outputId": "df7a39d0-fdda-4f55-a856-da1b231159f8"
   },
   "outputs": [
    {
     "name": "stdout",
     "output_type": "stream",
     "text": [
      "Model: \"sequential\"\n",
      "_________________________________________________________________\n",
      " Layer (type)                Output Shape              Param #   \n",
      "=================================================================\n",
      " conv2d (Conv2D)             (None, 28, 28, 28)        280       \n",
      "                                                                 \n",
      " batch_normalization (BatchN  (None, 28, 28, 28)       112       \n",
      " ormalization)                                                   \n",
      "                                                                 \n",
      " conv2d_1 (Conv2D)           (None, 28, 28, 28)        7084      \n",
      "                                                                 \n",
      " batch_normalization_1 (Batc  (None, 28, 28, 28)       112       \n",
      " hNormalization)                                                 \n",
      "                                                                 \n",
      " max_pooling2d (MaxPooling2D  (None, 14, 14, 28)       0         \n",
      " )                                                               \n",
      "                                                                 \n",
      " dropout (Dropout)           (None, 14, 14, 28)        0         \n",
      "                                                                 \n",
      " conv2d_2 (Conv2D)           (None, 14, 14, 64)        16192     \n",
      "                                                                 \n",
      " batch_normalization_2 (Batc  (None, 14, 14, 64)       256       \n",
      " hNormalization)                                                 \n",
      "                                                                 \n",
      " conv2d_3 (Conv2D)           (None, 14, 14, 64)        36928     \n",
      "                                                                 \n",
      " batch_normalization_3 (Batc  (None, 14, 14, 64)       256       \n",
      " hNormalization)                                                 \n",
      "                                                                 \n",
      " max_pooling2d_1 (MaxPooling  (None, 7, 7, 64)         0         \n",
      " 2D)                                                             \n",
      "                                                                 \n",
      " dropout_1 (Dropout)         (None, 7, 7, 64)          0         \n",
      "                                                                 \n",
      " conv2d_4 (Conv2D)           (None, 7, 7, 128)         73856     \n",
      "                                                                 \n",
      " batch_normalization_4 (Batc  (None, 7, 7, 128)        512       \n",
      " hNormalization)                                                 \n",
      "                                                                 \n",
      " conv2d_5 (Conv2D)           (None, 7, 7, 128)         147584    \n",
      "                                                                 \n",
      " batch_normalization_5 (Batc  (None, 7, 7, 128)        512       \n",
      " hNormalization)                                                 \n",
      "                                                                 \n",
      " max_pooling2d_2 (MaxPooling  (None, 3, 3, 128)        0         \n",
      " 2D)                                                             \n",
      "                                                                 \n",
      " dropout_2 (Dropout)         (None, 3, 3, 128)         0         \n",
      "                                                                 \n",
      " conv2d_6 (Conv2D)           (None, 3, 3, 256)         295168    \n",
      "                                                                 \n",
      " batch_normalization_6 (Batc  (None, 3, 3, 256)        1024      \n",
      " hNormalization)                                                 \n",
      "                                                                 \n",
      " conv2d_7 (Conv2D)           (None, 3, 3, 256)         590080    \n",
      "                                                                 \n",
      " batch_normalization_7 (Batc  (None, 3, 3, 256)        1024      \n",
      " hNormalization)                                                 \n",
      "                                                                 \n",
      " max_pooling2d_3 (MaxPooling  (None, 1, 1, 256)        0         \n",
      " 2D)                                                             \n",
      "                                                                 \n",
      " dropout_3 (Dropout)         (None, 1, 1, 256)         0         \n",
      "                                                                 \n",
      " flatten (Flatten)           (None, 256)               0         \n",
      "                                                                 \n",
      " dense (Dense)               (None, 128)               32896     \n",
      "                                                                 \n",
      " batch_normalization_8 (Batc  (None, 128)              512       \n",
      " hNormalization)                                                 \n",
      "                                                                 \n",
      " dropout_4 (Dropout)         (None, 128)               0         \n",
      "                                                                 \n",
      " dense_1 (Dense)             (None, 64)                8256      \n",
      "                                                                 \n",
      " batch_normalization_9 (Batc  (None, 64)               256       \n",
      " hNormalization)                                                 \n",
      "                                                                 \n",
      " dropout_5 (Dropout)         (None, 64)                0         \n",
      "                                                                 \n",
      " dense_2 (Dense)             (None, 10)                650       \n",
      "                                                                 \n",
      "=================================================================\n",
      "Total params: 1,213,550\n",
      "Trainable params: 1,211,262\n",
      "Non-trainable params: 2,288\n",
      "_________________________________________________________________\n"
     ]
    }
   ],
   "source": [
    "model.summary()"
   ]
  },
  {
   "cell_type": "markdown",
   "metadata": {
    "id": "wmeG6l2KPeEr"
   },
   "source": [
    "##  Model Training \n",
    "\n",
    "**TASK 6: Train/Fit the model to the x_train set by using EarlyStop. Amount of epochs is up to you.**"
   ]
  },
  {
   "cell_type": "code",
   "execution_count": 32,
   "metadata": {
    "id": "q2F74L1aPeEr"
   },
   "outputs": [],
   "source": [
    "from tensorflow.keras.callbacks import EarlyStopping"
   ]
  },
  {
   "cell_type": "code",
   "execution_count": 33,
   "metadata": {
    "id": "bYt8Qa07PeEr"
   },
   "outputs": [],
   "source": [
    "early_stop = EarlyStopping(monitor='val_loss', mode = \"min\", patience=2, restore_best_weights = True)"
   ]
  },
  {
   "cell_type": "code",
   "execution_count": null,
   "metadata": {
    "colab": {
     "base_uri": "https://localhost:8080/"
    },
    "id": "TGoTVmNRPeEr",
    "outputId": "a8d7060d-ed7e-41b6-b449-40abb62e0606"
   },
   "outputs": [
    {
     "name": "stdout",
     "output_type": "stream",
     "text": [
      "Epoch 1/50\n",
      "1875/1875 [==============================] - 176s 92ms/step - loss: 0.9612 - accuracy: 0.6608 - val_loss: 0.4817 - val_accuracy: 0.8148\n",
      "Epoch 2/50\n",
      "1875/1875 [==============================] - 194s 104ms/step - loss: 0.5363 - accuracy: 0.8143 - val_loss: 0.3525 - val_accuracy: 0.8707\n",
      "Epoch 3/50\n",
      "1875/1875 [==============================] - 197s 105ms/step - loss: 0.4402 - accuracy: 0.8546 - val_loss: 0.3084 - val_accuracy: 0.8925\n",
      "Epoch 4/50\n",
      "1875/1875 [==============================] - 206s 110ms/step - loss: 0.3979 - accuracy: 0.8700 - val_loss: 0.2855 - val_accuracy: 0.8995\n",
      "Epoch 5/50\n",
      "1875/1875 [==============================] - 209s 112ms/step - loss: 0.3629 - accuracy: 0.8807 - val_loss: 0.2693 - val_accuracy: 0.9046\n",
      "Epoch 6/50\n",
      "1875/1875 [==============================] - 205s 109ms/step - loss: 0.3438 - accuracy: 0.8873 - val_loss: 0.3110 - val_accuracy: 0.8852\n",
      "Epoch 7/50\n",
      "1875/1875 [==============================] - 202s 108ms/step - loss: 0.3250 - accuracy: 0.8935 - val_loss: 0.2433 - val_accuracy: 0.9133\n",
      "Epoch 8/50\n",
      "1875/1875 [==============================] - 221s 118ms/step - loss: 0.3091 - accuracy: 0.8985 - val_loss: 0.2396 - val_accuracy: 0.9150\n",
      "Epoch 9/50\n",
      "1788/1875 [===========================>..] - ETA: 3:03 - loss: 0.2978 - accuracy: 0.9011"
     ]
    }
   ],
   "source": [
    "model.fit(X_train, Y_train, batch_size=32, epochs=50, validation_data=(X_test,Y_test),callbacks=[early_stop])"
   ]
  },
  {
   "cell_type": "code",
   "execution_count": null,
   "metadata": {
    "colab": {
     "base_uri": "https://localhost:8080/"
    },
    "id": "qnrBJvDMPeEs",
    "outputId": "5f7f8101-1df8-4735-db11-85bf166fd6c8"
   },
   "outputs": [],
   "source": [
    "X_train.shape"
   ]
  },
  {
   "cell_type": "code",
   "execution_count": null,
   "metadata": {
    "colab": {
     "base_uri": "https://localhost:8080/"
    },
    "id": "dwSH0NZnPeEs",
    "outputId": "a57b52da-6f7a-4454-83ed-a88301815d92"
   },
   "outputs": [],
   "source": [
    "Y_train.shape"
   ]
  },
  {
   "cell_type": "code",
   "execution_count": null,
   "metadata": {
    "id": "ki2bxgzWPeEs"
   },
   "outputs": [],
   "source": []
  },
  {
   "cell_type": "markdown",
   "metadata": {
    "id": "dz2z5OpZPeEs"
   },
   "source": [
    "**TASK 7: Plot values of metrics you used in your model.**"
   ]
  },
  {
   "cell_type": "code",
   "execution_count": null,
   "metadata": {
    "colab": {
     "base_uri": "https://localhost:8080/"
    },
    "id": "8QWQNYcUPeEs",
    "outputId": "a778d0b7-4ce2-471e-c570-f40263b9cf0a"
   },
   "outputs": [],
   "source": [
    "model.metrics_names"
   ]
  },
  {
   "cell_type": "code",
   "execution_count": null,
   "metadata": {
    "colab": {
     "base_uri": "https://localhost:8080/",
     "height": 269
    },
    "id": "_2MUY4jxPeEs",
    "outputId": "13127dde-5124-481c-b354-cfb2e43c8453"
   },
   "outputs": [],
   "source": [
    "summary = pd.DataFrame(model.history.history)\n",
    "summary.head(7)"
   ]
  },
  {
   "cell_type": "code",
   "execution_count": null,
   "metadata": {
    "colab": {
     "base_uri": "https://localhost:8080/",
     "height": 523
    },
    "id": "ni6uqyRAPeEs",
    "outputId": "b876511d-8cd5-429e-f92a-5cfc0f93a13e"
   },
   "outputs": [],
   "source": [
    "summary[[\"loss\", \"val_loss\"]].plot();"
   ]
  },
  {
   "cell_type": "code",
   "execution_count": null,
   "metadata": {
    "colab": {
     "base_uri": "https://localhost:8080/",
     "height": 522
    },
    "id": "CowwwtQOPeEs",
    "outputId": "52fa0952-2090-4cf1-9835-487c154f925e"
   },
   "outputs": [],
   "source": [
    "summary[[\"accuracy\", \"val_accuracy\"]].plot();"
   ]
  },
  {
   "cell_type": "markdown",
   "metadata": {
    "id": "ch_koR-MPeEs"
   },
   "source": [
    "## Model Evaluation\n",
    "\n",
    "**TASK 8: Show the accuracy,precision,recall,f1-score the model achieved on the x_test data set. Keep in mind, there are quite a few ways to do this, but we recommend following the same procedure we showed in the MNIST lecture.**"
   ]
  },
  {
   "cell_type": "code",
   "execution_count": null,
   "metadata": {
    "id": "AhSG6R5wPeEt"
   },
   "outputs": [],
   "source": [
    "from sklearn.metrics import classification_report, confusion_matrix"
   ]
  },
  {
   "cell_type": "code",
   "execution_count": null,
   "metadata": {
    "colab": {
     "base_uri": "https://localhost:8080/"
    },
    "id": "aeBsAK9yPeEt",
    "outputId": "fa87cfc5-82a8-4bcc-8469-feba0ae59168"
   },
   "outputs": [],
   "source": [
    "model.evaluate(X_test, Y_test)"
   ]
  },
  {
   "cell_type": "code",
   "execution_count": null,
   "metadata": {
    "colab": {
     "base_uri": "https://localhost:8080/"
    },
    "id": "zntjUW9hPeEt",
    "outputId": "88e9766a-e801-4bca-a0db-ca66d75d4485"
   },
   "outputs": [],
   "source": [
    "score = model.evaluate(X_test, Y_test, verbose=0)\n",
    "print('Test loss:', score[0])\n",
    "print('Test accuracy:', score[1])"
   ]
  },
  {
   "cell_type": "code",
   "execution_count": null,
   "metadata": {
    "colab": {
     "base_uri": "https://localhost:8080/"
    },
    "id": "Sm45K5EFPeEt",
    "outputId": "bbd593b7-c37a-4a1d-a152-9eaf7d051ec7"
   },
   "outputs": [],
   "source": [
    "pred_prob = model.predict(X_test)\n",
    "pred_prob"
   ]
  },
  {
   "cell_type": "code",
   "execution_count": null,
   "metadata": {
    "id": "d94zlWjWPeEt"
   },
   "outputs": [],
   "source": [
    "y_pred = np.argmax(pred_prob, axis=1)"
   ]
  },
  {
   "cell_type": "code",
   "execution_count": null,
   "metadata": {
    "colab": {
     "base_uri": "https://localhost:8080/"
    },
    "id": "wyW2LtiGPeEt",
    "outputId": "2caa031f-401f-4258-aeb5-ac394c1da57d"
   },
   "outputs": [],
   "source": [
    "y_pred"
   ]
  },
  {
   "cell_type": "code",
   "execution_count": null,
   "metadata": {
    "colab": {
     "base_uri": "https://localhost:8080/"
    },
    "id": "ngkoFZrrPeEt",
    "outputId": "df2b4422-b0fd-4494-c880-d4e7867bf235"
   },
   "outputs": [],
   "source": [
    "print(classification_report(y_test, y_pred))"
   ]
  },
  {
   "cell_type": "code",
   "execution_count": null,
   "metadata": {
    "colab": {
     "base_uri": "https://localhost:8080/"
    },
    "id": "6EUNkEaHPeEt",
    "outputId": "fd043e4f-7e20-4922-cc7d-cb0b5bbe7ab1"
   },
   "outputs": [],
   "source": [
    "classes"
   ]
  },
  {
   "cell_type": "code",
   "execution_count": null,
   "metadata": {
    "colab": {
     "base_uri": "https://localhost:8080/"
    },
    "id": "srrtdaBXPeEt",
    "outputId": "d897ced7-e500-436c-a517-7557627ec161"
   },
   "outputs": [],
   "source": [
    "print(confusion_matrix(y_test, y_pred))"
   ]
  },
  {
   "cell_type": "code",
   "execution_count": null,
   "metadata": {
    "colab": {
     "base_uri": "https://localhost:8080/",
     "height": 867
    },
    "id": "GSFZ-n1UPeEt",
    "outputId": "7defbe82-9eb6-4590-a29d-ca3ebd42e7cd"
   },
   "outputs": [],
   "source": [
    "plt.figure(figsize=(15,10))\n",
    "sns.heatmap(confusion_matrix(y_test, y_pred), annot=True, cmap=\"Blues\", linewidths=.5, linecolor='black', fmt='g', annot_kws = {\"size\": 15})"
   ]
  },
  {
   "cell_type": "markdown",
   "metadata": {
    "id": "gFPcDLGXiMSP"
   },
   "source": [
    "##Prediction"
   ]
  },
  {
   "cell_type": "code",
   "execution_count": null,
   "metadata": {
    "id": "WYAUKA02PeEu"
   },
   "outputs": [],
   "source": [
    "my_image = X_test[52]"
   ]
  },
  {
   "cell_type": "code",
   "execution_count": null,
   "metadata": {
    "colab": {
     "base_uri": "https://localhost:8080/"
    },
    "id": "KS30tKPYiVDZ",
    "outputId": "e3f990a6-add1-4f15-dd0f-450fa98a41e9"
   },
   "outputs": [],
   "source": [
    "my_image.shape"
   ]
  },
  {
   "cell_type": "code",
   "execution_count": null,
   "metadata": {
    "colab": {
     "base_uri": "https://localhost:8080/",
     "height": 539
    },
    "id": "zbD8DN1UiVGZ",
    "outputId": "55457382-44ac-4800-95d8-584727a11948"
   },
   "outputs": [],
   "source": [
    "plt.imshow(my_image)"
   ]
  },
  {
   "cell_type": "code",
   "execution_count": null,
   "metadata": {
    "colab": {
     "base_uri": "https://localhost:8080/"
    },
    "id": "u1VNbg6IiVJQ",
    "outputId": "b6b35fae-75c6-4f6d-97d1-488450884ebf"
   },
   "outputs": [],
   "source": [
    "image_prediction = model.predict(my_image.reshape(1, 28, 28, 1))"
   ]
  },
  {
   "cell_type": "code",
   "execution_count": null,
   "metadata": {
    "colab": {
     "base_uri": "https://localhost:8080/"
    },
    "id": "4WyLPzMpiulT",
    "outputId": "1b15e1ed-bda3-4e4d-9f1c-14035c0ccdfd"
   },
   "outputs": [],
   "source": [
    "image_prediction"
   ]
  },
  {
   "cell_type": "code",
   "execution_count": null,
   "metadata": {
    "colab": {
     "base_uri": "https://localhost:8080/"
    },
    "id": "pW8eRydtiuov",
    "outputId": "713a7ef4-c5ae-49dc-8c5d-c38f68537155"
   },
   "outputs": [],
   "source": [
    "np.argmax(image_prediction, axis=1)"
   ]
  },
  {
   "cell_type": "code",
   "execution_count": null,
   "metadata": {
    "id": "ZN1Va_-zi5f6"
   },
   "outputs": [],
   "source": [
    "result=np.argmax(image_prediction, axis=1)"
   ]
  },
  {
   "cell_type": "code",
   "execution_count": null,
   "metadata": {
    "colab": {
     "base_uri": "https://localhost:8080/"
    },
    "id": "X__1uj2qi5in",
    "outputId": "52329122-b220-4860-e739-54b3ec3532d4"
   },
   "outputs": [],
   "source": [
    "result"
   ]
  },
  {
   "cell_type": "code",
   "execution_count": null,
   "metadata": {
    "colab": {
     "base_uri": "https://localhost:8080/",
     "height": 36
    },
    "id": "xqc7Bp4Zi5lD",
    "outputId": "68e3f1e4-6446-4989-b102-d05a23e666d3"
   },
   "outputs": [],
   "source": [
    "classes[int(result)]"
   ]
  },
  {
   "cell_type": "code",
   "execution_count": null,
   "metadata": {
    "colab": {
     "base_uri": "https://localhost:8080/"
    },
    "id": "cTUfVB1mi5np",
    "outputId": "c6b1bab9-029b-4103-d49c-151b42bb84b6"
   },
   "outputs": [],
   "source": [
    "y_test[52]"
   ]
  },
  {
   "cell_type": "code",
   "execution_count": null,
   "metadata": {
    "id": "00zpN0n7itZA"
   },
   "outputs": [],
   "source": [
    "model.save(\"fashion.h5\")"
   ]
  },
  {
   "cell_type": "markdown",
   "metadata": {
    "id": "Ni6NyAErjlaz"
   },
   "source": [
    "## Load the Saved Model and Get Predictions"
   ]
  },
  {
   "cell_type": "code",
   "execution_count": null,
   "metadata": {
    "id": "f8tUsmH_jkrh"
   },
   "outputs": [],
   "source": [
    "model = tf.keras.models.load_model('fashion.h5')"
   ]
  },
  {
   "cell_type": "code",
   "execution_count": null,
   "metadata": {
    "colab": {
     "base_uri": "https://localhost:8080/"
    },
    "id": "vGq28PAkjkur",
    "outputId": "4855f49b-09c3-43cb-dbb7-72a35c4ee509"
   },
   "outputs": [],
   "source": [
    "X_test[217].shape"
   ]
  },
  {
   "cell_type": "code",
   "execution_count": null,
   "metadata": {
    "colab": {
     "base_uri": "https://localhost:8080/"
    },
    "id": "9ztn5l-ojkxX",
    "outputId": "6017e13f-010f-48cc-de7a-eee979745498"
   },
   "outputs": [],
   "source": [
    "np.expand_dims(X_test[217],axis=0).shape"
   ]
  },
  {
   "cell_type": "code",
   "execution_count": null,
   "metadata": {
    "colab": {
     "base_uri": "https://localhost:8080/"
    },
    "id": "ong05OP1jk0E",
    "outputId": "0a713210-7482-4dc2-ca43-2ba8489c0a87"
   },
   "outputs": [],
   "source": [
    "pred=model.predict(np.expand_dims(X_test[217],axis=0))"
   ]
  },
  {
   "cell_type": "code",
   "execution_count": null,
   "metadata": {
    "colab": {
     "base_uri": "https://localhost:8080/"
    },
    "id": "CoWnQ03fkMxB",
    "outputId": "aa8b9ef3-5ae9-4433-bde8-1c1ec866cf9b"
   },
   "outputs": [],
   "source": [
    "np.argmax(pred)"
   ]
  },
  {
   "cell_type": "code",
   "execution_count": null,
   "metadata": {
    "colab": {
     "base_uri": "https://localhost:8080/",
     "height": 539
    },
    "id": "hxuLte-IkMz5",
    "outputId": "2837c549-64a5-4faa-af4b-464333bd962e"
   },
   "outputs": [],
   "source": [
    "plt.imshow(X_test[217])"
   ]
  },
  {
   "cell_type": "code",
   "execution_count": null,
   "metadata": {
    "colab": {
     "base_uri": "https://localhost:8080/",
     "height": 36
    },
    "id": "mQwPWUoRkSCC",
    "outputId": "048119a6-f7a0-4c34-fc2e-8eaa0b9b6f74"
   },
   "outputs": [],
   "source": [
    "classes[6]"
   ]
  },
  {
   "cell_type": "code",
   "execution_count": null,
   "metadata": {
    "colab": {
     "base_uri": "https://localhost:8080/"
    },
    "id": "aHTN-5k5klc0",
    "outputId": "b1436519-2f77-45c5-92e7-622e26bb55d7"
   },
   "outputs": [],
   "source": [
    "y_test[217]"
   ]
  },
  {
   "cell_type": "markdown",
   "metadata": {
    "id": "4M0PdxcUkupt"
   },
   "source": [
    "# End of Assignment"
   ]
  }
 ],
 "metadata": {
  "accelerator": "GPU",
  "colab": {
   "gpuType": "T4",
   "provenance": [],
   "toc_visible": true
  },
  "gpuClass": "standard",
  "kernelspec": {
   "display_name": "Python 3 (ipykernel)",
   "language": "python",
   "name": "python3"
  },
  "language_info": {
   "codemirror_mode": {
    "name": "ipython",
    "version": 3
   },
   "file_extension": ".py",
   "mimetype": "text/x-python",
   "name": "python",
   "nbconvert_exporter": "python",
   "pygments_lexer": "ipython3",
   "version": "3.10.9"
  },
  "toc": {
   "base_numbering": 1,
   "nav_menu": {},
   "number_sections": false,
   "sideBar": true,
   "skip_h1_title": false,
   "title_cell": "Table of Contents",
   "title_sidebar": "Contents",
   "toc_cell": false,
   "toc_position": {},
   "toc_section_display": true,
   "toc_window_display": true
  }
 },
 "nbformat": 4,
 "nbformat_minor": 1
}
